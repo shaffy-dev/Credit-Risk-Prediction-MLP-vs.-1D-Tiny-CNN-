{
  "nbformat": 4,
  "nbformat_minor": 0,
  "metadata": {
    "colab": {
      "provenance": [],
      "gpuType": "T4",
      "include_colab_link": true
    },
    "kernelspec": {
      "name": "python3",
      "display_name": "Python 3"
    },
    "language_info": {
      "name": "python"
    },
    "accelerator": "GPU"
  },
  "cells": [
    {
      "cell_type": "markdown",
      "metadata": {
        "id": "view-in-github",
        "colab_type": "text"
      },
      "source": [
        "<a href=\"https://colab.research.google.com/github/shaffy-dev/Credit-Risk-Prediction-MLP-vs.-1D-Tiny-CNN-/blob/main/MLP.ipynb\" target=\"_parent\"><img src=\"https://colab.research.google.com/assets/colab-badge.svg\" alt=\"Open In Colab\"/></a>"
      ]
    },
    {
      "cell_type": "markdown",
      "source": [
        "# **Stage 2: Predictive Analysis**"
      ],
      "metadata": {
        "id": "h5DgEckzqkLa"
      }
    },
    {
      "cell_type": "markdown",
      "source": [
        "## **Process Two: Multiayer Perceptron (MLP)**"
      ],
      "metadata": {
        "id": "sN6yw3gqqraZ"
      }
    },
    {
      "cell_type": "code",
      "execution_count": null,
      "metadata": {
        "colab": {
          "base_uri": "https://localhost:8080/"
        },
        "id": "JxZWR7YomMgK",
        "outputId": "c648963a-a59e-481d-f158-054ec98e3bce"
      },
      "outputs": [
        {
          "output_type": "stream",
          "name": "stdout",
          "text": [
            "Mounted at /content/drive\n"
          ]
        }
      ],
      "source": [
        "from google.colab import drive\n",
        "drive.mount('/content/drive')"
      ]
    },
    {
      "cell_type": "markdown",
      "source": [
        "___\n",
        "1. ### Import Libraries for MLP Model  \n",
        "This cell brings in all the packages we’ll need to load data, split it, plot results, calculate metrics, and build/train our multi-layer perceptron (MLP) with Keras.\n"
      ],
      "metadata": {
        "id": "qdUci0F60ijI"
      }
    },
    {
      "cell_type": "code",
      "source": [
        "import pandas as pd\n",
        "import numpy as np\n",
        "import matplotlib.pyplot as plt\n",
        "from sklearn.model_selection import train_test_split\n",
        "from sklearn.metrics import roc_curve, auc, confusion_matrix, ConfusionMatrixDisplay, precision_recall_curve, precision_score, recall_score, f1_score, accuracy_score\n",
        "import tensorflow as tf\n",
        "from tensorflow.keras import layers, models, optimizers, metrics, callbacks"
      ],
      "metadata": {
        "id": "VhbLwUNWmiWZ"
      },
      "execution_count": null,
      "outputs": []
    },
    {
      "cell_type": "markdown",
      "source": [
        "___\n",
        "2. ### Load Raw Data and Inspect  \n",
        "This cell clears any existing Keras session, reads the raw CSV into a DataFrame, prints its size and the proportion of default vs. non-default loans, and shows the first few rows to verify the load.\n"
      ],
      "metadata": {
        "id": "TRID7u7h6LsC"
      }
    },
    {
      "cell_type": "code",
      "source": [
        "# Clear previous TensorFlow models from memory\n",
        "tf.keras.backend.clear_session()\n",
        "\n",
        "# Load the raw loan data from Google Drive\n",
        "DATA_PATH = '/content/drive/MyDrive/cs_project/data.csv'\n",
        "df = pd.read_csv(DATA_PATH)\n",
        "\n",
        "# Print number of rows and columns for a quick sanity check\n",
        "print(f\"Loaded DataFrame: {df.shape[0]:,} rows × {df.shape[1]} columns\")\n",
        "\n",
        "# Show class balance for the target column\n",
        "LABEL_COL = 'default_ind'\n",
        "print(\"\\nClass distribution:\")\n",
        "print(df[LABEL_COL].value_counts(normalize=True).round(3))\n",
        "print(\"\")\n",
        "\n",
        "# Display the first five rows to verify content\n",
        "df.head()\n"
      ],
      "metadata": {
        "colab": {
          "base_uri": "https://localhost:8080/",
          "height": 515
        },
        "id": "lSe6eBg6m37M",
        "outputId": "e4a79708-338a-4840-c8a5-6b21b7d3f0fc"
      },
      "execution_count": null,
      "outputs": [
        {
          "output_type": "stream",
          "name": "stderr",
          "text": [
            "<ipython-input-3-bb536c1be0c7>:6: DtypeWarning: Columns (17,45,53) have mixed types. Specify dtype option on import or set low_memory=False.\n",
            "  df = pd.read_csv(DATA_PATH)\n"
          ]
        },
        {
          "output_type": "stream",
          "name": "stdout",
          "text": [
            "Loaded DataFrame: 855,969 rows × 73 columns\n",
            "\n",
            "Class distribution:\n",
            "default_ind\n",
            "0    0.946\n",
            "1    0.054\n",
            "Name: proportion, dtype: float64\n",
            "\n"
          ]
        },
        {
          "output_type": "execute_result",
          "data": {
            "text/plain": [
              "        id  member_id  loan_amnt  funded_amnt  funded_amnt_inv        term  \\\n",
              "0  1077501    1296599       5000         5000           4975.0   36 months   \n",
              "1  1077430    1314167       2500         2500           2500.0   60 months   \n",
              "2  1077175    1313524       2400         2400           2400.0   36 months   \n",
              "3  1076863    1277178      10000        10000          10000.0   36 months   \n",
              "4  1075358    1311748       3000         3000           3000.0   60 months   \n",
              "\n",
              "   int_rate  installment grade sub_grade  ... il_util open_rv_12m open_rv_24m  \\\n",
              "0     10.65       162.87     B        B2  ...     NaN         NaN         NaN   \n",
              "1     15.27        59.83     C        C4  ...     NaN         NaN         NaN   \n",
              "2     15.96        84.33     C        C5  ...     NaN         NaN         NaN   \n",
              "3     13.49       339.31     C        C1  ...     NaN         NaN         NaN   \n",
              "4     12.69        67.79     B        B5  ...     NaN         NaN         NaN   \n",
              "\n",
              "   max_bal_bc all_util total_rev_hi_lim inq_fi total_cu_tl inq_last_12m  \\\n",
              "0         NaN      NaN              NaN    NaN         NaN          NaN   \n",
              "1         NaN      NaN              NaN    NaN         NaN          NaN   \n",
              "2         NaN      NaN              NaN    NaN         NaN          NaN   \n",
              "3         NaN      NaN              NaN    NaN         NaN          NaN   \n",
              "4         NaN      NaN              NaN    NaN         NaN          NaN   \n",
              "\n",
              "  default_ind  \n",
              "0           0  \n",
              "1           1  \n",
              "2           0  \n",
              "3           0  \n",
              "4           0  \n",
              "\n",
              "[5 rows x 73 columns]"
            ],
            "text/html": [
              "\n",
              "  <div id=\"df-857145ae-ce33-40c0-bc35-dfdf7f45b055\" class=\"colab-df-container\">\n",
              "    <div>\n",
              "<style scoped>\n",
              "    .dataframe tbody tr th:only-of-type {\n",
              "        vertical-align: middle;\n",
              "    }\n",
              "\n",
              "    .dataframe tbody tr th {\n",
              "        vertical-align: top;\n",
              "    }\n",
              "\n",
              "    .dataframe thead th {\n",
              "        text-align: right;\n",
              "    }\n",
              "</style>\n",
              "<table border=\"1\" class=\"dataframe\">\n",
              "  <thead>\n",
              "    <tr style=\"text-align: right;\">\n",
              "      <th></th>\n",
              "      <th>id</th>\n",
              "      <th>member_id</th>\n",
              "      <th>loan_amnt</th>\n",
              "      <th>funded_amnt</th>\n",
              "      <th>funded_amnt_inv</th>\n",
              "      <th>term</th>\n",
              "      <th>int_rate</th>\n",
              "      <th>installment</th>\n",
              "      <th>grade</th>\n",
              "      <th>sub_grade</th>\n",
              "      <th>...</th>\n",
              "      <th>il_util</th>\n",
              "      <th>open_rv_12m</th>\n",
              "      <th>open_rv_24m</th>\n",
              "      <th>max_bal_bc</th>\n",
              "      <th>all_util</th>\n",
              "      <th>total_rev_hi_lim</th>\n",
              "      <th>inq_fi</th>\n",
              "      <th>total_cu_tl</th>\n",
              "      <th>inq_last_12m</th>\n",
              "      <th>default_ind</th>\n",
              "    </tr>\n",
              "  </thead>\n",
              "  <tbody>\n",
              "    <tr>\n",
              "      <th>0</th>\n",
              "      <td>1077501</td>\n",
              "      <td>1296599</td>\n",
              "      <td>5000</td>\n",
              "      <td>5000</td>\n",
              "      <td>4975.0</td>\n",
              "      <td>36 months</td>\n",
              "      <td>10.65</td>\n",
              "      <td>162.87</td>\n",
              "      <td>B</td>\n",
              "      <td>B2</td>\n",
              "      <td>...</td>\n",
              "      <td>NaN</td>\n",
              "      <td>NaN</td>\n",
              "      <td>NaN</td>\n",
              "      <td>NaN</td>\n",
              "      <td>NaN</td>\n",
              "      <td>NaN</td>\n",
              "      <td>NaN</td>\n",
              "      <td>NaN</td>\n",
              "      <td>NaN</td>\n",
              "      <td>0</td>\n",
              "    </tr>\n",
              "    <tr>\n",
              "      <th>1</th>\n",
              "      <td>1077430</td>\n",
              "      <td>1314167</td>\n",
              "      <td>2500</td>\n",
              "      <td>2500</td>\n",
              "      <td>2500.0</td>\n",
              "      <td>60 months</td>\n",
              "      <td>15.27</td>\n",
              "      <td>59.83</td>\n",
              "      <td>C</td>\n",
              "      <td>C4</td>\n",
              "      <td>...</td>\n",
              "      <td>NaN</td>\n",
              "      <td>NaN</td>\n",
              "      <td>NaN</td>\n",
              "      <td>NaN</td>\n",
              "      <td>NaN</td>\n",
              "      <td>NaN</td>\n",
              "      <td>NaN</td>\n",
              "      <td>NaN</td>\n",
              "      <td>NaN</td>\n",
              "      <td>1</td>\n",
              "    </tr>\n",
              "    <tr>\n",
              "      <th>2</th>\n",
              "      <td>1077175</td>\n",
              "      <td>1313524</td>\n",
              "      <td>2400</td>\n",
              "      <td>2400</td>\n",
              "      <td>2400.0</td>\n",
              "      <td>36 months</td>\n",
              "      <td>15.96</td>\n",
              "      <td>84.33</td>\n",
              "      <td>C</td>\n",
              "      <td>C5</td>\n",
              "      <td>...</td>\n",
              "      <td>NaN</td>\n",
              "      <td>NaN</td>\n",
              "      <td>NaN</td>\n",
              "      <td>NaN</td>\n",
              "      <td>NaN</td>\n",
              "      <td>NaN</td>\n",
              "      <td>NaN</td>\n",
              "      <td>NaN</td>\n",
              "      <td>NaN</td>\n",
              "      <td>0</td>\n",
              "    </tr>\n",
              "    <tr>\n",
              "      <th>3</th>\n",
              "      <td>1076863</td>\n",
              "      <td>1277178</td>\n",
              "      <td>10000</td>\n",
              "      <td>10000</td>\n",
              "      <td>10000.0</td>\n",
              "      <td>36 months</td>\n",
              "      <td>13.49</td>\n",
              "      <td>339.31</td>\n",
              "      <td>C</td>\n",
              "      <td>C1</td>\n",
              "      <td>...</td>\n",
              "      <td>NaN</td>\n",
              "      <td>NaN</td>\n",
              "      <td>NaN</td>\n",
              "      <td>NaN</td>\n",
              "      <td>NaN</td>\n",
              "      <td>NaN</td>\n",
              "      <td>NaN</td>\n",
              "      <td>NaN</td>\n",
              "      <td>NaN</td>\n",
              "      <td>0</td>\n",
              "    </tr>\n",
              "    <tr>\n",
              "      <th>4</th>\n",
              "      <td>1075358</td>\n",
              "      <td>1311748</td>\n",
              "      <td>3000</td>\n",
              "      <td>3000</td>\n",
              "      <td>3000.0</td>\n",
              "      <td>60 months</td>\n",
              "      <td>12.69</td>\n",
              "      <td>67.79</td>\n",
              "      <td>B</td>\n",
              "      <td>B5</td>\n",
              "      <td>...</td>\n",
              "      <td>NaN</td>\n",
              "      <td>NaN</td>\n",
              "      <td>NaN</td>\n",
              "      <td>NaN</td>\n",
              "      <td>NaN</td>\n",
              "      <td>NaN</td>\n",
              "      <td>NaN</td>\n",
              "      <td>NaN</td>\n",
              "      <td>NaN</td>\n",
              "      <td>0</td>\n",
              "    </tr>\n",
              "  </tbody>\n",
              "</table>\n",
              "<p>5 rows × 73 columns</p>\n",
              "</div>\n",
              "    <div class=\"colab-df-buttons\">\n",
              "\n",
              "  <div class=\"colab-df-container\">\n",
              "    <button class=\"colab-df-convert\" onclick=\"convertToInteractive('df-857145ae-ce33-40c0-bc35-dfdf7f45b055')\"\n",
              "            title=\"Convert this dataframe to an interactive table.\"\n",
              "            style=\"display:none;\">\n",
              "\n",
              "  <svg xmlns=\"http://www.w3.org/2000/svg\" height=\"24px\" viewBox=\"0 -960 960 960\">\n",
              "    <path d=\"M120-120v-720h720v720H120Zm60-500h600v-160H180v160Zm220 220h160v-160H400v160Zm0 220h160v-160H400v160ZM180-400h160v-160H180v160Zm440 0h160v-160H620v160ZM180-180h160v-160H180v160Zm440 0h160v-160H620v160Z\"/>\n",
              "  </svg>\n",
              "    </button>\n",
              "\n",
              "  <style>\n",
              "    .colab-df-container {\n",
              "      display:flex;\n",
              "      gap: 12px;\n",
              "    }\n",
              "\n",
              "    .colab-df-convert {\n",
              "      background-color: #E8F0FE;\n",
              "      border: none;\n",
              "      border-radius: 50%;\n",
              "      cursor: pointer;\n",
              "      display: none;\n",
              "      fill: #1967D2;\n",
              "      height: 32px;\n",
              "      padding: 0 0 0 0;\n",
              "      width: 32px;\n",
              "    }\n",
              "\n",
              "    .colab-df-convert:hover {\n",
              "      background-color: #E2EBFA;\n",
              "      box-shadow: 0px 1px 2px rgba(60, 64, 67, 0.3), 0px 1px 3px 1px rgba(60, 64, 67, 0.15);\n",
              "      fill: #174EA6;\n",
              "    }\n",
              "\n",
              "    .colab-df-buttons div {\n",
              "      margin-bottom: 4px;\n",
              "    }\n",
              "\n",
              "    [theme=dark] .colab-df-convert {\n",
              "      background-color: #3B4455;\n",
              "      fill: #D2E3FC;\n",
              "    }\n",
              "\n",
              "    [theme=dark] .colab-df-convert:hover {\n",
              "      background-color: #434B5C;\n",
              "      box-shadow: 0px 1px 3px 1px rgba(0, 0, 0, 0.15);\n",
              "      filter: drop-shadow(0px 1px 2px rgba(0, 0, 0, 0.3));\n",
              "      fill: #FFFFFF;\n",
              "    }\n",
              "  </style>\n",
              "\n",
              "    <script>\n",
              "      const buttonEl =\n",
              "        document.querySelector('#df-857145ae-ce33-40c0-bc35-dfdf7f45b055 button.colab-df-convert');\n",
              "      buttonEl.style.display =\n",
              "        google.colab.kernel.accessAllowed ? 'block' : 'none';\n",
              "\n",
              "      async function convertToInteractive(key) {\n",
              "        const element = document.querySelector('#df-857145ae-ce33-40c0-bc35-dfdf7f45b055');\n",
              "        const dataTable =\n",
              "          await google.colab.kernel.invokeFunction('convertToInteractive',\n",
              "                                                    [key], {});\n",
              "        if (!dataTable) return;\n",
              "\n",
              "        const docLinkHtml = 'Like what you see? Visit the ' +\n",
              "          '<a target=\"_blank\" href=https://colab.research.google.com/notebooks/data_table.ipynb>data table notebook</a>'\n",
              "          + ' to learn more about interactive tables.';\n",
              "        element.innerHTML = '';\n",
              "        dataTable['output_type'] = 'display_data';\n",
              "        await google.colab.output.renderOutput(dataTable, element);\n",
              "        const docLink = document.createElement('div');\n",
              "        docLink.innerHTML = docLinkHtml;\n",
              "        element.appendChild(docLink);\n",
              "      }\n",
              "    </script>\n",
              "  </div>\n",
              "\n",
              "\n",
              "    <div id=\"df-bd8c7e10-3531-4a6b-b1e1-8d5acc2fca74\">\n",
              "      <button class=\"colab-df-quickchart\" onclick=\"quickchart('df-bd8c7e10-3531-4a6b-b1e1-8d5acc2fca74')\"\n",
              "                title=\"Suggest charts\"\n",
              "                style=\"display:none;\">\n",
              "\n",
              "<svg xmlns=\"http://www.w3.org/2000/svg\" height=\"24px\"viewBox=\"0 0 24 24\"\n",
              "     width=\"24px\">\n",
              "    <g>\n",
              "        <path d=\"M19 3H5c-1.1 0-2 .9-2 2v14c0 1.1.9 2 2 2h14c1.1 0 2-.9 2-2V5c0-1.1-.9-2-2-2zM9 17H7v-7h2v7zm4 0h-2V7h2v10zm4 0h-2v-4h2v4z\"/>\n",
              "    </g>\n",
              "</svg>\n",
              "      </button>\n",
              "\n",
              "<style>\n",
              "  .colab-df-quickchart {\n",
              "      --bg-color: #E8F0FE;\n",
              "      --fill-color: #1967D2;\n",
              "      --hover-bg-color: #E2EBFA;\n",
              "      --hover-fill-color: #174EA6;\n",
              "      --disabled-fill-color: #AAA;\n",
              "      --disabled-bg-color: #DDD;\n",
              "  }\n",
              "\n",
              "  [theme=dark] .colab-df-quickchart {\n",
              "      --bg-color: #3B4455;\n",
              "      --fill-color: #D2E3FC;\n",
              "      --hover-bg-color: #434B5C;\n",
              "      --hover-fill-color: #FFFFFF;\n",
              "      --disabled-bg-color: #3B4455;\n",
              "      --disabled-fill-color: #666;\n",
              "  }\n",
              "\n",
              "  .colab-df-quickchart {\n",
              "    background-color: var(--bg-color);\n",
              "    border: none;\n",
              "    border-radius: 50%;\n",
              "    cursor: pointer;\n",
              "    display: none;\n",
              "    fill: var(--fill-color);\n",
              "    height: 32px;\n",
              "    padding: 0;\n",
              "    width: 32px;\n",
              "  }\n",
              "\n",
              "  .colab-df-quickchart:hover {\n",
              "    background-color: var(--hover-bg-color);\n",
              "    box-shadow: 0 1px 2px rgba(60, 64, 67, 0.3), 0 1px 3px 1px rgba(60, 64, 67, 0.15);\n",
              "    fill: var(--button-hover-fill-color);\n",
              "  }\n",
              "\n",
              "  .colab-df-quickchart-complete:disabled,\n",
              "  .colab-df-quickchart-complete:disabled:hover {\n",
              "    background-color: var(--disabled-bg-color);\n",
              "    fill: var(--disabled-fill-color);\n",
              "    box-shadow: none;\n",
              "  }\n",
              "\n",
              "  .colab-df-spinner {\n",
              "    border: 2px solid var(--fill-color);\n",
              "    border-color: transparent;\n",
              "    border-bottom-color: var(--fill-color);\n",
              "    animation:\n",
              "      spin 1s steps(1) infinite;\n",
              "  }\n",
              "\n",
              "  @keyframes spin {\n",
              "    0% {\n",
              "      border-color: transparent;\n",
              "      border-bottom-color: var(--fill-color);\n",
              "      border-left-color: var(--fill-color);\n",
              "    }\n",
              "    20% {\n",
              "      border-color: transparent;\n",
              "      border-left-color: var(--fill-color);\n",
              "      border-top-color: var(--fill-color);\n",
              "    }\n",
              "    30% {\n",
              "      border-color: transparent;\n",
              "      border-left-color: var(--fill-color);\n",
              "      border-top-color: var(--fill-color);\n",
              "      border-right-color: var(--fill-color);\n",
              "    }\n",
              "    40% {\n",
              "      border-color: transparent;\n",
              "      border-right-color: var(--fill-color);\n",
              "      border-top-color: var(--fill-color);\n",
              "    }\n",
              "    60% {\n",
              "      border-color: transparent;\n",
              "      border-right-color: var(--fill-color);\n",
              "    }\n",
              "    80% {\n",
              "      border-color: transparent;\n",
              "      border-right-color: var(--fill-color);\n",
              "      border-bottom-color: var(--fill-color);\n",
              "    }\n",
              "    90% {\n",
              "      border-color: transparent;\n",
              "      border-bottom-color: var(--fill-color);\n",
              "    }\n",
              "  }\n",
              "</style>\n",
              "\n",
              "      <script>\n",
              "        async function quickchart(key) {\n",
              "          const quickchartButtonEl =\n",
              "            document.querySelector('#' + key + ' button');\n",
              "          quickchartButtonEl.disabled = true;  // To prevent multiple clicks.\n",
              "          quickchartButtonEl.classList.add('colab-df-spinner');\n",
              "          try {\n",
              "            const charts = await google.colab.kernel.invokeFunction(\n",
              "                'suggestCharts', [key], {});\n",
              "          } catch (error) {\n",
              "            console.error('Error during call to suggestCharts:', error);\n",
              "          }\n",
              "          quickchartButtonEl.classList.remove('colab-df-spinner');\n",
              "          quickchartButtonEl.classList.add('colab-df-quickchart-complete');\n",
              "        }\n",
              "        (() => {\n",
              "          let quickchartButtonEl =\n",
              "            document.querySelector('#df-bd8c7e10-3531-4a6b-b1e1-8d5acc2fca74 button');\n",
              "          quickchartButtonEl.style.display =\n",
              "            google.colab.kernel.accessAllowed ? 'block' : 'none';\n",
              "        })();\n",
              "      </script>\n",
              "    </div>\n",
              "\n",
              "    </div>\n",
              "  </div>\n"
            ],
            "application/vnd.google.colaboratory.intrinsic+json": {
              "type": "dataframe",
              "variable_name": "df"
            }
          },
          "metadata": {},
          "execution_count": 3
        }
      ]
    },
    {
      "cell_type": "markdown",
      "source": [
        "___\n",
        "3. ### Column Audit: Identify Data Types & Missing Values  \n",
        "In this cell, I split the DataFrame into numeric vs. categorical features, check that the target column is in the right group, list the ten columns with the most missing values, and flag any text columns that really look numeric.\n"
      ],
      "metadata": {
        "id": "9m4LWWHs7CzH"
      }
    },
    {
      "cell_type": "code",
      "source": [
        "# Pick out all columns whose pandas dtype is a number\n",
        "numeric_cols     = df.select_dtypes(include=['number']).columns.tolist()\n",
        "\n",
        "# Everything else (except the label) is treated as categorical\n",
        "categorical_cols = [c for c in df.columns if c not in numeric_cols + [LABEL_COL]]\n",
        "\n",
        "# Print how many numeric vs. categorical columns we have\n",
        "print(f\"Numeric columns: {len(numeric_cols)}\")\n",
        "print(f\"Categorical columns: {len(categorical_cols)}\\n\")\n",
        "\n",
        "# Make sure our target ended up in the numeric list\n",
        "print(\"LABEL_COL in numeric_cols?     \", LABEL_COL in numeric_cols)\n",
        "print(\"LABEL_COL in categorical_cols? \", LABEL_COL in categorical_cols)\n",
        "print(\"\")\n",
        "\n",
        "# Calculate percentage of missing values in each column\n",
        "missing_pct = df.isna().mean().mul(100).sort_values(ascending=False)\n",
        "\n",
        "# Print the top 10 columns by percent missing\n",
        "print(\"Top 10 columns by % missing:\")\n",
        "print(missing_pct.head(10).round(1))\n",
        "\n",
        "# Find any categorical columns where >50% of values could be numbers\n",
        "suspects = []\n",
        "for col in categorical_cols:\n",
        "    coerced      = pd.to_numeric(df[col], errors='coerce')\n",
        "    success_ratio = coerced.notna().mean()\n",
        "    if success_ratio > 0.50:\n",
        "        suspects.append((col, success_ratio))\n",
        "\n",
        "# If any mixed-type columns were flagged, print them\n",
        "if suspects:\n",
        "    print(\"\\nColumns with mixed types that look numeric:\")\n",
        "    for col, ratio in suspects:\n",
        "        print(f\"  {col:>25s}: {ratio:.2%} rows parse as numeric\")\n",
        "\n",
        "print(\"\\nColumn audit complete.\")\n"
      ],
      "metadata": {
        "colab": {
          "base_uri": "https://localhost:8080/"
        },
        "id": "s0GF0GMlnFRM",
        "outputId": "018b769d-c7ac-4a5f-9bb9-7a82bc5f68b6"
      },
      "execution_count": null,
      "outputs": [
        {
          "output_type": "stream",
          "name": "stdout",
          "text": [
            "Numeric columns: 52\n",
            "Categorical columns: 21\n",
            "\n",
            "LABEL_COL in numeric_cols?      True\n",
            "LABEL_COL in categorical_cols?  False\n",
            "\n",
            "Top 10 columns by % missing:\n",
            "verification_status_joint    99.9\n",
            "dti_joint                    99.9\n",
            "annual_inc_joint             99.9\n",
            "il_util                      98.6\n",
            "mths_since_rcnt_il           98.5\n",
            "max_bal_bc                   98.4\n",
            "open_acc_6m                  98.4\n",
            "open_rv_24m                  98.4\n",
            "inq_last_12m                 98.4\n",
            "total_cu_tl                  98.4\n",
            "dtype: float64\n",
            "\n",
            "Column audit complete.\n"
          ]
        }
      ]
    },
    {
      "cell_type": "markdown",
      "source": [
        "This shows there are 52 numeric and 21 categorical features, confirms default_ind is numeric, lists the top ten columns with over 98% missing (like verification_status_joint and dti_joint), and finds no text fields that are mostly numeric. The audit ends by saying “Column audit complete,” so I know which columns to drop or clean next."
      ],
      "metadata": {
        "id": "HhgdJ8E47T2R"
      }
    },
    {
      "cell_type": "markdown",
      "source": [
        "___\n",
        "4. ### Drop Ultra-Sparse Columns & Final Clean  \n",
        "This cell removes any feature with ≥50 % missing values, updates our lists of numeric vs. categorical columns, fills numeric gaps with 0 (and casts to `float32`) and text gaps with `''`, shows the first five rows of the cleaned data, and saves it to Drive.\n"
      ],
      "metadata": {
        "id": "YtCIWuPS76Ii"
      }
    },
    {
      "cell_type": "code",
      "source": [
        "# Define threshold for dropping sparsely populated columns\n",
        "MISSING_THRESH = 0.50\n",
        "\n",
        "# Identify columns to drop and remove them\n",
        "drop_cols = missing_pct[missing_pct >= MISSING_THRESH * 100].index.tolist()\n",
        "df_clean = df.drop(columns=drop_cols)\n",
        "print(f\"Dropped {len(drop_cols)} columns: {drop_cols[:10]}…\\n\")\n",
        "\n",
        "# Recalculate which columns are numeric vs. categorical\n",
        "numeric_cols     = df_clean.select_dtypes('number').columns.tolist()\n",
        "categorical_cols = [c for c in df_clean.columns if c not in numeric_cols + [LABEL_COL]]\n",
        "print(f\"Now numeric={len(numeric_cols)} | categorical={len(categorical_cols)}\")\n",
        "\n",
        "# Exclude the label and ID fields from feature lists\n",
        "numeric_cols     = [c for c in numeric_cols     if c not in [LABEL_COL, 'id', 'member_id']]\n",
        "categorical_cols = [c for c in categorical_cols if c != LABEL_COL]\n",
        "print(\"Now numeric features:\", len(numeric_cols), \"categorical features:\", len(categorical_cols))\n",
        "\n",
        "# Clean numeric features: convert, fill NaNs, cast to float32\n",
        "df_clean[numeric_cols] = (\n",
        "    df_clean[numeric_cols]\n",
        "    .apply(pd.to_numeric, errors='coerce')\n",
        "    .fillna(0.0)\n",
        "    .astype('float32')\n",
        ")\n",
        "\n",
        "# Clean categorical features: convert to string, fill NaNs\n",
        "for col in categorical_cols:\n",
        "    df_clean[col] = df_clean[col].astype(str).fillna('')\n",
        "\n",
        "# Show a preview of the cleaned data\n",
        "print(\"\\nClean-up complete. Sample after cleaning:\")\n",
        "display(df_clean.head())\n",
        "\n",
        "# Save the cleaned DataFrame back to Drive\n",
        "CLEAN_PATH = '/content/drive/MyDrive/data2.parquet'\n",
        "df_clean.to_parquet(CLEAN_PATH, index=False)\n",
        "print(f\"\\nSaved cleaned DataFrame to {CLEAN_PATH}\")\n"
      ],
      "metadata": {
        "colab": {
          "base_uri": "https://localhost:8080/",
          "height": 481
        },
        "id": "G-8w0CP0oTDy",
        "outputId": "d404dffd-9c9f-43e5-83e9-c17d65caa49e"
      },
      "execution_count": null,
      "outputs": [
        {
          "output_type": "stream",
          "name": "stdout",
          "text": [
            "Dropped 21 columns: ['verification_status_joint', 'dti_joint', 'annual_inc_joint', 'il_util', 'mths_since_rcnt_il', 'max_bal_bc', 'open_acc_6m', 'open_rv_24m', 'inq_last_12m', 'total_cu_tl']…\n",
            "\n",
            "Now numeric=33 | categorical=19\n",
            "Now numeric features: 30 categorical features: 19\n",
            "\n",
            "Clean-up complete. Sample after cleaning:\n"
          ]
        },
        {
          "output_type": "display_data",
          "data": {
            "text/plain": [
              "        id  member_id  loan_amnt  funded_amnt  funded_amnt_inv        term  \\\n",
              "0  1077501    1296599     5000.0       5000.0           4975.0   36 months   \n",
              "1  1077430    1314167     2500.0       2500.0           2500.0   60 months   \n",
              "2  1077175    1313524     2400.0       2400.0           2400.0   36 months   \n",
              "3  1076863    1277178    10000.0      10000.0          10000.0   36 months   \n",
              "4  1075358    1311748     3000.0       3000.0           3000.0   60 months   \n",
              "\n",
              "   int_rate  installment grade sub_grade  ... next_pymnt_d last_credit_pull_d  \\\n",
              "0     10.65   162.869995     B        B2  ...          nan         01-01-2016   \n",
              "1     15.27    59.830002     C        C4  ...          nan         01-09-2013   \n",
              "2     15.96    84.330002     C        C5  ...          nan         01-01-2016   \n",
              "3     13.49   339.309998     C        C1  ...          nan         01-01-2015   \n",
              "4     12.69    67.790001     B        B5  ...   01-02-2016         01-01-2016   \n",
              "\n",
              "  collections_12_mths_ex_med  policy_code application_type acc_now_delinq  \\\n",
              "0                        0.0          1.0       INDIVIDUAL            0.0   \n",
              "1                        0.0          1.0       INDIVIDUAL            0.0   \n",
              "2                        0.0          1.0       INDIVIDUAL            0.0   \n",
              "3                        0.0          1.0       INDIVIDUAL            0.0   \n",
              "4                        0.0          1.0       INDIVIDUAL            0.0   \n",
              "\n",
              "  tot_coll_amt tot_cur_bal total_rev_hi_lim default_ind  \n",
              "0          0.0         0.0              0.0           0  \n",
              "1          0.0         0.0              0.0           1  \n",
              "2          0.0         0.0              0.0           0  \n",
              "3          0.0         0.0              0.0           0  \n",
              "4          0.0         0.0              0.0           0  \n",
              "\n",
              "[5 rows x 52 columns]"
            ],
            "text/html": [
              "\n",
              "  <div id=\"df-bc5dc8d1-83d8-4e60-b754-2cd77988d1e3\" class=\"colab-df-container\">\n",
              "    <div>\n",
              "<style scoped>\n",
              "    .dataframe tbody tr th:only-of-type {\n",
              "        vertical-align: middle;\n",
              "    }\n",
              "\n",
              "    .dataframe tbody tr th {\n",
              "        vertical-align: top;\n",
              "    }\n",
              "\n",
              "    .dataframe thead th {\n",
              "        text-align: right;\n",
              "    }\n",
              "</style>\n",
              "<table border=\"1\" class=\"dataframe\">\n",
              "  <thead>\n",
              "    <tr style=\"text-align: right;\">\n",
              "      <th></th>\n",
              "      <th>id</th>\n",
              "      <th>member_id</th>\n",
              "      <th>loan_amnt</th>\n",
              "      <th>funded_amnt</th>\n",
              "      <th>funded_amnt_inv</th>\n",
              "      <th>term</th>\n",
              "      <th>int_rate</th>\n",
              "      <th>installment</th>\n",
              "      <th>grade</th>\n",
              "      <th>sub_grade</th>\n",
              "      <th>...</th>\n",
              "      <th>next_pymnt_d</th>\n",
              "      <th>last_credit_pull_d</th>\n",
              "      <th>collections_12_mths_ex_med</th>\n",
              "      <th>policy_code</th>\n",
              "      <th>application_type</th>\n",
              "      <th>acc_now_delinq</th>\n",
              "      <th>tot_coll_amt</th>\n",
              "      <th>tot_cur_bal</th>\n",
              "      <th>total_rev_hi_lim</th>\n",
              "      <th>default_ind</th>\n",
              "    </tr>\n",
              "  </thead>\n",
              "  <tbody>\n",
              "    <tr>\n",
              "      <th>0</th>\n",
              "      <td>1077501</td>\n",
              "      <td>1296599</td>\n",
              "      <td>5000.0</td>\n",
              "      <td>5000.0</td>\n",
              "      <td>4975.0</td>\n",
              "      <td>36 months</td>\n",
              "      <td>10.65</td>\n",
              "      <td>162.869995</td>\n",
              "      <td>B</td>\n",
              "      <td>B2</td>\n",
              "      <td>...</td>\n",
              "      <td>nan</td>\n",
              "      <td>01-01-2016</td>\n",
              "      <td>0.0</td>\n",
              "      <td>1.0</td>\n",
              "      <td>INDIVIDUAL</td>\n",
              "      <td>0.0</td>\n",
              "      <td>0.0</td>\n",
              "      <td>0.0</td>\n",
              "      <td>0.0</td>\n",
              "      <td>0</td>\n",
              "    </tr>\n",
              "    <tr>\n",
              "      <th>1</th>\n",
              "      <td>1077430</td>\n",
              "      <td>1314167</td>\n",
              "      <td>2500.0</td>\n",
              "      <td>2500.0</td>\n",
              "      <td>2500.0</td>\n",
              "      <td>60 months</td>\n",
              "      <td>15.27</td>\n",
              "      <td>59.830002</td>\n",
              "      <td>C</td>\n",
              "      <td>C4</td>\n",
              "      <td>...</td>\n",
              "      <td>nan</td>\n",
              "      <td>01-09-2013</td>\n",
              "      <td>0.0</td>\n",
              "      <td>1.0</td>\n",
              "      <td>INDIVIDUAL</td>\n",
              "      <td>0.0</td>\n",
              "      <td>0.0</td>\n",
              "      <td>0.0</td>\n",
              "      <td>0.0</td>\n",
              "      <td>1</td>\n",
              "    </tr>\n",
              "    <tr>\n",
              "      <th>2</th>\n",
              "      <td>1077175</td>\n",
              "      <td>1313524</td>\n",
              "      <td>2400.0</td>\n",
              "      <td>2400.0</td>\n",
              "      <td>2400.0</td>\n",
              "      <td>36 months</td>\n",
              "      <td>15.96</td>\n",
              "      <td>84.330002</td>\n",
              "      <td>C</td>\n",
              "      <td>C5</td>\n",
              "      <td>...</td>\n",
              "      <td>nan</td>\n",
              "      <td>01-01-2016</td>\n",
              "      <td>0.0</td>\n",
              "      <td>1.0</td>\n",
              "      <td>INDIVIDUAL</td>\n",
              "      <td>0.0</td>\n",
              "      <td>0.0</td>\n",
              "      <td>0.0</td>\n",
              "      <td>0.0</td>\n",
              "      <td>0</td>\n",
              "    </tr>\n",
              "    <tr>\n",
              "      <th>3</th>\n",
              "      <td>1076863</td>\n",
              "      <td>1277178</td>\n",
              "      <td>10000.0</td>\n",
              "      <td>10000.0</td>\n",
              "      <td>10000.0</td>\n",
              "      <td>36 months</td>\n",
              "      <td>13.49</td>\n",
              "      <td>339.309998</td>\n",
              "      <td>C</td>\n",
              "      <td>C1</td>\n",
              "      <td>...</td>\n",
              "      <td>nan</td>\n",
              "      <td>01-01-2015</td>\n",
              "      <td>0.0</td>\n",
              "      <td>1.0</td>\n",
              "      <td>INDIVIDUAL</td>\n",
              "      <td>0.0</td>\n",
              "      <td>0.0</td>\n",
              "      <td>0.0</td>\n",
              "      <td>0.0</td>\n",
              "      <td>0</td>\n",
              "    </tr>\n",
              "    <tr>\n",
              "      <th>4</th>\n",
              "      <td>1075358</td>\n",
              "      <td>1311748</td>\n",
              "      <td>3000.0</td>\n",
              "      <td>3000.0</td>\n",
              "      <td>3000.0</td>\n",
              "      <td>60 months</td>\n",
              "      <td>12.69</td>\n",
              "      <td>67.790001</td>\n",
              "      <td>B</td>\n",
              "      <td>B5</td>\n",
              "      <td>...</td>\n",
              "      <td>01-02-2016</td>\n",
              "      <td>01-01-2016</td>\n",
              "      <td>0.0</td>\n",
              "      <td>1.0</td>\n",
              "      <td>INDIVIDUAL</td>\n",
              "      <td>0.0</td>\n",
              "      <td>0.0</td>\n",
              "      <td>0.0</td>\n",
              "      <td>0.0</td>\n",
              "      <td>0</td>\n",
              "    </tr>\n",
              "  </tbody>\n",
              "</table>\n",
              "<p>5 rows × 52 columns</p>\n",
              "</div>\n",
              "    <div class=\"colab-df-buttons\">\n",
              "\n",
              "  <div class=\"colab-df-container\">\n",
              "    <button class=\"colab-df-convert\" onclick=\"convertToInteractive('df-bc5dc8d1-83d8-4e60-b754-2cd77988d1e3')\"\n",
              "            title=\"Convert this dataframe to an interactive table.\"\n",
              "            style=\"display:none;\">\n",
              "\n",
              "  <svg xmlns=\"http://www.w3.org/2000/svg\" height=\"24px\" viewBox=\"0 -960 960 960\">\n",
              "    <path d=\"M120-120v-720h720v720H120Zm60-500h600v-160H180v160Zm220 220h160v-160H400v160Zm0 220h160v-160H400v160ZM180-400h160v-160H180v160Zm440 0h160v-160H620v160ZM180-180h160v-160H180v160Zm440 0h160v-160H620v160Z\"/>\n",
              "  </svg>\n",
              "    </button>\n",
              "\n",
              "  <style>\n",
              "    .colab-df-container {\n",
              "      display:flex;\n",
              "      gap: 12px;\n",
              "    }\n",
              "\n",
              "    .colab-df-convert {\n",
              "      background-color: #E8F0FE;\n",
              "      border: none;\n",
              "      border-radius: 50%;\n",
              "      cursor: pointer;\n",
              "      display: none;\n",
              "      fill: #1967D2;\n",
              "      height: 32px;\n",
              "      padding: 0 0 0 0;\n",
              "      width: 32px;\n",
              "    }\n",
              "\n",
              "    .colab-df-convert:hover {\n",
              "      background-color: #E2EBFA;\n",
              "      box-shadow: 0px 1px 2px rgba(60, 64, 67, 0.3), 0px 1px 3px 1px rgba(60, 64, 67, 0.15);\n",
              "      fill: #174EA6;\n",
              "    }\n",
              "\n",
              "    .colab-df-buttons div {\n",
              "      margin-bottom: 4px;\n",
              "    }\n",
              "\n",
              "    [theme=dark] .colab-df-convert {\n",
              "      background-color: #3B4455;\n",
              "      fill: #D2E3FC;\n",
              "    }\n",
              "\n",
              "    [theme=dark] .colab-df-convert:hover {\n",
              "      background-color: #434B5C;\n",
              "      box-shadow: 0px 1px 3px 1px rgba(0, 0, 0, 0.15);\n",
              "      filter: drop-shadow(0px 1px 2px rgba(0, 0, 0, 0.3));\n",
              "      fill: #FFFFFF;\n",
              "    }\n",
              "  </style>\n",
              "\n",
              "    <script>\n",
              "      const buttonEl =\n",
              "        document.querySelector('#df-bc5dc8d1-83d8-4e60-b754-2cd77988d1e3 button.colab-df-convert');\n",
              "      buttonEl.style.display =\n",
              "        google.colab.kernel.accessAllowed ? 'block' : 'none';\n",
              "\n",
              "      async function convertToInteractive(key) {\n",
              "        const element = document.querySelector('#df-bc5dc8d1-83d8-4e60-b754-2cd77988d1e3');\n",
              "        const dataTable =\n",
              "          await google.colab.kernel.invokeFunction('convertToInteractive',\n",
              "                                                    [key], {});\n",
              "        if (!dataTable) return;\n",
              "\n",
              "        const docLinkHtml = 'Like what you see? Visit the ' +\n",
              "          '<a target=\"_blank\" href=https://colab.research.google.com/notebooks/data_table.ipynb>data table notebook</a>'\n",
              "          + ' to learn more about interactive tables.';\n",
              "        element.innerHTML = '';\n",
              "        dataTable['output_type'] = 'display_data';\n",
              "        await google.colab.output.renderOutput(dataTable, element);\n",
              "        const docLink = document.createElement('div');\n",
              "        docLink.innerHTML = docLinkHtml;\n",
              "        element.appendChild(docLink);\n",
              "      }\n",
              "    </script>\n",
              "  </div>\n",
              "\n",
              "\n",
              "    <div id=\"df-44666be0-d38d-418a-b825-2b6e7c38f637\">\n",
              "      <button class=\"colab-df-quickchart\" onclick=\"quickchart('df-44666be0-d38d-418a-b825-2b6e7c38f637')\"\n",
              "                title=\"Suggest charts\"\n",
              "                style=\"display:none;\">\n",
              "\n",
              "<svg xmlns=\"http://www.w3.org/2000/svg\" height=\"24px\"viewBox=\"0 0 24 24\"\n",
              "     width=\"24px\">\n",
              "    <g>\n",
              "        <path d=\"M19 3H5c-1.1 0-2 .9-2 2v14c0 1.1.9 2 2 2h14c1.1 0 2-.9 2-2V5c0-1.1-.9-2-2-2zM9 17H7v-7h2v7zm4 0h-2V7h2v10zm4 0h-2v-4h2v4z\"/>\n",
              "    </g>\n",
              "</svg>\n",
              "      </button>\n",
              "\n",
              "<style>\n",
              "  .colab-df-quickchart {\n",
              "      --bg-color: #E8F0FE;\n",
              "      --fill-color: #1967D2;\n",
              "      --hover-bg-color: #E2EBFA;\n",
              "      --hover-fill-color: #174EA6;\n",
              "      --disabled-fill-color: #AAA;\n",
              "      --disabled-bg-color: #DDD;\n",
              "  }\n",
              "\n",
              "  [theme=dark] .colab-df-quickchart {\n",
              "      --bg-color: #3B4455;\n",
              "      --fill-color: #D2E3FC;\n",
              "      --hover-bg-color: #434B5C;\n",
              "      --hover-fill-color: #FFFFFF;\n",
              "      --disabled-bg-color: #3B4455;\n",
              "      --disabled-fill-color: #666;\n",
              "  }\n",
              "\n",
              "  .colab-df-quickchart {\n",
              "    background-color: var(--bg-color);\n",
              "    border: none;\n",
              "    border-radius: 50%;\n",
              "    cursor: pointer;\n",
              "    display: none;\n",
              "    fill: var(--fill-color);\n",
              "    height: 32px;\n",
              "    padding: 0;\n",
              "    width: 32px;\n",
              "  }\n",
              "\n",
              "  .colab-df-quickchart:hover {\n",
              "    background-color: var(--hover-bg-color);\n",
              "    box-shadow: 0 1px 2px rgba(60, 64, 67, 0.3), 0 1px 3px 1px rgba(60, 64, 67, 0.15);\n",
              "    fill: var(--button-hover-fill-color);\n",
              "  }\n",
              "\n",
              "  .colab-df-quickchart-complete:disabled,\n",
              "  .colab-df-quickchart-complete:disabled:hover {\n",
              "    background-color: var(--disabled-bg-color);\n",
              "    fill: var(--disabled-fill-color);\n",
              "    box-shadow: none;\n",
              "  }\n",
              "\n",
              "  .colab-df-spinner {\n",
              "    border: 2px solid var(--fill-color);\n",
              "    border-color: transparent;\n",
              "    border-bottom-color: var(--fill-color);\n",
              "    animation:\n",
              "      spin 1s steps(1) infinite;\n",
              "  }\n",
              "\n",
              "  @keyframes spin {\n",
              "    0% {\n",
              "      border-color: transparent;\n",
              "      border-bottom-color: var(--fill-color);\n",
              "      border-left-color: var(--fill-color);\n",
              "    }\n",
              "    20% {\n",
              "      border-color: transparent;\n",
              "      border-left-color: var(--fill-color);\n",
              "      border-top-color: var(--fill-color);\n",
              "    }\n",
              "    30% {\n",
              "      border-color: transparent;\n",
              "      border-left-color: var(--fill-color);\n",
              "      border-top-color: var(--fill-color);\n",
              "      border-right-color: var(--fill-color);\n",
              "    }\n",
              "    40% {\n",
              "      border-color: transparent;\n",
              "      border-right-color: var(--fill-color);\n",
              "      border-top-color: var(--fill-color);\n",
              "    }\n",
              "    60% {\n",
              "      border-color: transparent;\n",
              "      border-right-color: var(--fill-color);\n",
              "    }\n",
              "    80% {\n",
              "      border-color: transparent;\n",
              "      border-right-color: var(--fill-color);\n",
              "      border-bottom-color: var(--fill-color);\n",
              "    }\n",
              "    90% {\n",
              "      border-color: transparent;\n",
              "      border-bottom-color: var(--fill-color);\n",
              "    }\n",
              "  }\n",
              "</style>\n",
              "\n",
              "      <script>\n",
              "        async function quickchart(key) {\n",
              "          const quickchartButtonEl =\n",
              "            document.querySelector('#' + key + ' button');\n",
              "          quickchartButtonEl.disabled = true;  // To prevent multiple clicks.\n",
              "          quickchartButtonEl.classList.add('colab-df-spinner');\n",
              "          try {\n",
              "            const charts = await google.colab.kernel.invokeFunction(\n",
              "                'suggestCharts', [key], {});\n",
              "          } catch (error) {\n",
              "            console.error('Error during call to suggestCharts:', error);\n",
              "          }\n",
              "          quickchartButtonEl.classList.remove('colab-df-spinner');\n",
              "          quickchartButtonEl.classList.add('colab-df-quickchart-complete');\n",
              "        }\n",
              "        (() => {\n",
              "          let quickchartButtonEl =\n",
              "            document.querySelector('#df-44666be0-d38d-418a-b825-2b6e7c38f637 button');\n",
              "          quickchartButtonEl.style.display =\n",
              "            google.colab.kernel.accessAllowed ? 'block' : 'none';\n",
              "        })();\n",
              "      </script>\n",
              "    </div>\n",
              "\n",
              "    </div>\n",
              "  </div>\n"
            ],
            "application/vnd.google.colaboratory.intrinsic+json": {
              "type": "dataframe"
            }
          },
          "metadata": {}
        },
        {
          "output_type": "stream",
          "name": "stdout",
          "text": [
            "\n",
            "Saved cleaned DataFrame to /content/drive/MyDrive/data2.parquet\n"
          ]
        }
      ]
    },
    {
      "cell_type": "markdown",
      "source": [
        "This cell dropped 21 super-sparse columns, leaving 30 numeric and 19 categorical features (after excluding IDs and the label). All numeric NaNs were set to 0 and cast to float32, and text NaNs became empty strings. The first five rows of the 52-column cleaned DataFrame are displayed, and the cleaned data is saved to Drive at data2.parquet."
      ],
      "metadata": {
        "id": "aoWEg-SV8Tft"
      }
    },
    {
      "cell_type": "markdown",
      "source": [
        "___\n",
        "5. ### Reload Cleaned Data for MLP  \n"
      ],
      "metadata": {
        "id": "EfCrIDMl9yRX"
      }
    },
    {
      "cell_type": "code",
      "source": [
        "# 1) Load the 50%-cleaned DataFrame\n",
        "CLEAN_PATH = '/content/drive/MyDrive/data2.parquet'\n",
        "df = pd.read_parquet(CLEAN_PATH)\n",
        "print(\"Loaded df:\", df.shape)"
      ],
      "metadata": {
        "colab": {
          "base_uri": "https://localhost:8080/"
        },
        "id": "YMKqRC8FV6rd",
        "outputId": "cff0b2a0-4b5f-4e90-ccd7-7f935a544532"
      },
      "execution_count": null,
      "outputs": [
        {
          "output_type": "stream",
          "name": "stdout",
          "text": [
            "Loaded df: (855969, 52)\n"
          ]
        }
      ]
    },
    {
      "cell_type": "markdown",
      "source": [
        "___\n",
        "6. ### Identify Top Correlated Features  \n",
        "This cell computes the absolute Pearson correlation between each feature and the target `default_ind`, and prints the top features most strongly linked to loan default.\n"
      ],
      "metadata": {
        "id": "efRXrsgt-Yiy"
      }
    },
    {
      "cell_type": "code",
      "source": [
        "import warnings\n",
        "warnings.filterwarnings(\"ignore\")\n",
        "\n",
        "# compute absolute correlation with target\n",
        "corrs = df_clean[numeric_cols + categorical_cols].apply(\n",
        "    lambda col: pd.to_numeric(col, errors='coerce').corr(df_clean['default_ind'])\n",
        ").abs().sort_values(ascending=False)\n",
        "\n",
        "print(\"Top 10 features by |corr|:\", corrs.head(20))"
      ],
      "metadata": {
        "colab": {
          "base_uri": "https://localhost:8080/"
        },
        "id": "psELdoovWRxD",
        "outputId": "7ff022eb-a3df-47fd-88e4-80f3d154b29f"
      },
      "execution_count": null,
      "outputs": [
        {
          "output_type": "stream",
          "name": "stdout",
          "text": [
            "Top 10 features by |corr|: recoveries                 0.475738\n",
            "collection_recovery_fee    0.330764\n",
            "out_prncp                  0.225960\n",
            "out_prncp_inv              0.225959\n",
            "int_rate                   0.155037\n",
            "total_rec_late_fee         0.140760\n",
            "total_rec_prncp            0.090336\n",
            "last_pymnt_amnt            0.087217\n",
            "inq_last_6mths             0.074407\n",
            "tot_cur_bal                0.061478\n",
            "total_rev_hi_lim           0.057524\n",
            "emp_title                  0.053472\n",
            "total_rec_int              0.046050\n",
            "revol_util                 0.044130\n",
            "total_pymnt_inv            0.040232\n",
            "total_pymnt                0.039220\n",
            "annual_inc                 0.037066\n",
            "open_acc                   0.021698\n",
            "total_acc                  0.021087\n",
            "revol_bal                  0.020696\n",
            "dtype: float64\n"
          ]
        }
      ]
    },
    {
      "cell_type": "markdown",
      "source": [
        "Here we see which variables move most closely with loan default in a linear sense. recoveries leads with |corr| ≈ 0.48, followed by collection_recovery_fee (≈ 0.33) and outstanding principal metrics. These top‐ranked features are likely to be the strongest predictors for our MLP model.\n"
      ],
      "metadata": {
        "id": "xGG2bhmk-hmR"
      }
    },
    {
      "cell_type": "markdown",
      "source": [
        "___\n",
        "7. ### Remove Leaky and Identifier Columns  \n",
        "This cell drops any columns that leak future information (like repayment amounts or dates) and all identifier fields, leaving only the predictors that would be available at loan origination.\n"
      ],
      "metadata": {
        "id": "CXaxIZ---7Nx"
      }
    },
    {
      "cell_type": "code",
      "source": [
        "# List of columns to remove because they leak post-loan information or are just IDs\n",
        "leak_cols = [\n",
        "  'recoveries',\n",
        "  'collection_recovery_fee',\n",
        "  'out_prncp',\n",
        "  'out_prncp_inv',\n",
        "  'total_rec_late_fee',\n",
        "  'total_rec_prncp',\n",
        "  'last_pymnt_amnt',\n",
        "  'id',\n",
        "  'member_id',\n",
        "  'last_pymnt_d',\n",
        "  'next_pymnt_d',\n",
        "  'last_credit_pull_d',\n",
        "  'issue_d',\n",
        "  'total_rec_int',\n",
        "  'total_pymnt',\n",
        "  'total_pymnt_inv',\n",
        "  'tot_coll_amt',\n",
        "  'collections_12_mths_ex_med',\n",
        "  'policy_code'\n",
        "]\n",
        "\n",
        "# Drop those leaky columns from the cleaned DataFrame\n",
        "df_noleak1 = df_clean.drop(columns = leak_cols)\n",
        "\n",
        "\n",
        "# Print the new shape to confirm how many features remain\n",
        "print(\"New Shape: \", df_noleak1.shape)"
      ],
      "metadata": {
        "colab": {
          "base_uri": "https://localhost:8080/"
        },
        "id": "BQNdUN1eXHAK",
        "outputId": "7a5ed06a-591f-43e5-9f84-ec0a59c34277"
      },
      "execution_count": null,
      "outputs": [
        {
          "output_type": "stream",
          "name": "stdout",
          "text": [
            "New Shape:  (855969, 33)\n"
          ]
        }
      ]
    },
    {
      "cell_type": "markdown",
      "source": [
        "After removing 19 leaky or ID fields, the DataFrame still contains 855,969 rows but now only 33 columns—all of which represent information available at loan origination."
      ],
      "metadata": {
        "id": "NpEZoADv_OlC"
      }
    },
    {
      "cell_type": "markdown",
      "source": [
        "___\n",
        "8. ### Split Data into Training, Validation, and Test Sets  \n",
        "This cell divides our leak-free DataFrame into 70% training, 15% validation, and 15% test subsets—while preserving the default rate in each—and saves them to Drive for future reuse.\n"
      ],
      "metadata": {
        "id": "8HbyGpHq_oWh"
      }
    },
    {
      "cell_type": "code",
      "source": [
        "# Split df_noleak1 into 70% train and 30% temporary (for val + test)\n",
        "train_df, temp_df = train_test_split(\n",
        "    df_noleak1,\n",
        "    test_size=0.30,\n",
        "    stratify=df_clean[LABEL_COL],\n",
        "    random_state=42\n",
        ")\n",
        "\n",
        "# Split temporary set equally into 15% val and 15% test\n",
        "val_df, test_df = train_test_split(\n",
        "    temp_df,\n",
        "    test_size=0.50,\n",
        "    stratify=temp_df[LABEL_COL],\n",
        "    random_state=42\n",
        ")\n",
        "\n",
        "# Print row counts for each group\n",
        "print(f\"Rows → train: {len(train_df):,},  val: {len(val_df):,},  test: {len(test_df):,}\")\n",
        "\n",
        "# Quick sanity check: verify default rate stays the same\n",
        "for name, part in zip(['train', 'val', 'test'], [train_df, val_df, test_df]):\n",
        "    print(f\"{name} default-rate: {part[LABEL_COL].mean():.2%}\")\n",
        "\n",
        "# Save each split as a Parquet file so we don't need to re-clean next time\n",
        "train_df.to_parquet('/content/drive/MyDrive/loans_train.parquet', index=False)\n",
        "val_df.to_parquet('/content/drive/MyDrive/loans_val.parquet',   index=False)\n",
        "test_df.to_parquet('/content/drive/MyDrive/loans_test.parquet', index=False)\n",
        "print(\"\\nSaved the three splits to Drive.\")\n"
      ],
      "metadata": {
        "colab": {
          "base_uri": "https://localhost:8080/"
        },
        "id": "Ma7p3m68oj-G",
        "outputId": "02c708c4-a4d8-4571-d6be-855becf76717"
      },
      "execution_count": null,
      "outputs": [
        {
          "output_type": "stream",
          "name": "stdout",
          "text": [
            "Rows → train: 599,178,  val: 128,395,  test: 128,396\n",
            "train default-rate: 5.43%\n",
            "val default-rate: 5.43%\n",
            "test default-rate: 5.43%\n",
            "\n",
            "Saved the three splits to Drive.\n"
          ]
        }
      ]
    },
    {
      "cell_type": "markdown",
      "source": [
        "This shows we have 599,178 training rows, 128,395 validation rows, and 128,396 test rows, each holding a consistent default rate around 5.43%. Finally, it writes all three subsets to Drive so future runs can load them directly without repeating the cleaning steps."
      ],
      "metadata": {
        "id": "eKlgm0pwAGoh"
      }
    },
    {
      "cell_type": "markdown",
      "source": [
        "___\n",
        "9. ### Refresh Feature Lists for MLP Model  \n",
        "This cell recalculates which columns in the training DataFrame are numeric (excluding the target) versus categorical, so we know exactly what to scale and encode before feeding into the MLP.\n"
      ],
      "metadata": {
        "id": "XKAEViT1AkXn"
      }
    },
    {
      "cell_type": "code",
      "source": [
        "# Specify the name of the target column\n",
        "LABEL_COL = 'default_ind'\n",
        "\n",
        "# Numeric features: select all number-type columns except the label\n",
        "numeric_cols = (\n",
        "    train_df\n",
        "    .select_dtypes(include=['number'])\n",
        "    .columns\n",
        "    .drop(LABEL_COL)\n",
        "    .tolist()\n",
        ")\n",
        "\n",
        "# Categorical features: every other column except the label\n",
        "categorical_cols = [\n",
        "    c for c in train_df.columns\n",
        "    if c not in numeric_cols + [LABEL_COL]\n",
        "]\n",
        "\n",
        "# Print counts of each to verify our feature split\n",
        "print(f\"Refreshed features → {len(numeric_cols)} numerics, {len(categorical_cols)} categoricals\")\n"
      ],
      "metadata": {
        "colab": {
          "base_uri": "https://localhost:8080/"
        },
        "id": "_206nQvkaieK",
        "outputId": "71cb096a-9f51-4ac8-9b84-7f9ff8649a40"
      },
      "execution_count": null,
      "outputs": [
        {
          "output_type": "stream",
          "name": "stdout",
          "text": [
            "Refreshed features → 17 numerics, 15 categoricals\n"
          ]
        }
      ]
    },
    {
      "cell_type": "markdown",
      "source": [
        "This confirms that the training set now contains 17 numeric features (to be scaled or normalized) and 15 categorical features (to be encoded), ensuring we know exactly which preprocessing steps to apply before building the MLP."
      ],
      "metadata": {
        "id": "SWolgl9aA6ye"
      }
    },
    {
      "cell_type": "markdown",
      "source": [
        "___\n",
        "10. ### Build Preprocessing Pipeline: Normalize Numbers & Embed Categories  \n",
        "This cell defines a small Keras model that normalizes all numeric inputs and hashes+embeds each categorical feature into a dense vector, then concatenates everything into one feature tensor.\n"
      ],
      "metadata": {
        "id": "Lw6jtsjYBjjU"
      }
    },
    {
      "cell_type": "code",
      "source": [
        "# Clear any existing Keras session to start fresh\n",
        "tf.keras.backend.clear_session()\n",
        "\n",
        "# Numeric inputs → Normalization\n",
        "\n",
        "# Create one Input layer per numeric column, then concatenate them\n",
        "num_inputs = {c: layers.Input(shape=(1,), name=c) for c in numeric_cols}\n",
        "num_concat = layers.concatenate(list(num_inputs.values()))\n",
        "\n",
        "# Build a Normalization layer and adapt it on a sample of the training data\n",
        "norm = layers.Normalization()\n",
        "norm.adapt(train_df[numeric_cols].sample(10_000, random_state=42).values)\n",
        "\n",
        "# Apply normalization to the concatenated numeric tensor\n",
        "num_proc = norm(num_concat)\n",
        "\n",
        "# Categorical inputs → Hashing + Embedding\n",
        "cat_inputs, cat_embeds = {}, []\n",
        "for c in categorical_cols:\n",
        "    # Input layer for each text feature\n",
        "    inp        = layers.Input(shape=(1,), dtype=tf.string, name=c)\n",
        "    # Hash strings into 1024 bins\n",
        "    hash_layer = layers.Hashing(num_bins=1024, name=f\"{c}_hash\")\n",
        "    h          = hash_layer(inp)\n",
        "    # Embed each hashed index into an 8-dimensional vector\n",
        "    emb        = layers.Embedding(input_dim=1024, output_dim=8)(h)\n",
        "    # Flatten embedding from (1,8) → (8,)\n",
        "    cat_embeds.append(layers.Flatten()(emb))\n",
        "    cat_inputs[c] = inp\n",
        "\n",
        "# Combine numeric and categorical paths\n",
        "all_inputs   = list(num_inputs.values()) + list(cat_inputs.values())\n",
        "all_features = layers.concatenate([num_proc] + cat_embeds)\n",
        "\n",
        "# Create a Keras Model for preprocessing and print its summary\n",
        "preprocess_model = models.Model(all_inputs, all_features, name=\"preproc_hash\")\n",
        "preprocess_model.summary(line_length=120)\n"
      ],
      "metadata": {
        "colab": {
          "base_uri": "https://localhost:8080/",
          "height": 1000
        },
        "id": "3DCLqti_ppET",
        "outputId": "3396b8e9-4b11-4a49-a1cc-339c1af00c2a"
      },
      "execution_count": null,
      "outputs": [
        {
          "output_type": "display_data",
          "data": {
            "text/plain": [
              "\u001b[1mModel: \"preproc_hash\"\u001b[0m\n"
            ],
            "text/html": [
              "<pre style=\"white-space:pre;overflow-x:auto;line-height:normal;font-family:Menlo,'DejaVu Sans Mono',consolas,'Courier New',monospace\"><span style=\"font-weight: bold\">Model: \"preproc_hash\"</span>\n",
              "</pre>\n"
            ]
          },
          "metadata": {}
        },
        {
          "output_type": "display_data",
          "data": {
            "text/plain": [
              "┏━━━━━━━━━━━━━━━━━━━━━━━━━━━━━━━━━━━┳━━━━━━━━━━━━━━━━━━━━━━━━━━━━━━┳━━━━━━━━━━━━━━━━━━━┳━━━━━━━━━━━━━━━━━━━━━━━━━━━\n",
              "┃\u001b[1m \u001b[0m\u001b[1mLayer (type)                     \u001b[0m\u001b[1m \u001b[0m┃\u001b[1m \u001b[0m\u001b[1mOutput Shape                \u001b[0m\u001b[1m \u001b[0m┃\u001b[1m \u001b[0m\u001b[1m          Param #\u001b[0m\u001b[1m \u001b[0m┃\u001b[1m \u001b[0m\u001b[1mConnected to              \u001b[0m\n",
              "┡━━━━━━━━━━━━━━━━━━━━━━━━━━━━━━━━━━━╇━━━━━━━━━━━━━━━━━━━━━━━━━━━━━━╇━━━━━━━━━━━━━━━━━━━╇━━━━━━━━━━━━━━━━━━━━━━━━━━━\n",
              "│ term (\u001b[38;5;33mInputLayer\u001b[0m)                 │ (\u001b[38;5;45mNone\u001b[0m, \u001b[38;5;34m1\u001b[0m)                    │                 \u001b[38;5;34m0\u001b[0m │ -                         \n",
              "├───────────────────────────────────┼──────────────────────────────┼───────────────────┼───────────────────────────\n",
              "│ grade (\u001b[38;5;33mInputLayer\u001b[0m)                │ (\u001b[38;5;45mNone\u001b[0m, \u001b[38;5;34m1\u001b[0m)                    │                 \u001b[38;5;34m0\u001b[0m │ -                         \n",
              "├───────────────────────────────────┼──────────────────────────────┼───────────────────┼───────────────────────────\n",
              "│ sub_grade (\u001b[38;5;33mInputLayer\u001b[0m)            │ (\u001b[38;5;45mNone\u001b[0m, \u001b[38;5;34m1\u001b[0m)                    │                 \u001b[38;5;34m0\u001b[0m │ -                         \n",
              "├───────────────────────────────────┼──────────────────────────────┼───────────────────┼───────────────────────────\n",
              "│ emp_title (\u001b[38;5;33mInputLayer\u001b[0m)            │ (\u001b[38;5;45mNone\u001b[0m, \u001b[38;5;34m1\u001b[0m)                    │                 \u001b[38;5;34m0\u001b[0m │ -                         \n",
              "├───────────────────────────────────┼──────────────────────────────┼───────────────────┼───────────────────────────\n",
              "│ emp_length (\u001b[38;5;33mInputLayer\u001b[0m)           │ (\u001b[38;5;45mNone\u001b[0m, \u001b[38;5;34m1\u001b[0m)                    │                 \u001b[38;5;34m0\u001b[0m │ -                         \n",
              "├───────────────────────────────────┼──────────────────────────────┼───────────────────┼───────────────────────────\n",
              "│ home_ownership (\u001b[38;5;33mInputLayer\u001b[0m)       │ (\u001b[38;5;45mNone\u001b[0m, \u001b[38;5;34m1\u001b[0m)                    │                 \u001b[38;5;34m0\u001b[0m │ -                         \n",
              "├───────────────────────────────────┼──────────────────────────────┼───────────────────┼───────────────────────────\n",
              "│ verification_status (\u001b[38;5;33mInputLayer\u001b[0m)  │ (\u001b[38;5;45mNone\u001b[0m, \u001b[38;5;34m1\u001b[0m)                    │                 \u001b[38;5;34m0\u001b[0m │ -                         \n",
              "├───────────────────────────────────┼──────────────────────────────┼───────────────────┼───────────────────────────\n",
              "│ pymnt_plan (\u001b[38;5;33mInputLayer\u001b[0m)           │ (\u001b[38;5;45mNone\u001b[0m, \u001b[38;5;34m1\u001b[0m)                    │                 \u001b[38;5;34m0\u001b[0m │ -                         \n",
              "├───────────────────────────────────┼──────────────────────────────┼───────────────────┼───────────────────────────\n",
              "│ purpose (\u001b[38;5;33mInputLayer\u001b[0m)              │ (\u001b[38;5;45mNone\u001b[0m, \u001b[38;5;34m1\u001b[0m)                    │                 \u001b[38;5;34m0\u001b[0m │ -                         \n",
              "├───────────────────────────────────┼──────────────────────────────┼───────────────────┼───────────────────────────\n",
              "│ title (\u001b[38;5;33mInputLayer\u001b[0m)                │ (\u001b[38;5;45mNone\u001b[0m, \u001b[38;5;34m1\u001b[0m)                    │                 \u001b[38;5;34m0\u001b[0m │ -                         \n",
              "├───────────────────────────────────┼──────────────────────────────┼───────────────────┼───────────────────────────\n",
              "│ zip_code (\u001b[38;5;33mInputLayer\u001b[0m)             │ (\u001b[38;5;45mNone\u001b[0m, \u001b[38;5;34m1\u001b[0m)                    │                 \u001b[38;5;34m0\u001b[0m │ -                         \n",
              "├───────────────────────────────────┼──────────────────────────────┼───────────────────┼───────────────────────────\n",
              "│ addr_state (\u001b[38;5;33mInputLayer\u001b[0m)           │ (\u001b[38;5;45mNone\u001b[0m, \u001b[38;5;34m1\u001b[0m)                    │                 \u001b[38;5;34m0\u001b[0m │ -                         \n",
              "├───────────────────────────────────┼──────────────────────────────┼───────────────────┼───────────────────────────\n",
              "│ earliest_cr_line (\u001b[38;5;33mInputLayer\u001b[0m)     │ (\u001b[38;5;45mNone\u001b[0m, \u001b[38;5;34m1\u001b[0m)                    │                 \u001b[38;5;34m0\u001b[0m │ -                         \n",
              "├───────────────────────────────────┼──────────────────────────────┼───────────────────┼───────────────────────────\n",
              "│ initial_list_status (\u001b[38;5;33mInputLayer\u001b[0m)  │ (\u001b[38;5;45mNone\u001b[0m, \u001b[38;5;34m1\u001b[0m)                    │                 \u001b[38;5;34m0\u001b[0m │ -                         \n",
              "├───────────────────────────────────┼──────────────────────────────┼───────────────────┼───────────────────────────\n",
              "│ application_type (\u001b[38;5;33mInputLayer\u001b[0m)     │ (\u001b[38;5;45mNone\u001b[0m, \u001b[38;5;34m1\u001b[0m)                    │                 \u001b[38;5;34m0\u001b[0m │ -                         \n",
              "├───────────────────────────────────┼──────────────────────────────┼───────────────────┼───────────────────────────\n",
              "│ loan_amnt (\u001b[38;5;33mInputLayer\u001b[0m)            │ (\u001b[38;5;45mNone\u001b[0m, \u001b[38;5;34m1\u001b[0m)                    │                 \u001b[38;5;34m0\u001b[0m │ -                         \n",
              "├───────────────────────────────────┼──────────────────────────────┼───────────────────┼───────────────────────────\n",
              "│ funded_amnt (\u001b[38;5;33mInputLayer\u001b[0m)          │ (\u001b[38;5;45mNone\u001b[0m, \u001b[38;5;34m1\u001b[0m)                    │                 \u001b[38;5;34m0\u001b[0m │ -                         \n",
              "├───────────────────────────────────┼──────────────────────────────┼───────────────────┼───────────────────────────\n",
              "│ funded_amnt_inv (\u001b[38;5;33mInputLayer\u001b[0m)      │ (\u001b[38;5;45mNone\u001b[0m, \u001b[38;5;34m1\u001b[0m)                    │                 \u001b[38;5;34m0\u001b[0m │ -                         \n",
              "├───────────────────────────────────┼──────────────────────────────┼───────────────────┼───────────────────────────\n",
              "│ int_rate (\u001b[38;5;33mInputLayer\u001b[0m)             │ (\u001b[38;5;45mNone\u001b[0m, \u001b[38;5;34m1\u001b[0m)                    │                 \u001b[38;5;34m0\u001b[0m │ -                         \n",
              "├───────────────────────────────────┼──────────────────────────────┼───────────────────┼───────────────────────────\n",
              "│ installment (\u001b[38;5;33mInputLayer\u001b[0m)          │ (\u001b[38;5;45mNone\u001b[0m, \u001b[38;5;34m1\u001b[0m)                    │                 \u001b[38;5;34m0\u001b[0m │ -                         \n",
              "├───────────────────────────────────┼──────────────────────────────┼───────────────────┼───────────────────────────\n",
              "│ annual_inc (\u001b[38;5;33mInputLayer\u001b[0m)           │ (\u001b[38;5;45mNone\u001b[0m, \u001b[38;5;34m1\u001b[0m)                    │                 \u001b[38;5;34m0\u001b[0m │ -                         \n",
              "├───────────────────────────────────┼──────────────────────────────┼───────────────────┼───────────────────────────\n",
              "│ dti (\u001b[38;5;33mInputLayer\u001b[0m)                  │ (\u001b[38;5;45mNone\u001b[0m, \u001b[38;5;34m1\u001b[0m)                    │                 \u001b[38;5;34m0\u001b[0m │ -                         \n",
              "├───────────────────────────────────┼──────────────────────────────┼───────────────────┼───────────────────────────\n",
              "│ delinq_2yrs (\u001b[38;5;33mInputLayer\u001b[0m)          │ (\u001b[38;5;45mNone\u001b[0m, \u001b[38;5;34m1\u001b[0m)                    │                 \u001b[38;5;34m0\u001b[0m │ -                         \n",
              "├───────────────────────────────────┼──────────────────────────────┼───────────────────┼───────────────────────────\n",
              "│ inq_last_6mths (\u001b[38;5;33mInputLayer\u001b[0m)       │ (\u001b[38;5;45mNone\u001b[0m, \u001b[38;5;34m1\u001b[0m)                    │                 \u001b[38;5;34m0\u001b[0m │ -                         \n",
              "├───────────────────────────────────┼──────────────────────────────┼───────────────────┼───────────────────────────\n",
              "│ open_acc (\u001b[38;5;33mInputLayer\u001b[0m)             │ (\u001b[38;5;45mNone\u001b[0m, \u001b[38;5;34m1\u001b[0m)                    │                 \u001b[38;5;34m0\u001b[0m │ -                         \n",
              "├───────────────────────────────────┼──────────────────────────────┼───────────────────┼───────────────────────────\n",
              "│ pub_rec (\u001b[38;5;33mInputLayer\u001b[0m)              │ (\u001b[38;5;45mNone\u001b[0m, \u001b[38;5;34m1\u001b[0m)                    │                 \u001b[38;5;34m0\u001b[0m │ -                         \n",
              "├───────────────────────────────────┼──────────────────────────────┼───────────────────┼───────────────────────────\n",
              "│ revol_bal (\u001b[38;5;33mInputLayer\u001b[0m)            │ (\u001b[38;5;45mNone\u001b[0m, \u001b[38;5;34m1\u001b[0m)                    │                 \u001b[38;5;34m0\u001b[0m │ -                         \n",
              "├───────────────────────────────────┼──────────────────────────────┼───────────────────┼───────────────────────────\n",
              "│ revol_util (\u001b[38;5;33mInputLayer\u001b[0m)           │ (\u001b[38;5;45mNone\u001b[0m, \u001b[38;5;34m1\u001b[0m)                    │                 \u001b[38;5;34m0\u001b[0m │ -                         \n",
              "├───────────────────────────────────┼──────────────────────────────┼───────────────────┼───────────────────────────\n",
              "│ total_acc (\u001b[38;5;33mInputLayer\u001b[0m)            │ (\u001b[38;5;45mNone\u001b[0m, \u001b[38;5;34m1\u001b[0m)                    │                 \u001b[38;5;34m0\u001b[0m │ -                         \n",
              "├───────────────────────────────────┼──────────────────────────────┼───────────────────┼───────────────────────────\n",
              "│ acc_now_delinq (\u001b[38;5;33mInputLayer\u001b[0m)       │ (\u001b[38;5;45mNone\u001b[0m, \u001b[38;5;34m1\u001b[0m)                    │                 \u001b[38;5;34m0\u001b[0m │ -                         \n",
              "├───────────────────────────────────┼──────────────────────────────┼───────────────────┼───────────────────────────\n",
              "│ tot_cur_bal (\u001b[38;5;33mInputLayer\u001b[0m)          │ (\u001b[38;5;45mNone\u001b[0m, \u001b[38;5;34m1\u001b[0m)                    │                 \u001b[38;5;34m0\u001b[0m │ -                         \n",
              "├───────────────────────────────────┼──────────────────────────────┼───────────────────┼───────────────────────────\n",
              "│ total_rev_hi_lim (\u001b[38;5;33mInputLayer\u001b[0m)     │ (\u001b[38;5;45mNone\u001b[0m, \u001b[38;5;34m1\u001b[0m)                    │                 \u001b[38;5;34m0\u001b[0m │ -                         \n",
              "├───────────────────────────────────┼──────────────────────────────┼───────────────────┼───────────────────────────\n",
              "│ term_hash (\u001b[38;5;33mHashing\u001b[0m)               │ (\u001b[38;5;45mNone\u001b[0m, \u001b[38;5;34m1\u001b[0m)                    │                 \u001b[38;5;34m0\u001b[0m │ term[\u001b[38;5;34m0\u001b[0m][\u001b[38;5;34m0\u001b[0m]                \n",
              "├───────────────────────────────────┼──────────────────────────────┼───────────────────┼───────────────────────────\n",
              "│ grade_hash (\u001b[38;5;33mHashing\u001b[0m)              │ (\u001b[38;5;45mNone\u001b[0m, \u001b[38;5;34m1\u001b[0m)                    │                 \u001b[38;5;34m0\u001b[0m │ grade[\u001b[38;5;34m0\u001b[0m][\u001b[38;5;34m0\u001b[0m]               \n",
              "├───────────────────────────────────┼──────────────────────────────┼───────────────────┼───────────────────────────\n",
              "│ sub_grade_hash (\u001b[38;5;33mHashing\u001b[0m)          │ (\u001b[38;5;45mNone\u001b[0m, \u001b[38;5;34m1\u001b[0m)                    │                 \u001b[38;5;34m0\u001b[0m │ sub_grade[\u001b[38;5;34m0\u001b[0m][\u001b[38;5;34m0\u001b[0m]           \n",
              "├───────────────────────────────────┼──────────────────────────────┼───────────────────┼───────────────────────────\n",
              "│ emp_title_hash (\u001b[38;5;33mHashing\u001b[0m)          │ (\u001b[38;5;45mNone\u001b[0m, \u001b[38;5;34m1\u001b[0m)                    │                 \u001b[38;5;34m0\u001b[0m │ emp_title[\u001b[38;5;34m0\u001b[0m][\u001b[38;5;34m0\u001b[0m]           \n",
              "├───────────────────────────────────┼──────────────────────────────┼───────────────────┼───────────────────────────\n",
              "│ emp_length_hash (\u001b[38;5;33mHashing\u001b[0m)         │ (\u001b[38;5;45mNone\u001b[0m, \u001b[38;5;34m1\u001b[0m)                    │                 \u001b[38;5;34m0\u001b[0m │ emp_length[\u001b[38;5;34m0\u001b[0m][\u001b[38;5;34m0\u001b[0m]          \n",
              "├───────────────────────────────────┼──────────────────────────────┼───────────────────┼───────────────────────────\n",
              "│ home_ownership_hash (\u001b[38;5;33mHashing\u001b[0m)     │ (\u001b[38;5;45mNone\u001b[0m, \u001b[38;5;34m1\u001b[0m)                    │                 \u001b[38;5;34m0\u001b[0m │ home_ownership[\u001b[38;5;34m0\u001b[0m][\u001b[38;5;34m0\u001b[0m]      \n",
              "├───────────────────────────────────┼──────────────────────────────┼───────────────────┼───────────────────────────\n",
              "│ verification_status_hash          │ (\u001b[38;5;45mNone\u001b[0m, \u001b[38;5;34m1\u001b[0m)                    │                 \u001b[38;5;34m0\u001b[0m │ verification_status[\u001b[38;5;34m0\u001b[0m][\u001b[38;5;34m0\u001b[0m] \n",
              "│ (\u001b[38;5;33mHashing\u001b[0m)                         │                              │                   │                           \n",
              "├───────────────────────────────────┼──────────────────────────────┼───────────────────┼───────────────────────────\n",
              "│ pymnt_plan_hash (\u001b[38;5;33mHashing\u001b[0m)         │ (\u001b[38;5;45mNone\u001b[0m, \u001b[38;5;34m1\u001b[0m)                    │                 \u001b[38;5;34m0\u001b[0m │ pymnt_plan[\u001b[38;5;34m0\u001b[0m][\u001b[38;5;34m0\u001b[0m]          \n",
              "├───────────────────────────────────┼──────────────────────────────┼───────────────────┼───────────────────────────\n",
              "│ purpose_hash (\u001b[38;5;33mHashing\u001b[0m)            │ (\u001b[38;5;45mNone\u001b[0m, \u001b[38;5;34m1\u001b[0m)                    │                 \u001b[38;5;34m0\u001b[0m │ purpose[\u001b[38;5;34m0\u001b[0m][\u001b[38;5;34m0\u001b[0m]             \n",
              "├───────────────────────────────────┼──────────────────────────────┼───────────────────┼───────────────────────────\n",
              "│ title_hash (\u001b[38;5;33mHashing\u001b[0m)              │ (\u001b[38;5;45mNone\u001b[0m, \u001b[38;5;34m1\u001b[0m)                    │                 \u001b[38;5;34m0\u001b[0m │ title[\u001b[38;5;34m0\u001b[0m][\u001b[38;5;34m0\u001b[0m]               \n",
              "├───────────────────────────────────┼──────────────────────────────┼───────────────────┼───────────────────────────\n",
              "│ zip_code_hash (\u001b[38;5;33mHashing\u001b[0m)           │ (\u001b[38;5;45mNone\u001b[0m, \u001b[38;5;34m1\u001b[0m)                    │                 \u001b[38;5;34m0\u001b[0m │ zip_code[\u001b[38;5;34m0\u001b[0m][\u001b[38;5;34m0\u001b[0m]            \n",
              "├───────────────────────────────────┼──────────────────────────────┼───────────────────┼───────────────────────────\n",
              "│ addr_state_hash (\u001b[38;5;33mHashing\u001b[0m)         │ (\u001b[38;5;45mNone\u001b[0m, \u001b[38;5;34m1\u001b[0m)                    │                 \u001b[38;5;34m0\u001b[0m │ addr_state[\u001b[38;5;34m0\u001b[0m][\u001b[38;5;34m0\u001b[0m]          \n",
              "├───────────────────────────────────┼──────────────────────────────┼───────────────────┼───────────────────────────\n",
              "│ earliest_cr_line_hash (\u001b[38;5;33mHashing\u001b[0m)   │ (\u001b[38;5;45mNone\u001b[0m, \u001b[38;5;34m1\u001b[0m)                    │                 \u001b[38;5;34m0\u001b[0m │ earliest_cr_line[\u001b[38;5;34m0\u001b[0m][\u001b[38;5;34m0\u001b[0m]    \n",
              "├───────────────────────────────────┼──────────────────────────────┼───────────────────┼───────────────────────────\n",
              "│ initial_list_status_hash          │ (\u001b[38;5;45mNone\u001b[0m, \u001b[38;5;34m1\u001b[0m)                    │                 \u001b[38;5;34m0\u001b[0m │ initial_list_status[\u001b[38;5;34m0\u001b[0m][\u001b[38;5;34m0\u001b[0m] \n",
              "│ (\u001b[38;5;33mHashing\u001b[0m)                         │                              │                   │                           \n",
              "├───────────────────────────────────┼──────────────────────────────┼───────────────────┼───────────────────────────\n",
              "│ application_type_hash (\u001b[38;5;33mHashing\u001b[0m)   │ (\u001b[38;5;45mNone\u001b[0m, \u001b[38;5;34m1\u001b[0m)                    │                 \u001b[38;5;34m0\u001b[0m │ application_type[\u001b[38;5;34m0\u001b[0m][\u001b[38;5;34m0\u001b[0m]    \n",
              "├───────────────────────────────────┼──────────────────────────────┼───────────────────┼───────────────────────────\n",
              "│ concatenate (\u001b[38;5;33mConcatenate\u001b[0m)         │ (\u001b[38;5;45mNone\u001b[0m, \u001b[38;5;34m17\u001b[0m)                   │                 \u001b[38;5;34m0\u001b[0m │ loan_amnt[\u001b[38;5;34m0\u001b[0m][\u001b[38;5;34m0\u001b[0m],          \n",
              "│                                   │                              │                   │ funded_amnt[\u001b[38;5;34m0\u001b[0m][\u001b[38;5;34m0\u001b[0m],        \n",
              "│                                   │                              │                   │ funded_amnt_inv[\u001b[38;5;34m0\u001b[0m][\u001b[38;5;34m0\u001b[0m],    \n",
              "│                                   │                              │                   │ int_rate[\u001b[38;5;34m0\u001b[0m][\u001b[38;5;34m0\u001b[0m],           \n",
              "│                                   │                              │                   │ installment[\u001b[38;5;34m0\u001b[0m][\u001b[38;5;34m0\u001b[0m],        \n",
              "│                                   │                              │                   │ annual_inc[\u001b[38;5;34m0\u001b[0m][\u001b[38;5;34m0\u001b[0m], dti[\u001b[38;5;34m0\u001b[0m][\u001b[38;5;34m0\u001b[0m\n",
              "│                                   │                              │                   │ delinq_2yrs[\u001b[38;5;34m0\u001b[0m][\u001b[38;5;34m0\u001b[0m],        \n",
              "│                                   │                              │                   │ inq_last_6mths[\u001b[38;5;34m0\u001b[0m][\u001b[38;5;34m0\u001b[0m],     \n",
              "│                                   │                              │                   │ open_acc[\u001b[38;5;34m0\u001b[0m][\u001b[38;5;34m0\u001b[0m],           \n",
              "│                                   │                              │                   │ pub_rec[\u001b[38;5;34m0\u001b[0m][\u001b[38;5;34m0\u001b[0m],            \n",
              "│                                   │                              │                   │ revol_bal[\u001b[38;5;34m0\u001b[0m][\u001b[38;5;34m0\u001b[0m],          \n",
              "│                                   │                              │                   │ revol_util[\u001b[38;5;34m0\u001b[0m][\u001b[38;5;34m0\u001b[0m],         \n",
              "│                                   │                              │                   │ total_acc[\u001b[38;5;34m0\u001b[0m][\u001b[38;5;34m0\u001b[0m],          \n",
              "│                                   │                              │                   │ acc_now_delinq[\u001b[38;5;34m0\u001b[0m][\u001b[38;5;34m0\u001b[0m],     \n",
              "│                                   │                              │                   │ tot_cur_bal[\u001b[38;5;34m0\u001b[0m][\u001b[38;5;34m0\u001b[0m],        \n",
              "│                                   │                              │                   │ total_rev_hi_lim[\u001b[38;5;34m0\u001b[0m][\u001b[38;5;34m0\u001b[0m]    \n",
              "├───────────────────────────────────┼──────────────────────────────┼───────────────────┼───────────────────────────\n",
              "│ embedding (\u001b[38;5;33mEmbedding\u001b[0m)             │ (\u001b[38;5;45mNone\u001b[0m, \u001b[38;5;34m1\u001b[0m, \u001b[38;5;34m8\u001b[0m)                 │             \u001b[38;5;34m8,192\u001b[0m │ term_hash[\u001b[38;5;34m0\u001b[0m][\u001b[38;5;34m0\u001b[0m]           \n",
              "├───────────────────────────────────┼──────────────────────────────┼───────────────────┼───────────────────────────\n",
              "│ embedding_1 (\u001b[38;5;33mEmbedding\u001b[0m)           │ (\u001b[38;5;45mNone\u001b[0m, \u001b[38;5;34m1\u001b[0m, \u001b[38;5;34m8\u001b[0m)                 │             \u001b[38;5;34m8,192\u001b[0m │ grade_hash[\u001b[38;5;34m0\u001b[0m][\u001b[38;5;34m0\u001b[0m]          \n",
              "├───────────────────────────────────┼──────────────────────────────┼───────────────────┼───────────────────────────\n",
              "│ embedding_2 (\u001b[38;5;33mEmbedding\u001b[0m)           │ (\u001b[38;5;45mNone\u001b[0m, \u001b[38;5;34m1\u001b[0m, \u001b[38;5;34m8\u001b[0m)                 │             \u001b[38;5;34m8,192\u001b[0m │ sub_grade_hash[\u001b[38;5;34m0\u001b[0m][\u001b[38;5;34m0\u001b[0m]      \n",
              "├───────────────────────────────────┼──────────────────────────────┼───────────────────┼───────────────────────────\n",
              "│ embedding_3 (\u001b[38;5;33mEmbedding\u001b[0m)           │ (\u001b[38;5;45mNone\u001b[0m, \u001b[38;5;34m1\u001b[0m, \u001b[38;5;34m8\u001b[0m)                 │             \u001b[38;5;34m8,192\u001b[0m │ emp_title_hash[\u001b[38;5;34m0\u001b[0m][\u001b[38;5;34m0\u001b[0m]      \n",
              "├───────────────────────────────────┼──────────────────────────────┼───────────────────┼───────────────────────────\n",
              "│ embedding_4 (\u001b[38;5;33mEmbedding\u001b[0m)           │ (\u001b[38;5;45mNone\u001b[0m, \u001b[38;5;34m1\u001b[0m, \u001b[38;5;34m8\u001b[0m)                 │             \u001b[38;5;34m8,192\u001b[0m │ emp_length_hash[\u001b[38;5;34m0\u001b[0m][\u001b[38;5;34m0\u001b[0m]     \n",
              "├───────────────────────────────────┼──────────────────────────────┼───────────────────┼───────────────────────────\n",
              "│ embedding_5 (\u001b[38;5;33mEmbedding\u001b[0m)           │ (\u001b[38;5;45mNone\u001b[0m, \u001b[38;5;34m1\u001b[0m, \u001b[38;5;34m8\u001b[0m)                 │             \u001b[38;5;34m8,192\u001b[0m │ home_ownership_hash[\u001b[38;5;34m0\u001b[0m][\u001b[38;5;34m0\u001b[0m] \n",
              "├───────────────────────────────────┼──────────────────────────────┼───────────────────┼───────────────────────────\n",
              "│ embedding_6 (\u001b[38;5;33mEmbedding\u001b[0m)           │ (\u001b[38;5;45mNone\u001b[0m, \u001b[38;5;34m1\u001b[0m, \u001b[38;5;34m8\u001b[0m)                 │             \u001b[38;5;34m8,192\u001b[0m │ verification_status_hash[\u001b[38;5;34m0\u001b[0m\n",
              "├───────────────────────────────────┼──────────────────────────────┼───────────────────┼───────────────────────────\n",
              "│ embedding_7 (\u001b[38;5;33mEmbedding\u001b[0m)           │ (\u001b[38;5;45mNone\u001b[0m, \u001b[38;5;34m1\u001b[0m, \u001b[38;5;34m8\u001b[0m)                 │             \u001b[38;5;34m8,192\u001b[0m │ pymnt_plan_hash[\u001b[38;5;34m0\u001b[0m][\u001b[38;5;34m0\u001b[0m]     \n",
              "├───────────────────────────────────┼──────────────────────────────┼───────────────────┼───────────────────────────\n",
              "│ embedding_8 (\u001b[38;5;33mEmbedding\u001b[0m)           │ (\u001b[38;5;45mNone\u001b[0m, \u001b[38;5;34m1\u001b[0m, \u001b[38;5;34m8\u001b[0m)                 │             \u001b[38;5;34m8,192\u001b[0m │ purpose_hash[\u001b[38;5;34m0\u001b[0m][\u001b[38;5;34m0\u001b[0m]        \n",
              "├───────────────────────────────────┼──────────────────────────────┼───────────────────┼───────────────────────────\n",
              "│ embedding_9 (\u001b[38;5;33mEmbedding\u001b[0m)           │ (\u001b[38;5;45mNone\u001b[0m, \u001b[38;5;34m1\u001b[0m, \u001b[38;5;34m8\u001b[0m)                 │             \u001b[38;5;34m8,192\u001b[0m │ title_hash[\u001b[38;5;34m0\u001b[0m][\u001b[38;5;34m0\u001b[0m]          \n",
              "├───────────────────────────────────┼──────────────────────────────┼───────────────────┼───────────────────────────\n",
              "│ embedding_10 (\u001b[38;5;33mEmbedding\u001b[0m)          │ (\u001b[38;5;45mNone\u001b[0m, \u001b[38;5;34m1\u001b[0m, \u001b[38;5;34m8\u001b[0m)                 │             \u001b[38;5;34m8,192\u001b[0m │ zip_code_hash[\u001b[38;5;34m0\u001b[0m][\u001b[38;5;34m0\u001b[0m]       \n",
              "├───────────────────────────────────┼──────────────────────────────┼───────────────────┼───────────────────────────\n",
              "│ embedding_11 (\u001b[38;5;33mEmbedding\u001b[0m)          │ (\u001b[38;5;45mNone\u001b[0m, \u001b[38;5;34m1\u001b[0m, \u001b[38;5;34m8\u001b[0m)                 │             \u001b[38;5;34m8,192\u001b[0m │ addr_state_hash[\u001b[38;5;34m0\u001b[0m][\u001b[38;5;34m0\u001b[0m]     \n",
              "├───────────────────────────────────┼──────────────────────────────┼───────────────────┼───────────────────────────\n",
              "│ embedding_12 (\u001b[38;5;33mEmbedding\u001b[0m)          │ (\u001b[38;5;45mNone\u001b[0m, \u001b[38;5;34m1\u001b[0m, \u001b[38;5;34m8\u001b[0m)                 │             \u001b[38;5;34m8,192\u001b[0m │ earliest_cr_line_hash[\u001b[38;5;34m0\u001b[0m][\u001b[38;5;34m0\u001b[0m\n",
              "├───────────────────────────────────┼──────────────────────────────┼───────────────────┼───────────────────────────\n",
              "│ embedding_13 (\u001b[38;5;33mEmbedding\u001b[0m)          │ (\u001b[38;5;45mNone\u001b[0m, \u001b[38;5;34m1\u001b[0m, \u001b[38;5;34m8\u001b[0m)                 │             \u001b[38;5;34m8,192\u001b[0m │ initial_list_status_hash[\u001b[38;5;34m0\u001b[0m\n",
              "├───────────────────────────────────┼──────────────────────────────┼───────────────────┼───────────────────────────\n",
              "│ embedding_14 (\u001b[38;5;33mEmbedding\u001b[0m)          │ (\u001b[38;5;45mNone\u001b[0m, \u001b[38;5;34m1\u001b[0m, \u001b[38;5;34m8\u001b[0m)                 │             \u001b[38;5;34m8,192\u001b[0m │ application_type_hash[\u001b[38;5;34m0\u001b[0m][\u001b[38;5;34m0\u001b[0m\n",
              "├───────────────────────────────────┼──────────────────────────────┼───────────────────┼───────────────────────────\n",
              "│ normalization (\u001b[38;5;33mNormalization\u001b[0m)     │ (\u001b[38;5;45mNone\u001b[0m, \u001b[38;5;34m17\u001b[0m)                   │                \u001b[38;5;34m35\u001b[0m │ concatenate[\u001b[38;5;34m0\u001b[0m][\u001b[38;5;34m0\u001b[0m]         \n",
              "├───────────────────────────────────┼──────────────────────────────┼───────────────────┼───────────────────────────\n",
              "│ flatten (\u001b[38;5;33mFlatten\u001b[0m)                 │ (\u001b[38;5;45mNone\u001b[0m, \u001b[38;5;34m8\u001b[0m)                    │                 \u001b[38;5;34m0\u001b[0m │ embedding[\u001b[38;5;34m0\u001b[0m][\u001b[38;5;34m0\u001b[0m]           \n",
              "├───────────────────────────────────┼──────────────────────────────┼───────────────────┼───────────────────────────\n",
              "│ flatten_1 (\u001b[38;5;33mFlatten\u001b[0m)               │ (\u001b[38;5;45mNone\u001b[0m, \u001b[38;5;34m8\u001b[0m)                    │                 \u001b[38;5;34m0\u001b[0m │ embedding_1[\u001b[38;5;34m0\u001b[0m][\u001b[38;5;34m0\u001b[0m]         \n",
              "├───────────────────────────────────┼──────────────────────────────┼───────────────────┼───────────────────────────\n",
              "│ flatten_2 (\u001b[38;5;33mFlatten\u001b[0m)               │ (\u001b[38;5;45mNone\u001b[0m, \u001b[38;5;34m8\u001b[0m)                    │                 \u001b[38;5;34m0\u001b[0m │ embedding_2[\u001b[38;5;34m0\u001b[0m][\u001b[38;5;34m0\u001b[0m]         \n",
              "├───────────────────────────────────┼──────────────────────────────┼───────────────────┼───────────────────────────\n",
              "│ flatten_3 (\u001b[38;5;33mFlatten\u001b[0m)               │ (\u001b[38;5;45mNone\u001b[0m, \u001b[38;5;34m8\u001b[0m)                    │                 \u001b[38;5;34m0\u001b[0m │ embedding_3[\u001b[38;5;34m0\u001b[0m][\u001b[38;5;34m0\u001b[0m]         \n",
              "├───────────────────────────────────┼──────────────────────────────┼───────────────────┼───────────────────────────\n",
              "│ flatten_4 (\u001b[38;5;33mFlatten\u001b[0m)               │ (\u001b[38;5;45mNone\u001b[0m, \u001b[38;5;34m8\u001b[0m)                    │                 \u001b[38;5;34m0\u001b[0m │ embedding_4[\u001b[38;5;34m0\u001b[0m][\u001b[38;5;34m0\u001b[0m]         \n",
              "├───────────────────────────────────┼──────────────────────────────┼───────────────────┼───────────────────────────\n",
              "│ flatten_5 (\u001b[38;5;33mFlatten\u001b[0m)               │ (\u001b[38;5;45mNone\u001b[0m, \u001b[38;5;34m8\u001b[0m)                    │                 \u001b[38;5;34m0\u001b[0m │ embedding_5[\u001b[38;5;34m0\u001b[0m][\u001b[38;5;34m0\u001b[0m]         \n",
              "├───────────────────────────────────┼──────────────────────────────┼───────────────────┼───────────────────────────\n",
              "│ flatten_6 (\u001b[38;5;33mFlatten\u001b[0m)               │ (\u001b[38;5;45mNone\u001b[0m, \u001b[38;5;34m8\u001b[0m)                    │                 \u001b[38;5;34m0\u001b[0m │ embedding_6[\u001b[38;5;34m0\u001b[0m][\u001b[38;5;34m0\u001b[0m]         \n",
              "├───────────────────────────────────┼──────────────────────────────┼───────────────────┼───────────────────────────\n",
              "│ flatten_7 (\u001b[38;5;33mFlatten\u001b[0m)               │ (\u001b[38;5;45mNone\u001b[0m, \u001b[38;5;34m8\u001b[0m)                    │                 \u001b[38;5;34m0\u001b[0m │ embedding_7[\u001b[38;5;34m0\u001b[0m][\u001b[38;5;34m0\u001b[0m]         \n",
              "├───────────────────────────────────┼──────────────────────────────┼───────────────────┼───────────────────────────\n",
              "│ flatten_8 (\u001b[38;5;33mFlatten\u001b[0m)               │ (\u001b[38;5;45mNone\u001b[0m, \u001b[38;5;34m8\u001b[0m)                    │                 \u001b[38;5;34m0\u001b[0m │ embedding_8[\u001b[38;5;34m0\u001b[0m][\u001b[38;5;34m0\u001b[0m]         \n",
              "├───────────────────────────────────┼──────────────────────────────┼───────────────────┼───────────────────────────\n",
              "│ flatten_9 (\u001b[38;5;33mFlatten\u001b[0m)               │ (\u001b[38;5;45mNone\u001b[0m, \u001b[38;5;34m8\u001b[0m)                    │                 \u001b[38;5;34m0\u001b[0m │ embedding_9[\u001b[38;5;34m0\u001b[0m][\u001b[38;5;34m0\u001b[0m]         \n",
              "├───────────────────────────────────┼──────────────────────────────┼───────────────────┼───────────────────────────\n",
              "│ flatten_10 (\u001b[38;5;33mFlatten\u001b[0m)              │ (\u001b[38;5;45mNone\u001b[0m, \u001b[38;5;34m8\u001b[0m)                    │                 \u001b[38;5;34m0\u001b[0m │ embedding_10[\u001b[38;5;34m0\u001b[0m][\u001b[38;5;34m0\u001b[0m]        \n",
              "├───────────────────────────────────┼──────────────────────────────┼───────────────────┼───────────────────────────\n",
              "│ flatten_11 (\u001b[38;5;33mFlatten\u001b[0m)              │ (\u001b[38;5;45mNone\u001b[0m, \u001b[38;5;34m8\u001b[0m)                    │                 \u001b[38;5;34m0\u001b[0m │ embedding_11[\u001b[38;5;34m0\u001b[0m][\u001b[38;5;34m0\u001b[0m]        \n",
              "├───────────────────────────────────┼──────────────────────────────┼───────────────────┼───────────────────────────\n",
              "│ flatten_12 (\u001b[38;5;33mFlatten\u001b[0m)              │ (\u001b[38;5;45mNone\u001b[0m, \u001b[38;5;34m8\u001b[0m)                    │                 \u001b[38;5;34m0\u001b[0m │ embedding_12[\u001b[38;5;34m0\u001b[0m][\u001b[38;5;34m0\u001b[0m]        \n",
              "├───────────────────────────────────┼──────────────────────────────┼───────────────────┼───────────────────────────\n",
              "│ flatten_13 (\u001b[38;5;33mFlatten\u001b[0m)              │ (\u001b[38;5;45mNone\u001b[0m, \u001b[38;5;34m8\u001b[0m)                    │                 \u001b[38;5;34m0\u001b[0m │ embedding_13[\u001b[38;5;34m0\u001b[0m][\u001b[38;5;34m0\u001b[0m]        \n",
              "├───────────────────────────────────┼──────────────────────────────┼───────────────────┼───────────────────────────\n",
              "│ flatten_14 (\u001b[38;5;33mFlatten\u001b[0m)              │ (\u001b[38;5;45mNone\u001b[0m, \u001b[38;5;34m8\u001b[0m)                    │                 \u001b[38;5;34m0\u001b[0m │ embedding_14[\u001b[38;5;34m0\u001b[0m][\u001b[38;5;34m0\u001b[0m]        \n",
              "├───────────────────────────────────┼──────────────────────────────┼───────────────────┼───────────────────────────\n",
              "│ concatenate_1 (\u001b[38;5;33mConcatenate\u001b[0m)       │ (\u001b[38;5;45mNone\u001b[0m, \u001b[38;5;34m137\u001b[0m)                  │                 \u001b[38;5;34m0\u001b[0m │ normalization[\u001b[38;5;34m0\u001b[0m][\u001b[38;5;34m0\u001b[0m],      \n",
              "│                                   │                              │                   │ flatten[\u001b[38;5;34m0\u001b[0m][\u001b[38;5;34m0\u001b[0m],            \n",
              "│                                   │                              │                   │ flatten_1[\u001b[38;5;34m0\u001b[0m][\u001b[38;5;34m0\u001b[0m],          \n",
              "│                                   │                              │                   │ flatten_2[\u001b[38;5;34m0\u001b[0m][\u001b[38;5;34m0\u001b[0m],          \n",
              "│                                   │                              │                   │ flatten_3[\u001b[38;5;34m0\u001b[0m][\u001b[38;5;34m0\u001b[0m],          \n",
              "│                                   │                              │                   │ flatten_4[\u001b[38;5;34m0\u001b[0m][\u001b[38;5;34m0\u001b[0m],          \n",
              "│                                   │                              │                   │ flatten_5[\u001b[38;5;34m0\u001b[0m][\u001b[38;5;34m0\u001b[0m],          \n",
              "│                                   │                              │                   │ flatten_6[\u001b[38;5;34m0\u001b[0m][\u001b[38;5;34m0\u001b[0m],          \n",
              "│                                   │                              │                   │ flatten_7[\u001b[38;5;34m0\u001b[0m][\u001b[38;5;34m0\u001b[0m],          \n",
              "│                                   │                              │                   │ flatten_8[\u001b[38;5;34m0\u001b[0m][\u001b[38;5;34m0\u001b[0m],          \n",
              "│                                   │                              │                   │ flatten_9[\u001b[38;5;34m0\u001b[0m][\u001b[38;5;34m0\u001b[0m],          \n",
              "│                                   │                              │                   │ flatten_10[\u001b[38;5;34m0\u001b[0m][\u001b[38;5;34m0\u001b[0m],         \n",
              "│                                   │                              │                   │ flatten_11[\u001b[38;5;34m0\u001b[0m][\u001b[38;5;34m0\u001b[0m],         \n",
              "│                                   │                              │                   │ flatten_12[\u001b[38;5;34m0\u001b[0m][\u001b[38;5;34m0\u001b[0m],         \n",
              "│                                   │                              │                   │ flatten_13[\u001b[38;5;34m0\u001b[0m][\u001b[38;5;34m0\u001b[0m],         \n",
              "│                                   │                              │                   │ flatten_14[\u001b[38;5;34m0\u001b[0m][\u001b[38;5;34m0\u001b[0m]          \n",
              "└───────────────────────────────────┴──────────────────────────────┴───────────────────┴───────────────────────────\n"
            ],
            "text/html": [
              "<pre style=\"white-space:pre;overflow-x:auto;line-height:normal;font-family:Menlo,'DejaVu Sans Mono',consolas,'Courier New',monospace\">┏━━━━━━━━━━━━━━━━━━━━━━━━━━━━━━━━━━━┳━━━━━━━━━━━━━━━━━━━━━━━━━━━━━━┳━━━━━━━━━━━━━━━━━━━┳━━━━━━━━━━━━━━━━━━━━━━━━━━━\n",
              "┃<span style=\"font-weight: bold\"> Layer (type)                      </span>┃<span style=\"font-weight: bold\"> Output Shape                 </span>┃<span style=\"font-weight: bold\">           Param # </span>┃<span style=\"font-weight: bold\"> Connected to              </span>\n",
              "┡━━━━━━━━━━━━━━━━━━━━━━━━━━━━━━━━━━━╇━━━━━━━━━━━━━━━━━━━━━━━━━━━━━━╇━━━━━━━━━━━━━━━━━━━╇━━━━━━━━━━━━━━━━━━━━━━━━━━━\n",
              "│ term (<span style=\"color: #0087ff; text-decoration-color: #0087ff\">InputLayer</span>)                 │ (<span style=\"color: #00d7ff; text-decoration-color: #00d7ff\">None</span>, <span style=\"color: #00af00; text-decoration-color: #00af00\">1</span>)                    │                 <span style=\"color: #00af00; text-decoration-color: #00af00\">0</span> │ -                         \n",
              "├───────────────────────────────────┼──────────────────────────────┼───────────────────┼───────────────────────────\n",
              "│ grade (<span style=\"color: #0087ff; text-decoration-color: #0087ff\">InputLayer</span>)                │ (<span style=\"color: #00d7ff; text-decoration-color: #00d7ff\">None</span>, <span style=\"color: #00af00; text-decoration-color: #00af00\">1</span>)                    │                 <span style=\"color: #00af00; text-decoration-color: #00af00\">0</span> │ -                         \n",
              "├───────────────────────────────────┼──────────────────────────────┼───────────────────┼───────────────────────────\n",
              "│ sub_grade (<span style=\"color: #0087ff; text-decoration-color: #0087ff\">InputLayer</span>)            │ (<span style=\"color: #00d7ff; text-decoration-color: #00d7ff\">None</span>, <span style=\"color: #00af00; text-decoration-color: #00af00\">1</span>)                    │                 <span style=\"color: #00af00; text-decoration-color: #00af00\">0</span> │ -                         \n",
              "├───────────────────────────────────┼──────────────────────────────┼───────────────────┼───────────────────────────\n",
              "│ emp_title (<span style=\"color: #0087ff; text-decoration-color: #0087ff\">InputLayer</span>)            │ (<span style=\"color: #00d7ff; text-decoration-color: #00d7ff\">None</span>, <span style=\"color: #00af00; text-decoration-color: #00af00\">1</span>)                    │                 <span style=\"color: #00af00; text-decoration-color: #00af00\">0</span> │ -                         \n",
              "├───────────────────────────────────┼──────────────────────────────┼───────────────────┼───────────────────────────\n",
              "│ emp_length (<span style=\"color: #0087ff; text-decoration-color: #0087ff\">InputLayer</span>)           │ (<span style=\"color: #00d7ff; text-decoration-color: #00d7ff\">None</span>, <span style=\"color: #00af00; text-decoration-color: #00af00\">1</span>)                    │                 <span style=\"color: #00af00; text-decoration-color: #00af00\">0</span> │ -                         \n",
              "├───────────────────────────────────┼──────────────────────────────┼───────────────────┼───────────────────────────\n",
              "│ home_ownership (<span style=\"color: #0087ff; text-decoration-color: #0087ff\">InputLayer</span>)       │ (<span style=\"color: #00d7ff; text-decoration-color: #00d7ff\">None</span>, <span style=\"color: #00af00; text-decoration-color: #00af00\">1</span>)                    │                 <span style=\"color: #00af00; text-decoration-color: #00af00\">0</span> │ -                         \n",
              "├───────────────────────────────────┼──────────────────────────────┼───────────────────┼───────────────────────────\n",
              "│ verification_status (<span style=\"color: #0087ff; text-decoration-color: #0087ff\">InputLayer</span>)  │ (<span style=\"color: #00d7ff; text-decoration-color: #00d7ff\">None</span>, <span style=\"color: #00af00; text-decoration-color: #00af00\">1</span>)                    │                 <span style=\"color: #00af00; text-decoration-color: #00af00\">0</span> │ -                         \n",
              "├───────────────────────────────────┼──────────────────────────────┼───────────────────┼───────────────────────────\n",
              "│ pymnt_plan (<span style=\"color: #0087ff; text-decoration-color: #0087ff\">InputLayer</span>)           │ (<span style=\"color: #00d7ff; text-decoration-color: #00d7ff\">None</span>, <span style=\"color: #00af00; text-decoration-color: #00af00\">1</span>)                    │                 <span style=\"color: #00af00; text-decoration-color: #00af00\">0</span> │ -                         \n",
              "├───────────────────────────────────┼──────────────────────────────┼───────────────────┼───────────────────────────\n",
              "│ purpose (<span style=\"color: #0087ff; text-decoration-color: #0087ff\">InputLayer</span>)              │ (<span style=\"color: #00d7ff; text-decoration-color: #00d7ff\">None</span>, <span style=\"color: #00af00; text-decoration-color: #00af00\">1</span>)                    │                 <span style=\"color: #00af00; text-decoration-color: #00af00\">0</span> │ -                         \n",
              "├───────────────────────────────────┼──────────────────────────────┼───────────────────┼───────────────────────────\n",
              "│ title (<span style=\"color: #0087ff; text-decoration-color: #0087ff\">InputLayer</span>)                │ (<span style=\"color: #00d7ff; text-decoration-color: #00d7ff\">None</span>, <span style=\"color: #00af00; text-decoration-color: #00af00\">1</span>)                    │                 <span style=\"color: #00af00; text-decoration-color: #00af00\">0</span> │ -                         \n",
              "├───────────────────────────────────┼──────────────────────────────┼───────────────────┼───────────────────────────\n",
              "│ zip_code (<span style=\"color: #0087ff; text-decoration-color: #0087ff\">InputLayer</span>)             │ (<span style=\"color: #00d7ff; text-decoration-color: #00d7ff\">None</span>, <span style=\"color: #00af00; text-decoration-color: #00af00\">1</span>)                    │                 <span style=\"color: #00af00; text-decoration-color: #00af00\">0</span> │ -                         \n",
              "├───────────────────────────────────┼──────────────────────────────┼───────────────────┼───────────────────────────\n",
              "│ addr_state (<span style=\"color: #0087ff; text-decoration-color: #0087ff\">InputLayer</span>)           │ (<span style=\"color: #00d7ff; text-decoration-color: #00d7ff\">None</span>, <span style=\"color: #00af00; text-decoration-color: #00af00\">1</span>)                    │                 <span style=\"color: #00af00; text-decoration-color: #00af00\">0</span> │ -                         \n",
              "├───────────────────────────────────┼──────────────────────────────┼───────────────────┼───────────────────────────\n",
              "│ earliest_cr_line (<span style=\"color: #0087ff; text-decoration-color: #0087ff\">InputLayer</span>)     │ (<span style=\"color: #00d7ff; text-decoration-color: #00d7ff\">None</span>, <span style=\"color: #00af00; text-decoration-color: #00af00\">1</span>)                    │                 <span style=\"color: #00af00; text-decoration-color: #00af00\">0</span> │ -                         \n",
              "├───────────────────────────────────┼──────────────────────────────┼───────────────────┼───────────────────────────\n",
              "│ initial_list_status (<span style=\"color: #0087ff; text-decoration-color: #0087ff\">InputLayer</span>)  │ (<span style=\"color: #00d7ff; text-decoration-color: #00d7ff\">None</span>, <span style=\"color: #00af00; text-decoration-color: #00af00\">1</span>)                    │                 <span style=\"color: #00af00; text-decoration-color: #00af00\">0</span> │ -                         \n",
              "├───────────────────────────────────┼──────────────────────────────┼───────────────────┼───────────────────────────\n",
              "│ application_type (<span style=\"color: #0087ff; text-decoration-color: #0087ff\">InputLayer</span>)     │ (<span style=\"color: #00d7ff; text-decoration-color: #00d7ff\">None</span>, <span style=\"color: #00af00; text-decoration-color: #00af00\">1</span>)                    │                 <span style=\"color: #00af00; text-decoration-color: #00af00\">0</span> │ -                         \n",
              "├───────────────────────────────────┼──────────────────────────────┼───────────────────┼───────────────────────────\n",
              "│ loan_amnt (<span style=\"color: #0087ff; text-decoration-color: #0087ff\">InputLayer</span>)            │ (<span style=\"color: #00d7ff; text-decoration-color: #00d7ff\">None</span>, <span style=\"color: #00af00; text-decoration-color: #00af00\">1</span>)                    │                 <span style=\"color: #00af00; text-decoration-color: #00af00\">0</span> │ -                         \n",
              "├───────────────────────────────────┼──────────────────────────────┼───────────────────┼───────────────────────────\n",
              "│ funded_amnt (<span style=\"color: #0087ff; text-decoration-color: #0087ff\">InputLayer</span>)          │ (<span style=\"color: #00d7ff; text-decoration-color: #00d7ff\">None</span>, <span style=\"color: #00af00; text-decoration-color: #00af00\">1</span>)                    │                 <span style=\"color: #00af00; text-decoration-color: #00af00\">0</span> │ -                         \n",
              "├───────────────────────────────────┼──────────────────────────────┼───────────────────┼───────────────────────────\n",
              "│ funded_amnt_inv (<span style=\"color: #0087ff; text-decoration-color: #0087ff\">InputLayer</span>)      │ (<span style=\"color: #00d7ff; text-decoration-color: #00d7ff\">None</span>, <span style=\"color: #00af00; text-decoration-color: #00af00\">1</span>)                    │                 <span style=\"color: #00af00; text-decoration-color: #00af00\">0</span> │ -                         \n",
              "├───────────────────────────────────┼──────────────────────────────┼───────────────────┼───────────────────────────\n",
              "│ int_rate (<span style=\"color: #0087ff; text-decoration-color: #0087ff\">InputLayer</span>)             │ (<span style=\"color: #00d7ff; text-decoration-color: #00d7ff\">None</span>, <span style=\"color: #00af00; text-decoration-color: #00af00\">1</span>)                    │                 <span style=\"color: #00af00; text-decoration-color: #00af00\">0</span> │ -                         \n",
              "├───────────────────────────────────┼──────────────────────────────┼───────────────────┼───────────────────────────\n",
              "│ installment (<span style=\"color: #0087ff; text-decoration-color: #0087ff\">InputLayer</span>)          │ (<span style=\"color: #00d7ff; text-decoration-color: #00d7ff\">None</span>, <span style=\"color: #00af00; text-decoration-color: #00af00\">1</span>)                    │                 <span style=\"color: #00af00; text-decoration-color: #00af00\">0</span> │ -                         \n",
              "├───────────────────────────────────┼──────────────────────────────┼───────────────────┼───────────────────────────\n",
              "│ annual_inc (<span style=\"color: #0087ff; text-decoration-color: #0087ff\">InputLayer</span>)           │ (<span style=\"color: #00d7ff; text-decoration-color: #00d7ff\">None</span>, <span style=\"color: #00af00; text-decoration-color: #00af00\">1</span>)                    │                 <span style=\"color: #00af00; text-decoration-color: #00af00\">0</span> │ -                         \n",
              "├───────────────────────────────────┼──────────────────────────────┼───────────────────┼───────────────────────────\n",
              "│ dti (<span style=\"color: #0087ff; text-decoration-color: #0087ff\">InputLayer</span>)                  │ (<span style=\"color: #00d7ff; text-decoration-color: #00d7ff\">None</span>, <span style=\"color: #00af00; text-decoration-color: #00af00\">1</span>)                    │                 <span style=\"color: #00af00; text-decoration-color: #00af00\">0</span> │ -                         \n",
              "├───────────────────────────────────┼──────────────────────────────┼───────────────────┼───────────────────────────\n",
              "│ delinq_2yrs (<span style=\"color: #0087ff; text-decoration-color: #0087ff\">InputLayer</span>)          │ (<span style=\"color: #00d7ff; text-decoration-color: #00d7ff\">None</span>, <span style=\"color: #00af00; text-decoration-color: #00af00\">1</span>)                    │                 <span style=\"color: #00af00; text-decoration-color: #00af00\">0</span> │ -                         \n",
              "├───────────────────────────────────┼──────────────────────────────┼───────────────────┼───────────────────────────\n",
              "│ inq_last_6mths (<span style=\"color: #0087ff; text-decoration-color: #0087ff\">InputLayer</span>)       │ (<span style=\"color: #00d7ff; text-decoration-color: #00d7ff\">None</span>, <span style=\"color: #00af00; text-decoration-color: #00af00\">1</span>)                    │                 <span style=\"color: #00af00; text-decoration-color: #00af00\">0</span> │ -                         \n",
              "├───────────────────────────────────┼──────────────────────────────┼───────────────────┼───────────────────────────\n",
              "│ open_acc (<span style=\"color: #0087ff; text-decoration-color: #0087ff\">InputLayer</span>)             │ (<span style=\"color: #00d7ff; text-decoration-color: #00d7ff\">None</span>, <span style=\"color: #00af00; text-decoration-color: #00af00\">1</span>)                    │                 <span style=\"color: #00af00; text-decoration-color: #00af00\">0</span> │ -                         \n",
              "├───────────────────────────────────┼──────────────────────────────┼───────────────────┼───────────────────────────\n",
              "│ pub_rec (<span style=\"color: #0087ff; text-decoration-color: #0087ff\">InputLayer</span>)              │ (<span style=\"color: #00d7ff; text-decoration-color: #00d7ff\">None</span>, <span style=\"color: #00af00; text-decoration-color: #00af00\">1</span>)                    │                 <span style=\"color: #00af00; text-decoration-color: #00af00\">0</span> │ -                         \n",
              "├───────────────────────────────────┼──────────────────────────────┼───────────────────┼───────────────────────────\n",
              "│ revol_bal (<span style=\"color: #0087ff; text-decoration-color: #0087ff\">InputLayer</span>)            │ (<span style=\"color: #00d7ff; text-decoration-color: #00d7ff\">None</span>, <span style=\"color: #00af00; text-decoration-color: #00af00\">1</span>)                    │                 <span style=\"color: #00af00; text-decoration-color: #00af00\">0</span> │ -                         \n",
              "├───────────────────────────────────┼──────────────────────────────┼───────────────────┼───────────────────────────\n",
              "│ revol_util (<span style=\"color: #0087ff; text-decoration-color: #0087ff\">InputLayer</span>)           │ (<span style=\"color: #00d7ff; text-decoration-color: #00d7ff\">None</span>, <span style=\"color: #00af00; text-decoration-color: #00af00\">1</span>)                    │                 <span style=\"color: #00af00; text-decoration-color: #00af00\">0</span> │ -                         \n",
              "├───────────────────────────────────┼──────────────────────────────┼───────────────────┼───────────────────────────\n",
              "│ total_acc (<span style=\"color: #0087ff; text-decoration-color: #0087ff\">InputLayer</span>)            │ (<span style=\"color: #00d7ff; text-decoration-color: #00d7ff\">None</span>, <span style=\"color: #00af00; text-decoration-color: #00af00\">1</span>)                    │                 <span style=\"color: #00af00; text-decoration-color: #00af00\">0</span> │ -                         \n",
              "├───────────────────────────────────┼──────────────────────────────┼───────────────────┼───────────────────────────\n",
              "│ acc_now_delinq (<span style=\"color: #0087ff; text-decoration-color: #0087ff\">InputLayer</span>)       │ (<span style=\"color: #00d7ff; text-decoration-color: #00d7ff\">None</span>, <span style=\"color: #00af00; text-decoration-color: #00af00\">1</span>)                    │                 <span style=\"color: #00af00; text-decoration-color: #00af00\">0</span> │ -                         \n",
              "├───────────────────────────────────┼──────────────────────────────┼───────────────────┼───────────────────────────\n",
              "│ tot_cur_bal (<span style=\"color: #0087ff; text-decoration-color: #0087ff\">InputLayer</span>)          │ (<span style=\"color: #00d7ff; text-decoration-color: #00d7ff\">None</span>, <span style=\"color: #00af00; text-decoration-color: #00af00\">1</span>)                    │                 <span style=\"color: #00af00; text-decoration-color: #00af00\">0</span> │ -                         \n",
              "├───────────────────────────────────┼──────────────────────────────┼───────────────────┼───────────────────────────\n",
              "│ total_rev_hi_lim (<span style=\"color: #0087ff; text-decoration-color: #0087ff\">InputLayer</span>)     │ (<span style=\"color: #00d7ff; text-decoration-color: #00d7ff\">None</span>, <span style=\"color: #00af00; text-decoration-color: #00af00\">1</span>)                    │                 <span style=\"color: #00af00; text-decoration-color: #00af00\">0</span> │ -                         \n",
              "├───────────────────────────────────┼──────────────────────────────┼───────────────────┼───────────────────────────\n",
              "│ term_hash (<span style=\"color: #0087ff; text-decoration-color: #0087ff\">Hashing</span>)               │ (<span style=\"color: #00d7ff; text-decoration-color: #00d7ff\">None</span>, <span style=\"color: #00af00; text-decoration-color: #00af00\">1</span>)                    │                 <span style=\"color: #00af00; text-decoration-color: #00af00\">0</span> │ term[<span style=\"color: #00af00; text-decoration-color: #00af00\">0</span>][<span style=\"color: #00af00; text-decoration-color: #00af00\">0</span>]                \n",
              "├───────────────────────────────────┼──────────────────────────────┼───────────────────┼───────────────────────────\n",
              "│ grade_hash (<span style=\"color: #0087ff; text-decoration-color: #0087ff\">Hashing</span>)              │ (<span style=\"color: #00d7ff; text-decoration-color: #00d7ff\">None</span>, <span style=\"color: #00af00; text-decoration-color: #00af00\">1</span>)                    │                 <span style=\"color: #00af00; text-decoration-color: #00af00\">0</span> │ grade[<span style=\"color: #00af00; text-decoration-color: #00af00\">0</span>][<span style=\"color: #00af00; text-decoration-color: #00af00\">0</span>]               \n",
              "├───────────────────────────────────┼──────────────────────────────┼───────────────────┼───────────────────────────\n",
              "│ sub_grade_hash (<span style=\"color: #0087ff; text-decoration-color: #0087ff\">Hashing</span>)          │ (<span style=\"color: #00d7ff; text-decoration-color: #00d7ff\">None</span>, <span style=\"color: #00af00; text-decoration-color: #00af00\">1</span>)                    │                 <span style=\"color: #00af00; text-decoration-color: #00af00\">0</span> │ sub_grade[<span style=\"color: #00af00; text-decoration-color: #00af00\">0</span>][<span style=\"color: #00af00; text-decoration-color: #00af00\">0</span>]           \n",
              "├───────────────────────────────────┼──────────────────────────────┼───────────────────┼───────────────────────────\n",
              "│ emp_title_hash (<span style=\"color: #0087ff; text-decoration-color: #0087ff\">Hashing</span>)          │ (<span style=\"color: #00d7ff; text-decoration-color: #00d7ff\">None</span>, <span style=\"color: #00af00; text-decoration-color: #00af00\">1</span>)                    │                 <span style=\"color: #00af00; text-decoration-color: #00af00\">0</span> │ emp_title[<span style=\"color: #00af00; text-decoration-color: #00af00\">0</span>][<span style=\"color: #00af00; text-decoration-color: #00af00\">0</span>]           \n",
              "├───────────────────────────────────┼──────────────────────────────┼───────────────────┼───────────────────────────\n",
              "│ emp_length_hash (<span style=\"color: #0087ff; text-decoration-color: #0087ff\">Hashing</span>)         │ (<span style=\"color: #00d7ff; text-decoration-color: #00d7ff\">None</span>, <span style=\"color: #00af00; text-decoration-color: #00af00\">1</span>)                    │                 <span style=\"color: #00af00; text-decoration-color: #00af00\">0</span> │ emp_length[<span style=\"color: #00af00; text-decoration-color: #00af00\">0</span>][<span style=\"color: #00af00; text-decoration-color: #00af00\">0</span>]          \n",
              "├───────────────────────────────────┼──────────────────────────────┼───────────────────┼───────────────────────────\n",
              "│ home_ownership_hash (<span style=\"color: #0087ff; text-decoration-color: #0087ff\">Hashing</span>)     │ (<span style=\"color: #00d7ff; text-decoration-color: #00d7ff\">None</span>, <span style=\"color: #00af00; text-decoration-color: #00af00\">1</span>)                    │                 <span style=\"color: #00af00; text-decoration-color: #00af00\">0</span> │ home_ownership[<span style=\"color: #00af00; text-decoration-color: #00af00\">0</span>][<span style=\"color: #00af00; text-decoration-color: #00af00\">0</span>]      \n",
              "├───────────────────────────────────┼──────────────────────────────┼───────────────────┼───────────────────────────\n",
              "│ verification_status_hash          │ (<span style=\"color: #00d7ff; text-decoration-color: #00d7ff\">None</span>, <span style=\"color: #00af00; text-decoration-color: #00af00\">1</span>)                    │                 <span style=\"color: #00af00; text-decoration-color: #00af00\">0</span> │ verification_status[<span style=\"color: #00af00; text-decoration-color: #00af00\">0</span>][<span style=\"color: #00af00; text-decoration-color: #00af00\">0</span>] \n",
              "│ (<span style=\"color: #0087ff; text-decoration-color: #0087ff\">Hashing</span>)                         │                              │                   │                           \n",
              "├───────────────────────────────────┼──────────────────────────────┼───────────────────┼───────────────────────────\n",
              "│ pymnt_plan_hash (<span style=\"color: #0087ff; text-decoration-color: #0087ff\">Hashing</span>)         │ (<span style=\"color: #00d7ff; text-decoration-color: #00d7ff\">None</span>, <span style=\"color: #00af00; text-decoration-color: #00af00\">1</span>)                    │                 <span style=\"color: #00af00; text-decoration-color: #00af00\">0</span> │ pymnt_plan[<span style=\"color: #00af00; text-decoration-color: #00af00\">0</span>][<span style=\"color: #00af00; text-decoration-color: #00af00\">0</span>]          \n",
              "├───────────────────────────────────┼──────────────────────────────┼───────────────────┼───────────────────────────\n",
              "│ purpose_hash (<span style=\"color: #0087ff; text-decoration-color: #0087ff\">Hashing</span>)            │ (<span style=\"color: #00d7ff; text-decoration-color: #00d7ff\">None</span>, <span style=\"color: #00af00; text-decoration-color: #00af00\">1</span>)                    │                 <span style=\"color: #00af00; text-decoration-color: #00af00\">0</span> │ purpose[<span style=\"color: #00af00; text-decoration-color: #00af00\">0</span>][<span style=\"color: #00af00; text-decoration-color: #00af00\">0</span>]             \n",
              "├───────────────────────────────────┼──────────────────────────────┼───────────────────┼───────────────────────────\n",
              "│ title_hash (<span style=\"color: #0087ff; text-decoration-color: #0087ff\">Hashing</span>)              │ (<span style=\"color: #00d7ff; text-decoration-color: #00d7ff\">None</span>, <span style=\"color: #00af00; text-decoration-color: #00af00\">1</span>)                    │                 <span style=\"color: #00af00; text-decoration-color: #00af00\">0</span> │ title[<span style=\"color: #00af00; text-decoration-color: #00af00\">0</span>][<span style=\"color: #00af00; text-decoration-color: #00af00\">0</span>]               \n",
              "├───────────────────────────────────┼──────────────────────────────┼───────────────────┼───────────────────────────\n",
              "│ zip_code_hash (<span style=\"color: #0087ff; text-decoration-color: #0087ff\">Hashing</span>)           │ (<span style=\"color: #00d7ff; text-decoration-color: #00d7ff\">None</span>, <span style=\"color: #00af00; text-decoration-color: #00af00\">1</span>)                    │                 <span style=\"color: #00af00; text-decoration-color: #00af00\">0</span> │ zip_code[<span style=\"color: #00af00; text-decoration-color: #00af00\">0</span>][<span style=\"color: #00af00; text-decoration-color: #00af00\">0</span>]            \n",
              "├───────────────────────────────────┼──────────────────────────────┼───────────────────┼───────────────────────────\n",
              "│ addr_state_hash (<span style=\"color: #0087ff; text-decoration-color: #0087ff\">Hashing</span>)         │ (<span style=\"color: #00d7ff; text-decoration-color: #00d7ff\">None</span>, <span style=\"color: #00af00; text-decoration-color: #00af00\">1</span>)                    │                 <span style=\"color: #00af00; text-decoration-color: #00af00\">0</span> │ addr_state[<span style=\"color: #00af00; text-decoration-color: #00af00\">0</span>][<span style=\"color: #00af00; text-decoration-color: #00af00\">0</span>]          \n",
              "├───────────────────────────────────┼──────────────────────────────┼───────────────────┼───────────────────────────\n",
              "│ earliest_cr_line_hash (<span style=\"color: #0087ff; text-decoration-color: #0087ff\">Hashing</span>)   │ (<span style=\"color: #00d7ff; text-decoration-color: #00d7ff\">None</span>, <span style=\"color: #00af00; text-decoration-color: #00af00\">1</span>)                    │                 <span style=\"color: #00af00; text-decoration-color: #00af00\">0</span> │ earliest_cr_line[<span style=\"color: #00af00; text-decoration-color: #00af00\">0</span>][<span style=\"color: #00af00; text-decoration-color: #00af00\">0</span>]    \n",
              "├───────────────────────────────────┼──────────────────────────────┼───────────────────┼───────────────────────────\n",
              "│ initial_list_status_hash          │ (<span style=\"color: #00d7ff; text-decoration-color: #00d7ff\">None</span>, <span style=\"color: #00af00; text-decoration-color: #00af00\">1</span>)                    │                 <span style=\"color: #00af00; text-decoration-color: #00af00\">0</span> │ initial_list_status[<span style=\"color: #00af00; text-decoration-color: #00af00\">0</span>][<span style=\"color: #00af00; text-decoration-color: #00af00\">0</span>] \n",
              "│ (<span style=\"color: #0087ff; text-decoration-color: #0087ff\">Hashing</span>)                         │                              │                   │                           \n",
              "├───────────────────────────────────┼──────────────────────────────┼───────────────────┼───────────────────────────\n",
              "│ application_type_hash (<span style=\"color: #0087ff; text-decoration-color: #0087ff\">Hashing</span>)   │ (<span style=\"color: #00d7ff; text-decoration-color: #00d7ff\">None</span>, <span style=\"color: #00af00; text-decoration-color: #00af00\">1</span>)                    │                 <span style=\"color: #00af00; text-decoration-color: #00af00\">0</span> │ application_type[<span style=\"color: #00af00; text-decoration-color: #00af00\">0</span>][<span style=\"color: #00af00; text-decoration-color: #00af00\">0</span>]    \n",
              "├───────────────────────────────────┼──────────────────────────────┼───────────────────┼───────────────────────────\n",
              "│ concatenate (<span style=\"color: #0087ff; text-decoration-color: #0087ff\">Concatenate</span>)         │ (<span style=\"color: #00d7ff; text-decoration-color: #00d7ff\">None</span>, <span style=\"color: #00af00; text-decoration-color: #00af00\">17</span>)                   │                 <span style=\"color: #00af00; text-decoration-color: #00af00\">0</span> │ loan_amnt[<span style=\"color: #00af00; text-decoration-color: #00af00\">0</span>][<span style=\"color: #00af00; text-decoration-color: #00af00\">0</span>],          \n",
              "│                                   │                              │                   │ funded_amnt[<span style=\"color: #00af00; text-decoration-color: #00af00\">0</span>][<span style=\"color: #00af00; text-decoration-color: #00af00\">0</span>],        \n",
              "│                                   │                              │                   │ funded_amnt_inv[<span style=\"color: #00af00; text-decoration-color: #00af00\">0</span>][<span style=\"color: #00af00; text-decoration-color: #00af00\">0</span>],    \n",
              "│                                   │                              │                   │ int_rate[<span style=\"color: #00af00; text-decoration-color: #00af00\">0</span>][<span style=\"color: #00af00; text-decoration-color: #00af00\">0</span>],           \n",
              "│                                   │                              │                   │ installment[<span style=\"color: #00af00; text-decoration-color: #00af00\">0</span>][<span style=\"color: #00af00; text-decoration-color: #00af00\">0</span>],        \n",
              "│                                   │                              │                   │ annual_inc[<span style=\"color: #00af00; text-decoration-color: #00af00\">0</span>][<span style=\"color: #00af00; text-decoration-color: #00af00\">0</span>], dti[<span style=\"color: #00af00; text-decoration-color: #00af00\">0</span>][<span style=\"color: #00af00; text-decoration-color: #00af00\">0</span>\n",
              "│                                   │                              │                   │ delinq_2yrs[<span style=\"color: #00af00; text-decoration-color: #00af00\">0</span>][<span style=\"color: #00af00; text-decoration-color: #00af00\">0</span>],        \n",
              "│                                   │                              │                   │ inq_last_6mths[<span style=\"color: #00af00; text-decoration-color: #00af00\">0</span>][<span style=\"color: #00af00; text-decoration-color: #00af00\">0</span>],     \n",
              "│                                   │                              │                   │ open_acc[<span style=\"color: #00af00; text-decoration-color: #00af00\">0</span>][<span style=\"color: #00af00; text-decoration-color: #00af00\">0</span>],           \n",
              "│                                   │                              │                   │ pub_rec[<span style=\"color: #00af00; text-decoration-color: #00af00\">0</span>][<span style=\"color: #00af00; text-decoration-color: #00af00\">0</span>],            \n",
              "│                                   │                              │                   │ revol_bal[<span style=\"color: #00af00; text-decoration-color: #00af00\">0</span>][<span style=\"color: #00af00; text-decoration-color: #00af00\">0</span>],          \n",
              "│                                   │                              │                   │ revol_util[<span style=\"color: #00af00; text-decoration-color: #00af00\">0</span>][<span style=\"color: #00af00; text-decoration-color: #00af00\">0</span>],         \n",
              "│                                   │                              │                   │ total_acc[<span style=\"color: #00af00; text-decoration-color: #00af00\">0</span>][<span style=\"color: #00af00; text-decoration-color: #00af00\">0</span>],          \n",
              "│                                   │                              │                   │ acc_now_delinq[<span style=\"color: #00af00; text-decoration-color: #00af00\">0</span>][<span style=\"color: #00af00; text-decoration-color: #00af00\">0</span>],     \n",
              "│                                   │                              │                   │ tot_cur_bal[<span style=\"color: #00af00; text-decoration-color: #00af00\">0</span>][<span style=\"color: #00af00; text-decoration-color: #00af00\">0</span>],        \n",
              "│                                   │                              │                   │ total_rev_hi_lim[<span style=\"color: #00af00; text-decoration-color: #00af00\">0</span>][<span style=\"color: #00af00; text-decoration-color: #00af00\">0</span>]    \n",
              "├───────────────────────────────────┼──────────────────────────────┼───────────────────┼───────────────────────────\n",
              "│ embedding (<span style=\"color: #0087ff; text-decoration-color: #0087ff\">Embedding</span>)             │ (<span style=\"color: #00d7ff; text-decoration-color: #00d7ff\">None</span>, <span style=\"color: #00af00; text-decoration-color: #00af00\">1</span>, <span style=\"color: #00af00; text-decoration-color: #00af00\">8</span>)                 │             <span style=\"color: #00af00; text-decoration-color: #00af00\">8,192</span> │ term_hash[<span style=\"color: #00af00; text-decoration-color: #00af00\">0</span>][<span style=\"color: #00af00; text-decoration-color: #00af00\">0</span>]           \n",
              "├───────────────────────────────────┼──────────────────────────────┼───────────────────┼───────────────────────────\n",
              "│ embedding_1 (<span style=\"color: #0087ff; text-decoration-color: #0087ff\">Embedding</span>)           │ (<span style=\"color: #00d7ff; text-decoration-color: #00d7ff\">None</span>, <span style=\"color: #00af00; text-decoration-color: #00af00\">1</span>, <span style=\"color: #00af00; text-decoration-color: #00af00\">8</span>)                 │             <span style=\"color: #00af00; text-decoration-color: #00af00\">8,192</span> │ grade_hash[<span style=\"color: #00af00; text-decoration-color: #00af00\">0</span>][<span style=\"color: #00af00; text-decoration-color: #00af00\">0</span>]          \n",
              "├───────────────────────────────────┼──────────────────────────────┼───────────────────┼───────────────────────────\n",
              "│ embedding_2 (<span style=\"color: #0087ff; text-decoration-color: #0087ff\">Embedding</span>)           │ (<span style=\"color: #00d7ff; text-decoration-color: #00d7ff\">None</span>, <span style=\"color: #00af00; text-decoration-color: #00af00\">1</span>, <span style=\"color: #00af00; text-decoration-color: #00af00\">8</span>)                 │             <span style=\"color: #00af00; text-decoration-color: #00af00\">8,192</span> │ sub_grade_hash[<span style=\"color: #00af00; text-decoration-color: #00af00\">0</span>][<span style=\"color: #00af00; text-decoration-color: #00af00\">0</span>]      \n",
              "├───────────────────────────────────┼──────────────────────────────┼───────────────────┼───────────────────────────\n",
              "│ embedding_3 (<span style=\"color: #0087ff; text-decoration-color: #0087ff\">Embedding</span>)           │ (<span style=\"color: #00d7ff; text-decoration-color: #00d7ff\">None</span>, <span style=\"color: #00af00; text-decoration-color: #00af00\">1</span>, <span style=\"color: #00af00; text-decoration-color: #00af00\">8</span>)                 │             <span style=\"color: #00af00; text-decoration-color: #00af00\">8,192</span> │ emp_title_hash[<span style=\"color: #00af00; text-decoration-color: #00af00\">0</span>][<span style=\"color: #00af00; text-decoration-color: #00af00\">0</span>]      \n",
              "├───────────────────────────────────┼──────────────────────────────┼───────────────────┼───────────────────────────\n",
              "│ embedding_4 (<span style=\"color: #0087ff; text-decoration-color: #0087ff\">Embedding</span>)           │ (<span style=\"color: #00d7ff; text-decoration-color: #00d7ff\">None</span>, <span style=\"color: #00af00; text-decoration-color: #00af00\">1</span>, <span style=\"color: #00af00; text-decoration-color: #00af00\">8</span>)                 │             <span style=\"color: #00af00; text-decoration-color: #00af00\">8,192</span> │ emp_length_hash[<span style=\"color: #00af00; text-decoration-color: #00af00\">0</span>][<span style=\"color: #00af00; text-decoration-color: #00af00\">0</span>]     \n",
              "├───────────────────────────────────┼──────────────────────────────┼───────────────────┼───────────────────────────\n",
              "│ embedding_5 (<span style=\"color: #0087ff; text-decoration-color: #0087ff\">Embedding</span>)           │ (<span style=\"color: #00d7ff; text-decoration-color: #00d7ff\">None</span>, <span style=\"color: #00af00; text-decoration-color: #00af00\">1</span>, <span style=\"color: #00af00; text-decoration-color: #00af00\">8</span>)                 │             <span style=\"color: #00af00; text-decoration-color: #00af00\">8,192</span> │ home_ownership_hash[<span style=\"color: #00af00; text-decoration-color: #00af00\">0</span>][<span style=\"color: #00af00; text-decoration-color: #00af00\">0</span>] \n",
              "├───────────────────────────────────┼──────────────────────────────┼───────────────────┼───────────────────────────\n",
              "│ embedding_6 (<span style=\"color: #0087ff; text-decoration-color: #0087ff\">Embedding</span>)           │ (<span style=\"color: #00d7ff; text-decoration-color: #00d7ff\">None</span>, <span style=\"color: #00af00; text-decoration-color: #00af00\">1</span>, <span style=\"color: #00af00; text-decoration-color: #00af00\">8</span>)                 │             <span style=\"color: #00af00; text-decoration-color: #00af00\">8,192</span> │ verification_status_hash[<span style=\"color: #00af00; text-decoration-color: #00af00\">0</span>\n",
              "├───────────────────────────────────┼──────────────────────────────┼───────────────────┼───────────────────────────\n",
              "│ embedding_7 (<span style=\"color: #0087ff; text-decoration-color: #0087ff\">Embedding</span>)           │ (<span style=\"color: #00d7ff; text-decoration-color: #00d7ff\">None</span>, <span style=\"color: #00af00; text-decoration-color: #00af00\">1</span>, <span style=\"color: #00af00; text-decoration-color: #00af00\">8</span>)                 │             <span style=\"color: #00af00; text-decoration-color: #00af00\">8,192</span> │ pymnt_plan_hash[<span style=\"color: #00af00; text-decoration-color: #00af00\">0</span>][<span style=\"color: #00af00; text-decoration-color: #00af00\">0</span>]     \n",
              "├───────────────────────────────────┼──────────────────────────────┼───────────────────┼───────────────────────────\n",
              "│ embedding_8 (<span style=\"color: #0087ff; text-decoration-color: #0087ff\">Embedding</span>)           │ (<span style=\"color: #00d7ff; text-decoration-color: #00d7ff\">None</span>, <span style=\"color: #00af00; text-decoration-color: #00af00\">1</span>, <span style=\"color: #00af00; text-decoration-color: #00af00\">8</span>)                 │             <span style=\"color: #00af00; text-decoration-color: #00af00\">8,192</span> │ purpose_hash[<span style=\"color: #00af00; text-decoration-color: #00af00\">0</span>][<span style=\"color: #00af00; text-decoration-color: #00af00\">0</span>]        \n",
              "├───────────────────────────────────┼──────────────────────────────┼───────────────────┼───────────────────────────\n",
              "│ embedding_9 (<span style=\"color: #0087ff; text-decoration-color: #0087ff\">Embedding</span>)           │ (<span style=\"color: #00d7ff; text-decoration-color: #00d7ff\">None</span>, <span style=\"color: #00af00; text-decoration-color: #00af00\">1</span>, <span style=\"color: #00af00; text-decoration-color: #00af00\">8</span>)                 │             <span style=\"color: #00af00; text-decoration-color: #00af00\">8,192</span> │ title_hash[<span style=\"color: #00af00; text-decoration-color: #00af00\">0</span>][<span style=\"color: #00af00; text-decoration-color: #00af00\">0</span>]          \n",
              "├───────────────────────────────────┼──────────────────────────────┼───────────────────┼───────────────────────────\n",
              "│ embedding_10 (<span style=\"color: #0087ff; text-decoration-color: #0087ff\">Embedding</span>)          │ (<span style=\"color: #00d7ff; text-decoration-color: #00d7ff\">None</span>, <span style=\"color: #00af00; text-decoration-color: #00af00\">1</span>, <span style=\"color: #00af00; text-decoration-color: #00af00\">8</span>)                 │             <span style=\"color: #00af00; text-decoration-color: #00af00\">8,192</span> │ zip_code_hash[<span style=\"color: #00af00; text-decoration-color: #00af00\">0</span>][<span style=\"color: #00af00; text-decoration-color: #00af00\">0</span>]       \n",
              "├───────────────────────────────────┼──────────────────────────────┼───────────────────┼───────────────────────────\n",
              "│ embedding_11 (<span style=\"color: #0087ff; text-decoration-color: #0087ff\">Embedding</span>)          │ (<span style=\"color: #00d7ff; text-decoration-color: #00d7ff\">None</span>, <span style=\"color: #00af00; text-decoration-color: #00af00\">1</span>, <span style=\"color: #00af00; text-decoration-color: #00af00\">8</span>)                 │             <span style=\"color: #00af00; text-decoration-color: #00af00\">8,192</span> │ addr_state_hash[<span style=\"color: #00af00; text-decoration-color: #00af00\">0</span>][<span style=\"color: #00af00; text-decoration-color: #00af00\">0</span>]     \n",
              "├───────────────────────────────────┼──────────────────────────────┼───────────────────┼───────────────────────────\n",
              "│ embedding_12 (<span style=\"color: #0087ff; text-decoration-color: #0087ff\">Embedding</span>)          │ (<span style=\"color: #00d7ff; text-decoration-color: #00d7ff\">None</span>, <span style=\"color: #00af00; text-decoration-color: #00af00\">1</span>, <span style=\"color: #00af00; text-decoration-color: #00af00\">8</span>)                 │             <span style=\"color: #00af00; text-decoration-color: #00af00\">8,192</span> │ earliest_cr_line_hash[<span style=\"color: #00af00; text-decoration-color: #00af00\">0</span>][<span style=\"color: #00af00; text-decoration-color: #00af00\">0</span>\n",
              "├───────────────────────────────────┼──────────────────────────────┼───────────────────┼───────────────────────────\n",
              "│ embedding_13 (<span style=\"color: #0087ff; text-decoration-color: #0087ff\">Embedding</span>)          │ (<span style=\"color: #00d7ff; text-decoration-color: #00d7ff\">None</span>, <span style=\"color: #00af00; text-decoration-color: #00af00\">1</span>, <span style=\"color: #00af00; text-decoration-color: #00af00\">8</span>)                 │             <span style=\"color: #00af00; text-decoration-color: #00af00\">8,192</span> │ initial_list_status_hash[<span style=\"color: #00af00; text-decoration-color: #00af00\">0</span>\n",
              "├───────────────────────────────────┼──────────────────────────────┼───────────────────┼───────────────────────────\n",
              "│ embedding_14 (<span style=\"color: #0087ff; text-decoration-color: #0087ff\">Embedding</span>)          │ (<span style=\"color: #00d7ff; text-decoration-color: #00d7ff\">None</span>, <span style=\"color: #00af00; text-decoration-color: #00af00\">1</span>, <span style=\"color: #00af00; text-decoration-color: #00af00\">8</span>)                 │             <span style=\"color: #00af00; text-decoration-color: #00af00\">8,192</span> │ application_type_hash[<span style=\"color: #00af00; text-decoration-color: #00af00\">0</span>][<span style=\"color: #00af00; text-decoration-color: #00af00\">0</span>\n",
              "├───────────────────────────────────┼──────────────────────────────┼───────────────────┼───────────────────────────\n",
              "│ normalization (<span style=\"color: #0087ff; text-decoration-color: #0087ff\">Normalization</span>)     │ (<span style=\"color: #00d7ff; text-decoration-color: #00d7ff\">None</span>, <span style=\"color: #00af00; text-decoration-color: #00af00\">17</span>)                   │                <span style=\"color: #00af00; text-decoration-color: #00af00\">35</span> │ concatenate[<span style=\"color: #00af00; text-decoration-color: #00af00\">0</span>][<span style=\"color: #00af00; text-decoration-color: #00af00\">0</span>]         \n",
              "├───────────────────────────────────┼──────────────────────────────┼───────────────────┼───────────────────────────\n",
              "│ flatten (<span style=\"color: #0087ff; text-decoration-color: #0087ff\">Flatten</span>)                 │ (<span style=\"color: #00d7ff; text-decoration-color: #00d7ff\">None</span>, <span style=\"color: #00af00; text-decoration-color: #00af00\">8</span>)                    │                 <span style=\"color: #00af00; text-decoration-color: #00af00\">0</span> │ embedding[<span style=\"color: #00af00; text-decoration-color: #00af00\">0</span>][<span style=\"color: #00af00; text-decoration-color: #00af00\">0</span>]           \n",
              "├───────────────────────────────────┼──────────────────────────────┼───────────────────┼───────────────────────────\n",
              "│ flatten_1 (<span style=\"color: #0087ff; text-decoration-color: #0087ff\">Flatten</span>)               │ (<span style=\"color: #00d7ff; text-decoration-color: #00d7ff\">None</span>, <span style=\"color: #00af00; text-decoration-color: #00af00\">8</span>)                    │                 <span style=\"color: #00af00; text-decoration-color: #00af00\">0</span> │ embedding_1[<span style=\"color: #00af00; text-decoration-color: #00af00\">0</span>][<span style=\"color: #00af00; text-decoration-color: #00af00\">0</span>]         \n",
              "├───────────────────────────────────┼──────────────────────────────┼───────────────────┼───────────────────────────\n",
              "│ flatten_2 (<span style=\"color: #0087ff; text-decoration-color: #0087ff\">Flatten</span>)               │ (<span style=\"color: #00d7ff; text-decoration-color: #00d7ff\">None</span>, <span style=\"color: #00af00; text-decoration-color: #00af00\">8</span>)                    │                 <span style=\"color: #00af00; text-decoration-color: #00af00\">0</span> │ embedding_2[<span style=\"color: #00af00; text-decoration-color: #00af00\">0</span>][<span style=\"color: #00af00; text-decoration-color: #00af00\">0</span>]         \n",
              "├───────────────────────────────────┼──────────────────────────────┼───────────────────┼───────────────────────────\n",
              "│ flatten_3 (<span style=\"color: #0087ff; text-decoration-color: #0087ff\">Flatten</span>)               │ (<span style=\"color: #00d7ff; text-decoration-color: #00d7ff\">None</span>, <span style=\"color: #00af00; text-decoration-color: #00af00\">8</span>)                    │                 <span style=\"color: #00af00; text-decoration-color: #00af00\">0</span> │ embedding_3[<span style=\"color: #00af00; text-decoration-color: #00af00\">0</span>][<span style=\"color: #00af00; text-decoration-color: #00af00\">0</span>]         \n",
              "├───────────────────────────────────┼──────────────────────────────┼───────────────────┼───────────────────────────\n",
              "│ flatten_4 (<span style=\"color: #0087ff; text-decoration-color: #0087ff\">Flatten</span>)               │ (<span style=\"color: #00d7ff; text-decoration-color: #00d7ff\">None</span>, <span style=\"color: #00af00; text-decoration-color: #00af00\">8</span>)                    │                 <span style=\"color: #00af00; text-decoration-color: #00af00\">0</span> │ embedding_4[<span style=\"color: #00af00; text-decoration-color: #00af00\">0</span>][<span style=\"color: #00af00; text-decoration-color: #00af00\">0</span>]         \n",
              "├───────────────────────────────────┼──────────────────────────────┼───────────────────┼───────────────────────────\n",
              "│ flatten_5 (<span style=\"color: #0087ff; text-decoration-color: #0087ff\">Flatten</span>)               │ (<span style=\"color: #00d7ff; text-decoration-color: #00d7ff\">None</span>, <span style=\"color: #00af00; text-decoration-color: #00af00\">8</span>)                    │                 <span style=\"color: #00af00; text-decoration-color: #00af00\">0</span> │ embedding_5[<span style=\"color: #00af00; text-decoration-color: #00af00\">0</span>][<span style=\"color: #00af00; text-decoration-color: #00af00\">0</span>]         \n",
              "├───────────────────────────────────┼──────────────────────────────┼───────────────────┼───────────────────────────\n",
              "│ flatten_6 (<span style=\"color: #0087ff; text-decoration-color: #0087ff\">Flatten</span>)               │ (<span style=\"color: #00d7ff; text-decoration-color: #00d7ff\">None</span>, <span style=\"color: #00af00; text-decoration-color: #00af00\">8</span>)                    │                 <span style=\"color: #00af00; text-decoration-color: #00af00\">0</span> │ embedding_6[<span style=\"color: #00af00; text-decoration-color: #00af00\">0</span>][<span style=\"color: #00af00; text-decoration-color: #00af00\">0</span>]         \n",
              "├───────────────────────────────────┼──────────────────────────────┼───────────────────┼───────────────────────────\n",
              "│ flatten_7 (<span style=\"color: #0087ff; text-decoration-color: #0087ff\">Flatten</span>)               │ (<span style=\"color: #00d7ff; text-decoration-color: #00d7ff\">None</span>, <span style=\"color: #00af00; text-decoration-color: #00af00\">8</span>)                    │                 <span style=\"color: #00af00; text-decoration-color: #00af00\">0</span> │ embedding_7[<span style=\"color: #00af00; text-decoration-color: #00af00\">0</span>][<span style=\"color: #00af00; text-decoration-color: #00af00\">0</span>]         \n",
              "├───────────────────────────────────┼──────────────────────────────┼───────────────────┼───────────────────────────\n",
              "│ flatten_8 (<span style=\"color: #0087ff; text-decoration-color: #0087ff\">Flatten</span>)               │ (<span style=\"color: #00d7ff; text-decoration-color: #00d7ff\">None</span>, <span style=\"color: #00af00; text-decoration-color: #00af00\">8</span>)                    │                 <span style=\"color: #00af00; text-decoration-color: #00af00\">0</span> │ embedding_8[<span style=\"color: #00af00; text-decoration-color: #00af00\">0</span>][<span style=\"color: #00af00; text-decoration-color: #00af00\">0</span>]         \n",
              "├───────────────────────────────────┼──────────────────────────────┼───────────────────┼───────────────────────────\n",
              "│ flatten_9 (<span style=\"color: #0087ff; text-decoration-color: #0087ff\">Flatten</span>)               │ (<span style=\"color: #00d7ff; text-decoration-color: #00d7ff\">None</span>, <span style=\"color: #00af00; text-decoration-color: #00af00\">8</span>)                    │                 <span style=\"color: #00af00; text-decoration-color: #00af00\">0</span> │ embedding_9[<span style=\"color: #00af00; text-decoration-color: #00af00\">0</span>][<span style=\"color: #00af00; text-decoration-color: #00af00\">0</span>]         \n",
              "├───────────────────────────────────┼──────────────────────────────┼───────────────────┼───────────────────────────\n",
              "│ flatten_10 (<span style=\"color: #0087ff; text-decoration-color: #0087ff\">Flatten</span>)              │ (<span style=\"color: #00d7ff; text-decoration-color: #00d7ff\">None</span>, <span style=\"color: #00af00; text-decoration-color: #00af00\">8</span>)                    │                 <span style=\"color: #00af00; text-decoration-color: #00af00\">0</span> │ embedding_10[<span style=\"color: #00af00; text-decoration-color: #00af00\">0</span>][<span style=\"color: #00af00; text-decoration-color: #00af00\">0</span>]        \n",
              "├───────────────────────────────────┼──────────────────────────────┼───────────────────┼───────────────────────────\n",
              "│ flatten_11 (<span style=\"color: #0087ff; text-decoration-color: #0087ff\">Flatten</span>)              │ (<span style=\"color: #00d7ff; text-decoration-color: #00d7ff\">None</span>, <span style=\"color: #00af00; text-decoration-color: #00af00\">8</span>)                    │                 <span style=\"color: #00af00; text-decoration-color: #00af00\">0</span> │ embedding_11[<span style=\"color: #00af00; text-decoration-color: #00af00\">0</span>][<span style=\"color: #00af00; text-decoration-color: #00af00\">0</span>]        \n",
              "├───────────────────────────────────┼──────────────────────────────┼───────────────────┼───────────────────────────\n",
              "│ flatten_12 (<span style=\"color: #0087ff; text-decoration-color: #0087ff\">Flatten</span>)              │ (<span style=\"color: #00d7ff; text-decoration-color: #00d7ff\">None</span>, <span style=\"color: #00af00; text-decoration-color: #00af00\">8</span>)                    │                 <span style=\"color: #00af00; text-decoration-color: #00af00\">0</span> │ embedding_12[<span style=\"color: #00af00; text-decoration-color: #00af00\">0</span>][<span style=\"color: #00af00; text-decoration-color: #00af00\">0</span>]        \n",
              "├───────────────────────────────────┼──────────────────────────────┼───────────────────┼───────────────────────────\n",
              "│ flatten_13 (<span style=\"color: #0087ff; text-decoration-color: #0087ff\">Flatten</span>)              │ (<span style=\"color: #00d7ff; text-decoration-color: #00d7ff\">None</span>, <span style=\"color: #00af00; text-decoration-color: #00af00\">8</span>)                    │                 <span style=\"color: #00af00; text-decoration-color: #00af00\">0</span> │ embedding_13[<span style=\"color: #00af00; text-decoration-color: #00af00\">0</span>][<span style=\"color: #00af00; text-decoration-color: #00af00\">0</span>]        \n",
              "├───────────────────────────────────┼──────────────────────────────┼───────────────────┼───────────────────────────\n",
              "│ flatten_14 (<span style=\"color: #0087ff; text-decoration-color: #0087ff\">Flatten</span>)              │ (<span style=\"color: #00d7ff; text-decoration-color: #00d7ff\">None</span>, <span style=\"color: #00af00; text-decoration-color: #00af00\">8</span>)                    │                 <span style=\"color: #00af00; text-decoration-color: #00af00\">0</span> │ embedding_14[<span style=\"color: #00af00; text-decoration-color: #00af00\">0</span>][<span style=\"color: #00af00; text-decoration-color: #00af00\">0</span>]        \n",
              "├───────────────────────────────────┼──────────────────────────────┼───────────────────┼───────────────────────────\n",
              "│ concatenate_1 (<span style=\"color: #0087ff; text-decoration-color: #0087ff\">Concatenate</span>)       │ (<span style=\"color: #00d7ff; text-decoration-color: #00d7ff\">None</span>, <span style=\"color: #00af00; text-decoration-color: #00af00\">137</span>)                  │                 <span style=\"color: #00af00; text-decoration-color: #00af00\">0</span> │ normalization[<span style=\"color: #00af00; text-decoration-color: #00af00\">0</span>][<span style=\"color: #00af00; text-decoration-color: #00af00\">0</span>],      \n",
              "│                                   │                              │                   │ flatten[<span style=\"color: #00af00; text-decoration-color: #00af00\">0</span>][<span style=\"color: #00af00; text-decoration-color: #00af00\">0</span>],            \n",
              "│                                   │                              │                   │ flatten_1[<span style=\"color: #00af00; text-decoration-color: #00af00\">0</span>][<span style=\"color: #00af00; text-decoration-color: #00af00\">0</span>],          \n",
              "│                                   │                              │                   │ flatten_2[<span style=\"color: #00af00; text-decoration-color: #00af00\">0</span>][<span style=\"color: #00af00; text-decoration-color: #00af00\">0</span>],          \n",
              "│                                   │                              │                   │ flatten_3[<span style=\"color: #00af00; text-decoration-color: #00af00\">0</span>][<span style=\"color: #00af00; text-decoration-color: #00af00\">0</span>],          \n",
              "│                                   │                              │                   │ flatten_4[<span style=\"color: #00af00; text-decoration-color: #00af00\">0</span>][<span style=\"color: #00af00; text-decoration-color: #00af00\">0</span>],          \n",
              "│                                   │                              │                   │ flatten_5[<span style=\"color: #00af00; text-decoration-color: #00af00\">0</span>][<span style=\"color: #00af00; text-decoration-color: #00af00\">0</span>],          \n",
              "│                                   │                              │                   │ flatten_6[<span style=\"color: #00af00; text-decoration-color: #00af00\">0</span>][<span style=\"color: #00af00; text-decoration-color: #00af00\">0</span>],          \n",
              "│                                   │                              │                   │ flatten_7[<span style=\"color: #00af00; text-decoration-color: #00af00\">0</span>][<span style=\"color: #00af00; text-decoration-color: #00af00\">0</span>],          \n",
              "│                                   │                              │                   │ flatten_8[<span style=\"color: #00af00; text-decoration-color: #00af00\">0</span>][<span style=\"color: #00af00; text-decoration-color: #00af00\">0</span>],          \n",
              "│                                   │                              │                   │ flatten_9[<span style=\"color: #00af00; text-decoration-color: #00af00\">0</span>][<span style=\"color: #00af00; text-decoration-color: #00af00\">0</span>],          \n",
              "│                                   │                              │                   │ flatten_10[<span style=\"color: #00af00; text-decoration-color: #00af00\">0</span>][<span style=\"color: #00af00; text-decoration-color: #00af00\">0</span>],         \n",
              "│                                   │                              │                   │ flatten_11[<span style=\"color: #00af00; text-decoration-color: #00af00\">0</span>][<span style=\"color: #00af00; text-decoration-color: #00af00\">0</span>],         \n",
              "│                                   │                              │                   │ flatten_12[<span style=\"color: #00af00; text-decoration-color: #00af00\">0</span>][<span style=\"color: #00af00; text-decoration-color: #00af00\">0</span>],         \n",
              "│                                   │                              │                   │ flatten_13[<span style=\"color: #00af00; text-decoration-color: #00af00\">0</span>][<span style=\"color: #00af00; text-decoration-color: #00af00\">0</span>],         \n",
              "│                                   │                              │                   │ flatten_14[<span style=\"color: #00af00; text-decoration-color: #00af00\">0</span>][<span style=\"color: #00af00; text-decoration-color: #00af00\">0</span>]          \n",
              "└───────────────────────────────────┴──────────────────────────────┴───────────────────┴───────────────────────────\n",
              "</pre>\n"
            ]
          },
          "metadata": {}
        },
        {
          "output_type": "display_data",
          "data": {
            "text/plain": [
              "\u001b[1m Total params: \u001b[0m\u001b[38;5;34m122,915\u001b[0m (480.14 KB)\n"
            ],
            "text/html": [
              "<pre style=\"white-space:pre;overflow-x:auto;line-height:normal;font-family:Menlo,'DejaVu Sans Mono',consolas,'Courier New',monospace\"><span style=\"font-weight: bold\"> Total params: </span><span style=\"color: #00af00; text-decoration-color: #00af00\">122,915</span> (480.14 KB)\n",
              "</pre>\n"
            ]
          },
          "metadata": {}
        },
        {
          "output_type": "display_data",
          "data": {
            "text/plain": [
              "\u001b[1m Trainable params: \u001b[0m\u001b[38;5;34m122,880\u001b[0m (480.00 KB)\n"
            ],
            "text/html": [
              "<pre style=\"white-space:pre;overflow-x:auto;line-height:normal;font-family:Menlo,'DejaVu Sans Mono',consolas,'Courier New',monospace\"><span style=\"font-weight: bold\"> Trainable params: </span><span style=\"color: #00af00; text-decoration-color: #00af00\">122,880</span> (480.00 KB)\n",
              "</pre>\n"
            ]
          },
          "metadata": {}
        },
        {
          "output_type": "display_data",
          "data": {
            "text/plain": [
              "\u001b[1m Non-trainable params: \u001b[0m\u001b[38;5;34m35\u001b[0m (144.00 B)\n"
            ],
            "text/html": [
              "<pre style=\"white-space:pre;overflow-x:auto;line-height:normal;font-family:Menlo,'DejaVu Sans Mono',consolas,'Courier New',monospace\"><span style=\"font-weight: bold\"> Non-trainable params: </span><span style=\"color: #00af00; text-decoration-color: #00af00\">35</span> (144.00 B)\n",
              "</pre>\n"
            ]
          },
          "metadata": {}
        }
      ]
    },
    {
      "cell_type": "markdown",
      "source": [
        "This summary shows a model called preproc_hash that takes each numeric column, normalizes it, and each categorical column, hashes it into 1,024 bins then embeds it into 8 numbers. All those processed tensors are concatenated into a single vector of length 137. With ~122K trainable parameters (from the embeddings), this layer can now turn raw DataFrame columns into a ready-to-feed numeric tensor for the MLP."
      ],
      "metadata": {
        "id": "jKKK1l2jCb3Y"
      }
    },
    {
      "cell_type": "markdown",
      "source": [
        "___\n",
        "11. ### Attach & Compile a Compact MLP  \n",
        "This cell builds a simple feed-forward network on top of our preprocessing model: two hidden layers with batch-norm and dropout, and a sigmoid output for default probability. Then it compiles the model with Adam and metrics for AUC, precision, and recall.\n"
      ],
      "metadata": {
        "id": "YIpVTt5FC0S6"
      }
    },
    {
      "cell_type": "code",
      "source": [
        "# First hidden layer: 64 neurons, ReLU activation\n",
        "x = layers.Dense(64, activation='relu')(preprocess_model.output)\n",
        "\n",
        "# Stabilize and regularize: batch-norm then 30% dropout\n",
        "x = layers.BatchNormalization()(x)\n",
        "x = layers.Dropout(0.3)(x)\n",
        "\n",
        "# Second hidden layer: 32 neurons, ReLU activation\n",
        "x = layers.Dense(32, activation='relu')(x)\n",
        "\n",
        "# Batch-norm + dropout again\n",
        "x = layers.BatchNormalization()(x)\n",
        "x = layers.Dropout(0.3)(x)\n",
        "\n",
        "# Output layer: single neuron with sigmoid to predict default probability\n",
        "out = layers.Dense(1, activation='sigmoid', name='default_prob')(x)\n",
        "\n",
        "# Create the full MLP model, taking the preprocessing inputs and giving a single output\n",
        "model = models.Model(preprocess_model.input, out, name=\"mlp_simple\")\n",
        "\n",
        "# Compile with Adam optimizer, binary crossentropy loss, and metrics we care about\n",
        "model.compile(\n",
        "    optimizer=optimizers.Adam(1e-3),\n",
        "    loss='binary_crossentropy',\n",
        "    metrics=[\n",
        "        metrics.AUC(name='auc'),\n",
        "        metrics.Precision(name='prec'),\n",
        "        metrics.Recall(name='rec')\n",
        "    ]\n",
        ")\n",
        "\n",
        "# Print the model summary to check layer sizes and parameter counts\n",
        "model.summary(line_length=120)\n"
      ],
      "metadata": {
        "colab": {
          "base_uri": "https://localhost:8080/",
          "height": 1000
        },
        "id": "mT858erZqQHw",
        "outputId": "b15e9b7d-6418-4f2e-ee60-5d8561930ff7"
      },
      "execution_count": null,
      "outputs": [
        {
          "output_type": "display_data",
          "data": {
            "text/plain": [
              "\u001b[1mModel: \"mlp_simple\"\u001b[0m\n"
            ],
            "text/html": [
              "<pre style=\"white-space:pre;overflow-x:auto;line-height:normal;font-family:Menlo,'DejaVu Sans Mono',consolas,'Courier New',monospace\"><span style=\"font-weight: bold\">Model: \"mlp_simple\"</span>\n",
              "</pre>\n"
            ]
          },
          "metadata": {}
        },
        {
          "output_type": "display_data",
          "data": {
            "text/plain": [
              "┏━━━━━━━━━━━━━━━━━━━━━━━━━━━━━━━━━━━┳━━━━━━━━━━━━━━━━━━━━━━━━━━━━━━┳━━━━━━━━━━━━━━━━━━━┳━━━━━━━━━━━━━━━━━━━━━━━━━━━\n",
              "┃\u001b[1m \u001b[0m\u001b[1mLayer (type)                     \u001b[0m\u001b[1m \u001b[0m┃\u001b[1m \u001b[0m\u001b[1mOutput Shape                \u001b[0m\u001b[1m \u001b[0m┃\u001b[1m \u001b[0m\u001b[1m          Param #\u001b[0m\u001b[1m \u001b[0m┃\u001b[1m \u001b[0m\u001b[1mConnected to              \u001b[0m\n",
              "┡━━━━━━━━━━━━━━━━━━━━━━━━━━━━━━━━━━━╇━━━━━━━━━━━━━━━━━━━━━━━━━━━━━━╇━━━━━━━━━━━━━━━━━━━╇━━━━━━━━━━━━━━━━━━━━━━━━━━━\n",
              "│ term (\u001b[38;5;33mInputLayer\u001b[0m)                 │ (\u001b[38;5;45mNone\u001b[0m, \u001b[38;5;34m1\u001b[0m)                    │                 \u001b[38;5;34m0\u001b[0m │ -                         \n",
              "├───────────────────────────────────┼──────────────────────────────┼───────────────────┼───────────────────────────\n",
              "│ grade (\u001b[38;5;33mInputLayer\u001b[0m)                │ (\u001b[38;5;45mNone\u001b[0m, \u001b[38;5;34m1\u001b[0m)                    │                 \u001b[38;5;34m0\u001b[0m │ -                         \n",
              "├───────────────────────────────────┼──────────────────────────────┼───────────────────┼───────────────────────────\n",
              "│ sub_grade (\u001b[38;5;33mInputLayer\u001b[0m)            │ (\u001b[38;5;45mNone\u001b[0m, \u001b[38;5;34m1\u001b[0m)                    │                 \u001b[38;5;34m0\u001b[0m │ -                         \n",
              "├───────────────────────────────────┼──────────────────────────────┼───────────────────┼───────────────────────────\n",
              "│ emp_title (\u001b[38;5;33mInputLayer\u001b[0m)            │ (\u001b[38;5;45mNone\u001b[0m, \u001b[38;5;34m1\u001b[0m)                    │                 \u001b[38;5;34m0\u001b[0m │ -                         \n",
              "├───────────────────────────────────┼──────────────────────────────┼───────────────────┼───────────────────────────\n",
              "│ emp_length (\u001b[38;5;33mInputLayer\u001b[0m)           │ (\u001b[38;5;45mNone\u001b[0m, \u001b[38;5;34m1\u001b[0m)                    │                 \u001b[38;5;34m0\u001b[0m │ -                         \n",
              "├───────────────────────────────────┼──────────────────────────────┼───────────────────┼───────────────────────────\n",
              "│ home_ownership (\u001b[38;5;33mInputLayer\u001b[0m)       │ (\u001b[38;5;45mNone\u001b[0m, \u001b[38;5;34m1\u001b[0m)                    │                 \u001b[38;5;34m0\u001b[0m │ -                         \n",
              "├───────────────────────────────────┼──────────────────────────────┼───────────────────┼───────────────────────────\n",
              "│ verification_status (\u001b[38;5;33mInputLayer\u001b[0m)  │ (\u001b[38;5;45mNone\u001b[0m, \u001b[38;5;34m1\u001b[0m)                    │                 \u001b[38;5;34m0\u001b[0m │ -                         \n",
              "├───────────────────────────────────┼──────────────────────────────┼───────────────────┼───────────────────────────\n",
              "│ pymnt_plan (\u001b[38;5;33mInputLayer\u001b[0m)           │ (\u001b[38;5;45mNone\u001b[0m, \u001b[38;5;34m1\u001b[0m)                    │                 \u001b[38;5;34m0\u001b[0m │ -                         \n",
              "├───────────────────────────────────┼──────────────────────────────┼───────────────────┼───────────────────────────\n",
              "│ purpose (\u001b[38;5;33mInputLayer\u001b[0m)              │ (\u001b[38;5;45mNone\u001b[0m, \u001b[38;5;34m1\u001b[0m)                    │                 \u001b[38;5;34m0\u001b[0m │ -                         \n",
              "├───────────────────────────────────┼──────────────────────────────┼───────────────────┼───────────────────────────\n",
              "│ title (\u001b[38;5;33mInputLayer\u001b[0m)                │ (\u001b[38;5;45mNone\u001b[0m, \u001b[38;5;34m1\u001b[0m)                    │                 \u001b[38;5;34m0\u001b[0m │ -                         \n",
              "├───────────────────────────────────┼──────────────────────────────┼───────────────────┼───────────────────────────\n",
              "│ zip_code (\u001b[38;5;33mInputLayer\u001b[0m)             │ (\u001b[38;5;45mNone\u001b[0m, \u001b[38;5;34m1\u001b[0m)                    │                 \u001b[38;5;34m0\u001b[0m │ -                         \n",
              "├───────────────────────────────────┼──────────────────────────────┼───────────────────┼───────────────────────────\n",
              "│ addr_state (\u001b[38;5;33mInputLayer\u001b[0m)           │ (\u001b[38;5;45mNone\u001b[0m, \u001b[38;5;34m1\u001b[0m)                    │                 \u001b[38;5;34m0\u001b[0m │ -                         \n",
              "├───────────────────────────────────┼──────────────────────────────┼───────────────────┼───────────────────────────\n",
              "│ earliest_cr_line (\u001b[38;5;33mInputLayer\u001b[0m)     │ (\u001b[38;5;45mNone\u001b[0m, \u001b[38;5;34m1\u001b[0m)                    │                 \u001b[38;5;34m0\u001b[0m │ -                         \n",
              "├───────────────────────────────────┼──────────────────────────────┼───────────────────┼───────────────────────────\n",
              "│ initial_list_status (\u001b[38;5;33mInputLayer\u001b[0m)  │ (\u001b[38;5;45mNone\u001b[0m, \u001b[38;5;34m1\u001b[0m)                    │                 \u001b[38;5;34m0\u001b[0m │ -                         \n",
              "├───────────────────────────────────┼──────────────────────────────┼───────────────────┼───────────────────────────\n",
              "│ application_type (\u001b[38;5;33mInputLayer\u001b[0m)     │ (\u001b[38;5;45mNone\u001b[0m, \u001b[38;5;34m1\u001b[0m)                    │                 \u001b[38;5;34m0\u001b[0m │ -                         \n",
              "├───────────────────────────────────┼──────────────────────────────┼───────────────────┼───────────────────────────\n",
              "│ loan_amnt (\u001b[38;5;33mInputLayer\u001b[0m)            │ (\u001b[38;5;45mNone\u001b[0m, \u001b[38;5;34m1\u001b[0m)                    │                 \u001b[38;5;34m0\u001b[0m │ -                         \n",
              "├───────────────────────────────────┼──────────────────────────────┼───────────────────┼───────────────────────────\n",
              "│ funded_amnt (\u001b[38;5;33mInputLayer\u001b[0m)          │ (\u001b[38;5;45mNone\u001b[0m, \u001b[38;5;34m1\u001b[0m)                    │                 \u001b[38;5;34m0\u001b[0m │ -                         \n",
              "├───────────────────────────────────┼──────────────────────────────┼───────────────────┼───────────────────────────\n",
              "│ funded_amnt_inv (\u001b[38;5;33mInputLayer\u001b[0m)      │ (\u001b[38;5;45mNone\u001b[0m, \u001b[38;5;34m1\u001b[0m)                    │                 \u001b[38;5;34m0\u001b[0m │ -                         \n",
              "├───────────────────────────────────┼──────────────────────────────┼───────────────────┼───────────────────────────\n",
              "│ int_rate (\u001b[38;5;33mInputLayer\u001b[0m)             │ (\u001b[38;5;45mNone\u001b[0m, \u001b[38;5;34m1\u001b[0m)                    │                 \u001b[38;5;34m0\u001b[0m │ -                         \n",
              "├───────────────────────────────────┼──────────────────────────────┼───────────────────┼───────────────────────────\n",
              "│ installment (\u001b[38;5;33mInputLayer\u001b[0m)          │ (\u001b[38;5;45mNone\u001b[0m, \u001b[38;5;34m1\u001b[0m)                    │                 \u001b[38;5;34m0\u001b[0m │ -                         \n",
              "├───────────────────────────────────┼──────────────────────────────┼───────────────────┼───────────────────────────\n",
              "│ annual_inc (\u001b[38;5;33mInputLayer\u001b[0m)           │ (\u001b[38;5;45mNone\u001b[0m, \u001b[38;5;34m1\u001b[0m)                    │                 \u001b[38;5;34m0\u001b[0m │ -                         \n",
              "├───────────────────────────────────┼──────────────────────────────┼───────────────────┼───────────────────────────\n",
              "│ dti (\u001b[38;5;33mInputLayer\u001b[0m)                  │ (\u001b[38;5;45mNone\u001b[0m, \u001b[38;5;34m1\u001b[0m)                    │                 \u001b[38;5;34m0\u001b[0m │ -                         \n",
              "├───────────────────────────────────┼──────────────────────────────┼───────────────────┼───────────────────────────\n",
              "│ delinq_2yrs (\u001b[38;5;33mInputLayer\u001b[0m)          │ (\u001b[38;5;45mNone\u001b[0m, \u001b[38;5;34m1\u001b[0m)                    │                 \u001b[38;5;34m0\u001b[0m │ -                         \n",
              "├───────────────────────────────────┼──────────────────────────────┼───────────────────┼───────────────────────────\n",
              "│ inq_last_6mths (\u001b[38;5;33mInputLayer\u001b[0m)       │ (\u001b[38;5;45mNone\u001b[0m, \u001b[38;5;34m1\u001b[0m)                    │                 \u001b[38;5;34m0\u001b[0m │ -                         \n",
              "├───────────────────────────────────┼──────────────────────────────┼───────────────────┼───────────────────────────\n",
              "│ open_acc (\u001b[38;5;33mInputLayer\u001b[0m)             │ (\u001b[38;5;45mNone\u001b[0m, \u001b[38;5;34m1\u001b[0m)                    │                 \u001b[38;5;34m0\u001b[0m │ -                         \n",
              "├───────────────────────────────────┼──────────────────────────────┼───────────────────┼───────────────────────────\n",
              "│ pub_rec (\u001b[38;5;33mInputLayer\u001b[0m)              │ (\u001b[38;5;45mNone\u001b[0m, \u001b[38;5;34m1\u001b[0m)                    │                 \u001b[38;5;34m0\u001b[0m │ -                         \n",
              "├───────────────────────────────────┼──────────────────────────────┼───────────────────┼───────────────────────────\n",
              "│ revol_bal (\u001b[38;5;33mInputLayer\u001b[0m)            │ (\u001b[38;5;45mNone\u001b[0m, \u001b[38;5;34m1\u001b[0m)                    │                 \u001b[38;5;34m0\u001b[0m │ -                         \n",
              "├───────────────────────────────────┼──────────────────────────────┼───────────────────┼───────────────────────────\n",
              "│ revol_util (\u001b[38;5;33mInputLayer\u001b[0m)           │ (\u001b[38;5;45mNone\u001b[0m, \u001b[38;5;34m1\u001b[0m)                    │                 \u001b[38;5;34m0\u001b[0m │ -                         \n",
              "├───────────────────────────────────┼──────────────────────────────┼───────────────────┼───────────────────────────\n",
              "│ total_acc (\u001b[38;5;33mInputLayer\u001b[0m)            │ (\u001b[38;5;45mNone\u001b[0m, \u001b[38;5;34m1\u001b[0m)                    │                 \u001b[38;5;34m0\u001b[0m │ -                         \n",
              "├───────────────────────────────────┼──────────────────────────────┼───────────────────┼───────────────────────────\n",
              "│ acc_now_delinq (\u001b[38;5;33mInputLayer\u001b[0m)       │ (\u001b[38;5;45mNone\u001b[0m, \u001b[38;5;34m1\u001b[0m)                    │                 \u001b[38;5;34m0\u001b[0m │ -                         \n",
              "├───────────────────────────────────┼──────────────────────────────┼───────────────────┼───────────────────────────\n",
              "│ tot_cur_bal (\u001b[38;5;33mInputLayer\u001b[0m)          │ (\u001b[38;5;45mNone\u001b[0m, \u001b[38;5;34m1\u001b[0m)                    │                 \u001b[38;5;34m0\u001b[0m │ -                         \n",
              "├───────────────────────────────────┼──────────────────────────────┼───────────────────┼───────────────────────────\n",
              "│ total_rev_hi_lim (\u001b[38;5;33mInputLayer\u001b[0m)     │ (\u001b[38;5;45mNone\u001b[0m, \u001b[38;5;34m1\u001b[0m)                    │                 \u001b[38;5;34m0\u001b[0m │ -                         \n",
              "├───────────────────────────────────┼──────────────────────────────┼───────────────────┼───────────────────────────\n",
              "│ term_hash (\u001b[38;5;33mHashing\u001b[0m)               │ (\u001b[38;5;45mNone\u001b[0m, \u001b[38;5;34m1\u001b[0m)                    │                 \u001b[38;5;34m0\u001b[0m │ term[\u001b[38;5;34m0\u001b[0m][\u001b[38;5;34m0\u001b[0m]                \n",
              "├───────────────────────────────────┼──────────────────────────────┼───────────────────┼───────────────────────────\n",
              "│ grade_hash (\u001b[38;5;33mHashing\u001b[0m)              │ (\u001b[38;5;45mNone\u001b[0m, \u001b[38;5;34m1\u001b[0m)                    │                 \u001b[38;5;34m0\u001b[0m │ grade[\u001b[38;5;34m0\u001b[0m][\u001b[38;5;34m0\u001b[0m]               \n",
              "├───────────────────────────────────┼──────────────────────────────┼───────────────────┼───────────────────────────\n",
              "│ sub_grade_hash (\u001b[38;5;33mHashing\u001b[0m)          │ (\u001b[38;5;45mNone\u001b[0m, \u001b[38;5;34m1\u001b[0m)                    │                 \u001b[38;5;34m0\u001b[0m │ sub_grade[\u001b[38;5;34m0\u001b[0m][\u001b[38;5;34m0\u001b[0m]           \n",
              "├───────────────────────────────────┼──────────────────────────────┼───────────────────┼───────────────────────────\n",
              "│ emp_title_hash (\u001b[38;5;33mHashing\u001b[0m)          │ (\u001b[38;5;45mNone\u001b[0m, \u001b[38;5;34m1\u001b[0m)                    │                 \u001b[38;5;34m0\u001b[0m │ emp_title[\u001b[38;5;34m0\u001b[0m][\u001b[38;5;34m0\u001b[0m]           \n",
              "├───────────────────────────────────┼──────────────────────────────┼───────────────────┼───────────────────────────\n",
              "│ emp_length_hash (\u001b[38;5;33mHashing\u001b[0m)         │ (\u001b[38;5;45mNone\u001b[0m, \u001b[38;5;34m1\u001b[0m)                    │                 \u001b[38;5;34m0\u001b[0m │ emp_length[\u001b[38;5;34m0\u001b[0m][\u001b[38;5;34m0\u001b[0m]          \n",
              "├───────────────────────────────────┼──────────────────────────────┼───────────────────┼───────────────────────────\n",
              "│ home_ownership_hash (\u001b[38;5;33mHashing\u001b[0m)     │ (\u001b[38;5;45mNone\u001b[0m, \u001b[38;5;34m1\u001b[0m)                    │                 \u001b[38;5;34m0\u001b[0m │ home_ownership[\u001b[38;5;34m0\u001b[0m][\u001b[38;5;34m0\u001b[0m]      \n",
              "├───────────────────────────────────┼──────────────────────────────┼───────────────────┼───────────────────────────\n",
              "│ verification_status_hash          │ (\u001b[38;5;45mNone\u001b[0m, \u001b[38;5;34m1\u001b[0m)                    │                 \u001b[38;5;34m0\u001b[0m │ verification_status[\u001b[38;5;34m0\u001b[0m][\u001b[38;5;34m0\u001b[0m] \n",
              "│ (\u001b[38;5;33mHashing\u001b[0m)                         │                              │                   │                           \n",
              "├───────────────────────────────────┼──────────────────────────────┼───────────────────┼───────────────────────────\n",
              "│ pymnt_plan_hash (\u001b[38;5;33mHashing\u001b[0m)         │ (\u001b[38;5;45mNone\u001b[0m, \u001b[38;5;34m1\u001b[0m)                    │                 \u001b[38;5;34m0\u001b[0m │ pymnt_plan[\u001b[38;5;34m0\u001b[0m][\u001b[38;5;34m0\u001b[0m]          \n",
              "├───────────────────────────────────┼──────────────────────────────┼───────────────────┼───────────────────────────\n",
              "│ purpose_hash (\u001b[38;5;33mHashing\u001b[0m)            │ (\u001b[38;5;45mNone\u001b[0m, \u001b[38;5;34m1\u001b[0m)                    │                 \u001b[38;5;34m0\u001b[0m │ purpose[\u001b[38;5;34m0\u001b[0m][\u001b[38;5;34m0\u001b[0m]             \n",
              "├───────────────────────────────────┼──────────────────────────────┼───────────────────┼───────────────────────────\n",
              "│ title_hash (\u001b[38;5;33mHashing\u001b[0m)              │ (\u001b[38;5;45mNone\u001b[0m, \u001b[38;5;34m1\u001b[0m)                    │                 \u001b[38;5;34m0\u001b[0m │ title[\u001b[38;5;34m0\u001b[0m][\u001b[38;5;34m0\u001b[0m]               \n",
              "├───────────────────────────────────┼──────────────────────────────┼───────────────────┼───────────────────────────\n",
              "│ zip_code_hash (\u001b[38;5;33mHashing\u001b[0m)           │ (\u001b[38;5;45mNone\u001b[0m, \u001b[38;5;34m1\u001b[0m)                    │                 \u001b[38;5;34m0\u001b[0m │ zip_code[\u001b[38;5;34m0\u001b[0m][\u001b[38;5;34m0\u001b[0m]            \n",
              "├───────────────────────────────────┼──────────────────────────────┼───────────────────┼───────────────────────────\n",
              "│ addr_state_hash (\u001b[38;5;33mHashing\u001b[0m)         │ (\u001b[38;5;45mNone\u001b[0m, \u001b[38;5;34m1\u001b[0m)                    │                 \u001b[38;5;34m0\u001b[0m │ addr_state[\u001b[38;5;34m0\u001b[0m][\u001b[38;5;34m0\u001b[0m]          \n",
              "├───────────────────────────────────┼──────────────────────────────┼───────────────────┼───────────────────────────\n",
              "│ earliest_cr_line_hash (\u001b[38;5;33mHashing\u001b[0m)   │ (\u001b[38;5;45mNone\u001b[0m, \u001b[38;5;34m1\u001b[0m)                    │                 \u001b[38;5;34m0\u001b[0m │ earliest_cr_line[\u001b[38;5;34m0\u001b[0m][\u001b[38;5;34m0\u001b[0m]    \n",
              "├───────────────────────────────────┼──────────────────────────────┼───────────────────┼───────────────────────────\n",
              "│ initial_list_status_hash          │ (\u001b[38;5;45mNone\u001b[0m, \u001b[38;5;34m1\u001b[0m)                    │                 \u001b[38;5;34m0\u001b[0m │ initial_list_status[\u001b[38;5;34m0\u001b[0m][\u001b[38;5;34m0\u001b[0m] \n",
              "│ (\u001b[38;5;33mHashing\u001b[0m)                         │                              │                   │                           \n",
              "├───────────────────────────────────┼──────────────────────────────┼───────────────────┼───────────────────────────\n",
              "│ application_type_hash (\u001b[38;5;33mHashing\u001b[0m)   │ (\u001b[38;5;45mNone\u001b[0m, \u001b[38;5;34m1\u001b[0m)                    │                 \u001b[38;5;34m0\u001b[0m │ application_type[\u001b[38;5;34m0\u001b[0m][\u001b[38;5;34m0\u001b[0m]    \n",
              "├───────────────────────────────────┼──────────────────────────────┼───────────────────┼───────────────────────────\n",
              "│ concatenate (\u001b[38;5;33mConcatenate\u001b[0m)         │ (\u001b[38;5;45mNone\u001b[0m, \u001b[38;5;34m17\u001b[0m)                   │                 \u001b[38;5;34m0\u001b[0m │ loan_amnt[\u001b[38;5;34m0\u001b[0m][\u001b[38;5;34m0\u001b[0m],          \n",
              "│                                   │                              │                   │ funded_amnt[\u001b[38;5;34m0\u001b[0m][\u001b[38;5;34m0\u001b[0m],        \n",
              "│                                   │                              │                   │ funded_amnt_inv[\u001b[38;5;34m0\u001b[0m][\u001b[38;5;34m0\u001b[0m],    \n",
              "│                                   │                              │                   │ int_rate[\u001b[38;5;34m0\u001b[0m][\u001b[38;5;34m0\u001b[0m],           \n",
              "│                                   │                              │                   │ installment[\u001b[38;5;34m0\u001b[0m][\u001b[38;5;34m0\u001b[0m],        \n",
              "│                                   │                              │                   │ annual_inc[\u001b[38;5;34m0\u001b[0m][\u001b[38;5;34m0\u001b[0m], dti[\u001b[38;5;34m0\u001b[0m][\u001b[38;5;34m0\u001b[0m\n",
              "│                                   │                              │                   │ delinq_2yrs[\u001b[38;5;34m0\u001b[0m][\u001b[38;5;34m0\u001b[0m],        \n",
              "│                                   │                              │                   │ inq_last_6mths[\u001b[38;5;34m0\u001b[0m][\u001b[38;5;34m0\u001b[0m],     \n",
              "│                                   │                              │                   │ open_acc[\u001b[38;5;34m0\u001b[0m][\u001b[38;5;34m0\u001b[0m],           \n",
              "│                                   │                              │                   │ pub_rec[\u001b[38;5;34m0\u001b[0m][\u001b[38;5;34m0\u001b[0m],            \n",
              "│                                   │                              │                   │ revol_bal[\u001b[38;5;34m0\u001b[0m][\u001b[38;5;34m0\u001b[0m],          \n",
              "│                                   │                              │                   │ revol_util[\u001b[38;5;34m0\u001b[0m][\u001b[38;5;34m0\u001b[0m],         \n",
              "│                                   │                              │                   │ total_acc[\u001b[38;5;34m0\u001b[0m][\u001b[38;5;34m0\u001b[0m],          \n",
              "│                                   │                              │                   │ acc_now_delinq[\u001b[38;5;34m0\u001b[0m][\u001b[38;5;34m0\u001b[0m],     \n",
              "│                                   │                              │                   │ tot_cur_bal[\u001b[38;5;34m0\u001b[0m][\u001b[38;5;34m0\u001b[0m],        \n",
              "│                                   │                              │                   │ total_rev_hi_lim[\u001b[38;5;34m0\u001b[0m][\u001b[38;5;34m0\u001b[0m]    \n",
              "├───────────────────────────────────┼──────────────────────────────┼───────────────────┼───────────────────────────\n",
              "│ embedding (\u001b[38;5;33mEmbedding\u001b[0m)             │ (\u001b[38;5;45mNone\u001b[0m, \u001b[38;5;34m1\u001b[0m, \u001b[38;5;34m8\u001b[0m)                 │             \u001b[38;5;34m8,192\u001b[0m │ term_hash[\u001b[38;5;34m0\u001b[0m][\u001b[38;5;34m0\u001b[0m]           \n",
              "├───────────────────────────────────┼──────────────────────────────┼───────────────────┼───────────────────────────\n",
              "│ embedding_1 (\u001b[38;5;33mEmbedding\u001b[0m)           │ (\u001b[38;5;45mNone\u001b[0m, \u001b[38;5;34m1\u001b[0m, \u001b[38;5;34m8\u001b[0m)                 │             \u001b[38;5;34m8,192\u001b[0m │ grade_hash[\u001b[38;5;34m0\u001b[0m][\u001b[38;5;34m0\u001b[0m]          \n",
              "├───────────────────────────────────┼──────────────────────────────┼───────────────────┼───────────────────────────\n",
              "│ embedding_2 (\u001b[38;5;33mEmbedding\u001b[0m)           │ (\u001b[38;5;45mNone\u001b[0m, \u001b[38;5;34m1\u001b[0m, \u001b[38;5;34m8\u001b[0m)                 │             \u001b[38;5;34m8,192\u001b[0m │ sub_grade_hash[\u001b[38;5;34m0\u001b[0m][\u001b[38;5;34m0\u001b[0m]      \n",
              "├───────────────────────────────────┼──────────────────────────────┼───────────────────┼───────────────────────────\n",
              "│ embedding_3 (\u001b[38;5;33mEmbedding\u001b[0m)           │ (\u001b[38;5;45mNone\u001b[0m, \u001b[38;5;34m1\u001b[0m, \u001b[38;5;34m8\u001b[0m)                 │             \u001b[38;5;34m8,192\u001b[0m │ emp_title_hash[\u001b[38;5;34m0\u001b[0m][\u001b[38;5;34m0\u001b[0m]      \n",
              "├───────────────────────────────────┼──────────────────────────────┼───────────────────┼───────────────────────────\n",
              "│ embedding_4 (\u001b[38;5;33mEmbedding\u001b[0m)           │ (\u001b[38;5;45mNone\u001b[0m, \u001b[38;5;34m1\u001b[0m, \u001b[38;5;34m8\u001b[0m)                 │             \u001b[38;5;34m8,192\u001b[0m │ emp_length_hash[\u001b[38;5;34m0\u001b[0m][\u001b[38;5;34m0\u001b[0m]     \n",
              "├───────────────────────────────────┼──────────────────────────────┼───────────────────┼───────────────────────────\n",
              "│ embedding_5 (\u001b[38;5;33mEmbedding\u001b[0m)           │ (\u001b[38;5;45mNone\u001b[0m, \u001b[38;5;34m1\u001b[0m, \u001b[38;5;34m8\u001b[0m)                 │             \u001b[38;5;34m8,192\u001b[0m │ home_ownership_hash[\u001b[38;5;34m0\u001b[0m][\u001b[38;5;34m0\u001b[0m] \n",
              "├───────────────────────────────────┼──────────────────────────────┼───────────────────┼───────────────────────────\n",
              "│ embedding_6 (\u001b[38;5;33mEmbedding\u001b[0m)           │ (\u001b[38;5;45mNone\u001b[0m, \u001b[38;5;34m1\u001b[0m, \u001b[38;5;34m8\u001b[0m)                 │             \u001b[38;5;34m8,192\u001b[0m │ verification_status_hash[\u001b[38;5;34m0\u001b[0m\n",
              "├───────────────────────────────────┼──────────────────────────────┼───────────────────┼───────────────────────────\n",
              "│ embedding_7 (\u001b[38;5;33mEmbedding\u001b[0m)           │ (\u001b[38;5;45mNone\u001b[0m, \u001b[38;5;34m1\u001b[0m, \u001b[38;5;34m8\u001b[0m)                 │             \u001b[38;5;34m8,192\u001b[0m │ pymnt_plan_hash[\u001b[38;5;34m0\u001b[0m][\u001b[38;5;34m0\u001b[0m]     \n",
              "├───────────────────────────────────┼──────────────────────────────┼───────────────────┼───────────────────────────\n",
              "│ embedding_8 (\u001b[38;5;33mEmbedding\u001b[0m)           │ (\u001b[38;5;45mNone\u001b[0m, \u001b[38;5;34m1\u001b[0m, \u001b[38;5;34m8\u001b[0m)                 │             \u001b[38;5;34m8,192\u001b[0m │ purpose_hash[\u001b[38;5;34m0\u001b[0m][\u001b[38;5;34m0\u001b[0m]        \n",
              "├───────────────────────────────────┼──────────────────────────────┼───────────────────┼───────────────────────────\n",
              "│ embedding_9 (\u001b[38;5;33mEmbedding\u001b[0m)           │ (\u001b[38;5;45mNone\u001b[0m, \u001b[38;5;34m1\u001b[0m, \u001b[38;5;34m8\u001b[0m)                 │             \u001b[38;5;34m8,192\u001b[0m │ title_hash[\u001b[38;5;34m0\u001b[0m][\u001b[38;5;34m0\u001b[0m]          \n",
              "├───────────────────────────────────┼──────────────────────────────┼───────────────────┼───────────────────────────\n",
              "│ embedding_10 (\u001b[38;5;33mEmbedding\u001b[0m)          │ (\u001b[38;5;45mNone\u001b[0m, \u001b[38;5;34m1\u001b[0m, \u001b[38;5;34m8\u001b[0m)                 │             \u001b[38;5;34m8,192\u001b[0m │ zip_code_hash[\u001b[38;5;34m0\u001b[0m][\u001b[38;5;34m0\u001b[0m]       \n",
              "├───────────────────────────────────┼──────────────────────────────┼───────────────────┼───────────────────────────\n",
              "│ embedding_11 (\u001b[38;5;33mEmbedding\u001b[0m)          │ (\u001b[38;5;45mNone\u001b[0m, \u001b[38;5;34m1\u001b[0m, \u001b[38;5;34m8\u001b[0m)                 │             \u001b[38;5;34m8,192\u001b[0m │ addr_state_hash[\u001b[38;5;34m0\u001b[0m][\u001b[38;5;34m0\u001b[0m]     \n",
              "├───────────────────────────────────┼──────────────────────────────┼───────────────────┼───────────────────────────\n",
              "│ embedding_12 (\u001b[38;5;33mEmbedding\u001b[0m)          │ (\u001b[38;5;45mNone\u001b[0m, \u001b[38;5;34m1\u001b[0m, \u001b[38;5;34m8\u001b[0m)                 │             \u001b[38;5;34m8,192\u001b[0m │ earliest_cr_line_hash[\u001b[38;5;34m0\u001b[0m][\u001b[38;5;34m0\u001b[0m\n",
              "├───────────────────────────────────┼──────────────────────────────┼───────────────────┼───────────────────────────\n",
              "│ embedding_13 (\u001b[38;5;33mEmbedding\u001b[0m)          │ (\u001b[38;5;45mNone\u001b[0m, \u001b[38;5;34m1\u001b[0m, \u001b[38;5;34m8\u001b[0m)                 │             \u001b[38;5;34m8,192\u001b[0m │ initial_list_status_hash[\u001b[38;5;34m0\u001b[0m\n",
              "├───────────────────────────────────┼──────────────────────────────┼───────────────────┼───────────────────────────\n",
              "│ embedding_14 (\u001b[38;5;33mEmbedding\u001b[0m)          │ (\u001b[38;5;45mNone\u001b[0m, \u001b[38;5;34m1\u001b[0m, \u001b[38;5;34m8\u001b[0m)                 │             \u001b[38;5;34m8,192\u001b[0m │ application_type_hash[\u001b[38;5;34m0\u001b[0m][\u001b[38;5;34m0\u001b[0m\n",
              "├───────────────────────────────────┼──────────────────────────────┼───────────────────┼───────────────────────────\n",
              "│ normalization (\u001b[38;5;33mNormalization\u001b[0m)     │ (\u001b[38;5;45mNone\u001b[0m, \u001b[38;5;34m17\u001b[0m)                   │                \u001b[38;5;34m35\u001b[0m │ concatenate[\u001b[38;5;34m0\u001b[0m][\u001b[38;5;34m0\u001b[0m]         \n",
              "├───────────────────────────────────┼──────────────────────────────┼───────────────────┼───────────────────────────\n",
              "│ flatten (\u001b[38;5;33mFlatten\u001b[0m)                 │ (\u001b[38;5;45mNone\u001b[0m, \u001b[38;5;34m8\u001b[0m)                    │                 \u001b[38;5;34m0\u001b[0m │ embedding[\u001b[38;5;34m0\u001b[0m][\u001b[38;5;34m0\u001b[0m]           \n",
              "├───────────────────────────────────┼──────────────────────────────┼───────────────────┼───────────────────────────\n",
              "│ flatten_1 (\u001b[38;5;33mFlatten\u001b[0m)               │ (\u001b[38;5;45mNone\u001b[0m, \u001b[38;5;34m8\u001b[0m)                    │                 \u001b[38;5;34m0\u001b[0m │ embedding_1[\u001b[38;5;34m0\u001b[0m][\u001b[38;5;34m0\u001b[0m]         \n",
              "├───────────────────────────────────┼──────────────────────────────┼───────────────────┼───────────────────────────\n",
              "│ flatten_2 (\u001b[38;5;33mFlatten\u001b[0m)               │ (\u001b[38;5;45mNone\u001b[0m, \u001b[38;5;34m8\u001b[0m)                    │                 \u001b[38;5;34m0\u001b[0m │ embedding_2[\u001b[38;5;34m0\u001b[0m][\u001b[38;5;34m0\u001b[0m]         \n",
              "├───────────────────────────────────┼──────────────────────────────┼───────────────────┼───────────────────────────\n",
              "│ flatten_3 (\u001b[38;5;33mFlatten\u001b[0m)               │ (\u001b[38;5;45mNone\u001b[0m, \u001b[38;5;34m8\u001b[0m)                    │                 \u001b[38;5;34m0\u001b[0m │ embedding_3[\u001b[38;5;34m0\u001b[0m][\u001b[38;5;34m0\u001b[0m]         \n",
              "├───────────────────────────────────┼──────────────────────────────┼───────────────────┼───────────────────────────\n",
              "│ flatten_4 (\u001b[38;5;33mFlatten\u001b[0m)               │ (\u001b[38;5;45mNone\u001b[0m, \u001b[38;5;34m8\u001b[0m)                    │                 \u001b[38;5;34m0\u001b[0m │ embedding_4[\u001b[38;5;34m0\u001b[0m][\u001b[38;5;34m0\u001b[0m]         \n",
              "├───────────────────────────────────┼──────────────────────────────┼───────────────────┼───────────────────────────\n",
              "│ flatten_5 (\u001b[38;5;33mFlatten\u001b[0m)               │ (\u001b[38;5;45mNone\u001b[0m, \u001b[38;5;34m8\u001b[0m)                    │                 \u001b[38;5;34m0\u001b[0m │ embedding_5[\u001b[38;5;34m0\u001b[0m][\u001b[38;5;34m0\u001b[0m]         \n",
              "├───────────────────────────────────┼──────────────────────────────┼───────────────────┼───────────────────────────\n",
              "│ flatten_6 (\u001b[38;5;33mFlatten\u001b[0m)               │ (\u001b[38;5;45mNone\u001b[0m, \u001b[38;5;34m8\u001b[0m)                    │                 \u001b[38;5;34m0\u001b[0m │ embedding_6[\u001b[38;5;34m0\u001b[0m][\u001b[38;5;34m0\u001b[0m]         \n",
              "├───────────────────────────────────┼──────────────────────────────┼───────────────────┼───────────────────────────\n",
              "│ flatten_7 (\u001b[38;5;33mFlatten\u001b[0m)               │ (\u001b[38;5;45mNone\u001b[0m, \u001b[38;5;34m8\u001b[0m)                    │                 \u001b[38;5;34m0\u001b[0m │ embedding_7[\u001b[38;5;34m0\u001b[0m][\u001b[38;5;34m0\u001b[0m]         \n",
              "├───────────────────────────────────┼──────────────────────────────┼───────────────────┼───────────────────────────\n",
              "│ flatten_8 (\u001b[38;5;33mFlatten\u001b[0m)               │ (\u001b[38;5;45mNone\u001b[0m, \u001b[38;5;34m8\u001b[0m)                    │                 \u001b[38;5;34m0\u001b[0m │ embedding_8[\u001b[38;5;34m0\u001b[0m][\u001b[38;5;34m0\u001b[0m]         \n",
              "├───────────────────────────────────┼──────────────────────────────┼───────────────────┼───────────────────────────\n",
              "│ flatten_9 (\u001b[38;5;33mFlatten\u001b[0m)               │ (\u001b[38;5;45mNone\u001b[0m, \u001b[38;5;34m8\u001b[0m)                    │                 \u001b[38;5;34m0\u001b[0m │ embedding_9[\u001b[38;5;34m0\u001b[0m][\u001b[38;5;34m0\u001b[0m]         \n",
              "├───────────────────────────────────┼──────────────────────────────┼───────────────────┼───────────────────────────\n",
              "│ flatten_10 (\u001b[38;5;33mFlatten\u001b[0m)              │ (\u001b[38;5;45mNone\u001b[0m, \u001b[38;5;34m8\u001b[0m)                    │                 \u001b[38;5;34m0\u001b[0m │ embedding_10[\u001b[38;5;34m0\u001b[0m][\u001b[38;5;34m0\u001b[0m]        \n",
              "├───────────────────────────────────┼──────────────────────────────┼───────────────────┼───────────────────────────\n",
              "│ flatten_11 (\u001b[38;5;33mFlatten\u001b[0m)              │ (\u001b[38;5;45mNone\u001b[0m, \u001b[38;5;34m8\u001b[0m)                    │                 \u001b[38;5;34m0\u001b[0m │ embedding_11[\u001b[38;5;34m0\u001b[0m][\u001b[38;5;34m0\u001b[0m]        \n",
              "├───────────────────────────────────┼──────────────────────────────┼───────────────────┼───────────────────────────\n",
              "│ flatten_12 (\u001b[38;5;33mFlatten\u001b[0m)              │ (\u001b[38;5;45mNone\u001b[0m, \u001b[38;5;34m8\u001b[0m)                    │                 \u001b[38;5;34m0\u001b[0m │ embedding_12[\u001b[38;5;34m0\u001b[0m][\u001b[38;5;34m0\u001b[0m]        \n",
              "├───────────────────────────────────┼──────────────────────────────┼───────────────────┼───────────────────────────\n",
              "│ flatten_13 (\u001b[38;5;33mFlatten\u001b[0m)              │ (\u001b[38;5;45mNone\u001b[0m, \u001b[38;5;34m8\u001b[0m)                    │                 \u001b[38;5;34m0\u001b[0m │ embedding_13[\u001b[38;5;34m0\u001b[0m][\u001b[38;5;34m0\u001b[0m]        \n",
              "├───────────────────────────────────┼──────────────────────────────┼───────────────────┼───────────────────────────\n",
              "│ flatten_14 (\u001b[38;5;33mFlatten\u001b[0m)              │ (\u001b[38;5;45mNone\u001b[0m, \u001b[38;5;34m8\u001b[0m)                    │                 \u001b[38;5;34m0\u001b[0m │ embedding_14[\u001b[38;5;34m0\u001b[0m][\u001b[38;5;34m0\u001b[0m]        \n",
              "├───────────────────────────────────┼──────────────────────────────┼───────────────────┼───────────────────────────\n",
              "│ concatenate_1 (\u001b[38;5;33mConcatenate\u001b[0m)       │ (\u001b[38;5;45mNone\u001b[0m, \u001b[38;5;34m137\u001b[0m)                  │                 \u001b[38;5;34m0\u001b[0m │ normalization[\u001b[38;5;34m0\u001b[0m][\u001b[38;5;34m0\u001b[0m],      \n",
              "│                                   │                              │                   │ flatten[\u001b[38;5;34m0\u001b[0m][\u001b[38;5;34m0\u001b[0m],            \n",
              "│                                   │                              │                   │ flatten_1[\u001b[38;5;34m0\u001b[0m][\u001b[38;5;34m0\u001b[0m],          \n",
              "│                                   │                              │                   │ flatten_2[\u001b[38;5;34m0\u001b[0m][\u001b[38;5;34m0\u001b[0m],          \n",
              "│                                   │                              │                   │ flatten_3[\u001b[38;5;34m0\u001b[0m][\u001b[38;5;34m0\u001b[0m],          \n",
              "│                                   │                              │                   │ flatten_4[\u001b[38;5;34m0\u001b[0m][\u001b[38;5;34m0\u001b[0m],          \n",
              "│                                   │                              │                   │ flatten_5[\u001b[38;5;34m0\u001b[0m][\u001b[38;5;34m0\u001b[0m],          \n",
              "│                                   │                              │                   │ flatten_6[\u001b[38;5;34m0\u001b[0m][\u001b[38;5;34m0\u001b[0m],          \n",
              "│                                   │                              │                   │ flatten_7[\u001b[38;5;34m0\u001b[0m][\u001b[38;5;34m0\u001b[0m],          \n",
              "│                                   │                              │                   │ flatten_8[\u001b[38;5;34m0\u001b[0m][\u001b[38;5;34m0\u001b[0m],          \n",
              "│                                   │                              │                   │ flatten_9[\u001b[38;5;34m0\u001b[0m][\u001b[38;5;34m0\u001b[0m],          \n",
              "│                                   │                              │                   │ flatten_10[\u001b[38;5;34m0\u001b[0m][\u001b[38;5;34m0\u001b[0m],         \n",
              "│                                   │                              │                   │ flatten_11[\u001b[38;5;34m0\u001b[0m][\u001b[38;5;34m0\u001b[0m],         \n",
              "│                                   │                              │                   │ flatten_12[\u001b[38;5;34m0\u001b[0m][\u001b[38;5;34m0\u001b[0m],         \n",
              "│                                   │                              │                   │ flatten_13[\u001b[38;5;34m0\u001b[0m][\u001b[38;5;34m0\u001b[0m],         \n",
              "│                                   │                              │                   │ flatten_14[\u001b[38;5;34m0\u001b[0m][\u001b[38;5;34m0\u001b[0m]          \n",
              "├───────────────────────────────────┼──────────────────────────────┼───────────────────┼───────────────────────────\n",
              "│ dense (\u001b[38;5;33mDense\u001b[0m)                     │ (\u001b[38;5;45mNone\u001b[0m, \u001b[38;5;34m64\u001b[0m)                   │             \u001b[38;5;34m8,832\u001b[0m │ concatenate_1[\u001b[38;5;34m0\u001b[0m][\u001b[38;5;34m0\u001b[0m]       \n",
              "├───────────────────────────────────┼──────────────────────────────┼───────────────────┼───────────────────────────\n",
              "│ batch_normalization               │ (\u001b[38;5;45mNone\u001b[0m, \u001b[38;5;34m64\u001b[0m)                   │               \u001b[38;5;34m256\u001b[0m │ dense[\u001b[38;5;34m0\u001b[0m][\u001b[38;5;34m0\u001b[0m]               \n",
              "│ (\u001b[38;5;33mBatchNormalization\u001b[0m)              │                              │                   │                           \n",
              "├───────────────────────────────────┼──────────────────────────────┼───────────────────┼───────────────────────────\n",
              "│ dropout (\u001b[38;5;33mDropout\u001b[0m)                 │ (\u001b[38;5;45mNone\u001b[0m, \u001b[38;5;34m64\u001b[0m)                   │                 \u001b[38;5;34m0\u001b[0m │ batch_normalization[\u001b[38;5;34m0\u001b[0m][\u001b[38;5;34m0\u001b[0m] \n",
              "├───────────────────────────────────┼──────────────────────────────┼───────────────────┼───────────────────────────\n",
              "│ dense_1 (\u001b[38;5;33mDense\u001b[0m)                   │ (\u001b[38;5;45mNone\u001b[0m, \u001b[38;5;34m32\u001b[0m)                   │             \u001b[38;5;34m2,080\u001b[0m │ dropout[\u001b[38;5;34m0\u001b[0m][\u001b[38;5;34m0\u001b[0m]             \n",
              "├───────────────────────────────────┼──────────────────────────────┼───────────────────┼───────────────────────────\n",
              "│ batch_normalization_1             │ (\u001b[38;5;45mNone\u001b[0m, \u001b[38;5;34m32\u001b[0m)                   │               \u001b[38;5;34m128\u001b[0m │ dense_1[\u001b[38;5;34m0\u001b[0m][\u001b[38;5;34m0\u001b[0m]             \n",
              "│ (\u001b[38;5;33mBatchNormalization\u001b[0m)              │                              │                   │                           \n",
              "├───────────────────────────────────┼──────────────────────────────┼───────────────────┼───────────────────────────\n",
              "│ dropout_1 (\u001b[38;5;33mDropout\u001b[0m)               │ (\u001b[38;5;45mNone\u001b[0m, \u001b[38;5;34m32\u001b[0m)                   │                 \u001b[38;5;34m0\u001b[0m │ batch_normalization_1[\u001b[38;5;34m0\u001b[0m][\u001b[38;5;34m0\u001b[0m\n",
              "├───────────────────────────────────┼──────────────────────────────┼───────────────────┼───────────────────────────\n",
              "│ default_prob (\u001b[38;5;33mDense\u001b[0m)              │ (\u001b[38;5;45mNone\u001b[0m, \u001b[38;5;34m1\u001b[0m)                    │                \u001b[38;5;34m33\u001b[0m │ dropout_1[\u001b[38;5;34m0\u001b[0m][\u001b[38;5;34m0\u001b[0m]           \n",
              "└───────────────────────────────────┴──────────────────────────────┴───────────────────┴───────────────────────────\n"
            ],
            "text/html": [
              "<pre style=\"white-space:pre;overflow-x:auto;line-height:normal;font-family:Menlo,'DejaVu Sans Mono',consolas,'Courier New',monospace\">┏━━━━━━━━━━━━━━━━━━━━━━━━━━━━━━━━━━━┳━━━━━━━━━━━━━━━━━━━━━━━━━━━━━━┳━━━━━━━━━━━━━━━━━━━┳━━━━━━━━━━━━━━━━━━━━━━━━━━━\n",
              "┃<span style=\"font-weight: bold\"> Layer (type)                      </span>┃<span style=\"font-weight: bold\"> Output Shape                 </span>┃<span style=\"font-weight: bold\">           Param # </span>┃<span style=\"font-weight: bold\"> Connected to              </span>\n",
              "┡━━━━━━━━━━━━━━━━━━━━━━━━━━━━━━━━━━━╇━━━━━━━━━━━━━━━━━━━━━━━━━━━━━━╇━━━━━━━━━━━━━━━━━━━╇━━━━━━━━━━━━━━━━━━━━━━━━━━━\n",
              "│ term (<span style=\"color: #0087ff; text-decoration-color: #0087ff\">InputLayer</span>)                 │ (<span style=\"color: #00d7ff; text-decoration-color: #00d7ff\">None</span>, <span style=\"color: #00af00; text-decoration-color: #00af00\">1</span>)                    │                 <span style=\"color: #00af00; text-decoration-color: #00af00\">0</span> │ -                         \n",
              "├───────────────────────────────────┼──────────────────────────────┼───────────────────┼───────────────────────────\n",
              "│ grade (<span style=\"color: #0087ff; text-decoration-color: #0087ff\">InputLayer</span>)                │ (<span style=\"color: #00d7ff; text-decoration-color: #00d7ff\">None</span>, <span style=\"color: #00af00; text-decoration-color: #00af00\">1</span>)                    │                 <span style=\"color: #00af00; text-decoration-color: #00af00\">0</span> │ -                         \n",
              "├───────────────────────────────────┼──────────────────────────────┼───────────────────┼───────────────────────────\n",
              "│ sub_grade (<span style=\"color: #0087ff; text-decoration-color: #0087ff\">InputLayer</span>)            │ (<span style=\"color: #00d7ff; text-decoration-color: #00d7ff\">None</span>, <span style=\"color: #00af00; text-decoration-color: #00af00\">1</span>)                    │                 <span style=\"color: #00af00; text-decoration-color: #00af00\">0</span> │ -                         \n",
              "├───────────────────────────────────┼──────────────────────────────┼───────────────────┼───────────────────────────\n",
              "│ emp_title (<span style=\"color: #0087ff; text-decoration-color: #0087ff\">InputLayer</span>)            │ (<span style=\"color: #00d7ff; text-decoration-color: #00d7ff\">None</span>, <span style=\"color: #00af00; text-decoration-color: #00af00\">1</span>)                    │                 <span style=\"color: #00af00; text-decoration-color: #00af00\">0</span> │ -                         \n",
              "├───────────────────────────────────┼──────────────────────────────┼───────────────────┼───────────────────────────\n",
              "│ emp_length (<span style=\"color: #0087ff; text-decoration-color: #0087ff\">InputLayer</span>)           │ (<span style=\"color: #00d7ff; text-decoration-color: #00d7ff\">None</span>, <span style=\"color: #00af00; text-decoration-color: #00af00\">1</span>)                    │                 <span style=\"color: #00af00; text-decoration-color: #00af00\">0</span> │ -                         \n",
              "├───────────────────────────────────┼──────────────────────────────┼───────────────────┼───────────────────────────\n",
              "│ home_ownership (<span style=\"color: #0087ff; text-decoration-color: #0087ff\">InputLayer</span>)       │ (<span style=\"color: #00d7ff; text-decoration-color: #00d7ff\">None</span>, <span style=\"color: #00af00; text-decoration-color: #00af00\">1</span>)                    │                 <span style=\"color: #00af00; text-decoration-color: #00af00\">0</span> │ -                         \n",
              "├───────────────────────────────────┼──────────────────────────────┼───────────────────┼───────────────────────────\n",
              "│ verification_status (<span style=\"color: #0087ff; text-decoration-color: #0087ff\">InputLayer</span>)  │ (<span style=\"color: #00d7ff; text-decoration-color: #00d7ff\">None</span>, <span style=\"color: #00af00; text-decoration-color: #00af00\">1</span>)                    │                 <span style=\"color: #00af00; text-decoration-color: #00af00\">0</span> │ -                         \n",
              "├───────────────────────────────────┼──────────────────────────────┼───────────────────┼───────────────────────────\n",
              "│ pymnt_plan (<span style=\"color: #0087ff; text-decoration-color: #0087ff\">InputLayer</span>)           │ (<span style=\"color: #00d7ff; text-decoration-color: #00d7ff\">None</span>, <span style=\"color: #00af00; text-decoration-color: #00af00\">1</span>)                    │                 <span style=\"color: #00af00; text-decoration-color: #00af00\">0</span> │ -                         \n",
              "├───────────────────────────────────┼──────────────────────────────┼───────────────────┼───────────────────────────\n",
              "│ purpose (<span style=\"color: #0087ff; text-decoration-color: #0087ff\">InputLayer</span>)              │ (<span style=\"color: #00d7ff; text-decoration-color: #00d7ff\">None</span>, <span style=\"color: #00af00; text-decoration-color: #00af00\">1</span>)                    │                 <span style=\"color: #00af00; text-decoration-color: #00af00\">0</span> │ -                         \n",
              "├───────────────────────────────────┼──────────────────────────────┼───────────────────┼───────────────────────────\n",
              "│ title (<span style=\"color: #0087ff; text-decoration-color: #0087ff\">InputLayer</span>)                │ (<span style=\"color: #00d7ff; text-decoration-color: #00d7ff\">None</span>, <span style=\"color: #00af00; text-decoration-color: #00af00\">1</span>)                    │                 <span style=\"color: #00af00; text-decoration-color: #00af00\">0</span> │ -                         \n",
              "├───────────────────────────────────┼──────────────────────────────┼───────────────────┼───────────────────────────\n",
              "│ zip_code (<span style=\"color: #0087ff; text-decoration-color: #0087ff\">InputLayer</span>)             │ (<span style=\"color: #00d7ff; text-decoration-color: #00d7ff\">None</span>, <span style=\"color: #00af00; text-decoration-color: #00af00\">1</span>)                    │                 <span style=\"color: #00af00; text-decoration-color: #00af00\">0</span> │ -                         \n",
              "├───────────────────────────────────┼──────────────────────────────┼───────────────────┼───────────────────────────\n",
              "│ addr_state (<span style=\"color: #0087ff; text-decoration-color: #0087ff\">InputLayer</span>)           │ (<span style=\"color: #00d7ff; text-decoration-color: #00d7ff\">None</span>, <span style=\"color: #00af00; text-decoration-color: #00af00\">1</span>)                    │                 <span style=\"color: #00af00; text-decoration-color: #00af00\">0</span> │ -                         \n",
              "├───────────────────────────────────┼──────────────────────────────┼───────────────────┼───────────────────────────\n",
              "│ earliest_cr_line (<span style=\"color: #0087ff; text-decoration-color: #0087ff\">InputLayer</span>)     │ (<span style=\"color: #00d7ff; text-decoration-color: #00d7ff\">None</span>, <span style=\"color: #00af00; text-decoration-color: #00af00\">1</span>)                    │                 <span style=\"color: #00af00; text-decoration-color: #00af00\">0</span> │ -                         \n",
              "├───────────────────────────────────┼──────────────────────────────┼───────────────────┼───────────────────────────\n",
              "│ initial_list_status (<span style=\"color: #0087ff; text-decoration-color: #0087ff\">InputLayer</span>)  │ (<span style=\"color: #00d7ff; text-decoration-color: #00d7ff\">None</span>, <span style=\"color: #00af00; text-decoration-color: #00af00\">1</span>)                    │                 <span style=\"color: #00af00; text-decoration-color: #00af00\">0</span> │ -                         \n",
              "├───────────────────────────────────┼──────────────────────────────┼───────────────────┼───────────────────────────\n",
              "│ application_type (<span style=\"color: #0087ff; text-decoration-color: #0087ff\">InputLayer</span>)     │ (<span style=\"color: #00d7ff; text-decoration-color: #00d7ff\">None</span>, <span style=\"color: #00af00; text-decoration-color: #00af00\">1</span>)                    │                 <span style=\"color: #00af00; text-decoration-color: #00af00\">0</span> │ -                         \n",
              "├───────────────────────────────────┼──────────────────────────────┼───────────────────┼───────────────────────────\n",
              "│ loan_amnt (<span style=\"color: #0087ff; text-decoration-color: #0087ff\">InputLayer</span>)            │ (<span style=\"color: #00d7ff; text-decoration-color: #00d7ff\">None</span>, <span style=\"color: #00af00; text-decoration-color: #00af00\">1</span>)                    │                 <span style=\"color: #00af00; text-decoration-color: #00af00\">0</span> │ -                         \n",
              "├───────────────────────────────────┼──────────────────────────────┼───────────────────┼───────────────────────────\n",
              "│ funded_amnt (<span style=\"color: #0087ff; text-decoration-color: #0087ff\">InputLayer</span>)          │ (<span style=\"color: #00d7ff; text-decoration-color: #00d7ff\">None</span>, <span style=\"color: #00af00; text-decoration-color: #00af00\">1</span>)                    │                 <span style=\"color: #00af00; text-decoration-color: #00af00\">0</span> │ -                         \n",
              "├───────────────────────────────────┼──────────────────────────────┼───────────────────┼───────────────────────────\n",
              "│ funded_amnt_inv (<span style=\"color: #0087ff; text-decoration-color: #0087ff\">InputLayer</span>)      │ (<span style=\"color: #00d7ff; text-decoration-color: #00d7ff\">None</span>, <span style=\"color: #00af00; text-decoration-color: #00af00\">1</span>)                    │                 <span style=\"color: #00af00; text-decoration-color: #00af00\">0</span> │ -                         \n",
              "├───────────────────────────────────┼──────────────────────────────┼───────────────────┼───────────────────────────\n",
              "│ int_rate (<span style=\"color: #0087ff; text-decoration-color: #0087ff\">InputLayer</span>)             │ (<span style=\"color: #00d7ff; text-decoration-color: #00d7ff\">None</span>, <span style=\"color: #00af00; text-decoration-color: #00af00\">1</span>)                    │                 <span style=\"color: #00af00; text-decoration-color: #00af00\">0</span> │ -                         \n",
              "├───────────────────────────────────┼──────────────────────────────┼───────────────────┼───────────────────────────\n",
              "│ installment (<span style=\"color: #0087ff; text-decoration-color: #0087ff\">InputLayer</span>)          │ (<span style=\"color: #00d7ff; text-decoration-color: #00d7ff\">None</span>, <span style=\"color: #00af00; text-decoration-color: #00af00\">1</span>)                    │                 <span style=\"color: #00af00; text-decoration-color: #00af00\">0</span> │ -                         \n",
              "├───────────────────────────────────┼──────────────────────────────┼───────────────────┼───────────────────────────\n",
              "│ annual_inc (<span style=\"color: #0087ff; text-decoration-color: #0087ff\">InputLayer</span>)           │ (<span style=\"color: #00d7ff; text-decoration-color: #00d7ff\">None</span>, <span style=\"color: #00af00; text-decoration-color: #00af00\">1</span>)                    │                 <span style=\"color: #00af00; text-decoration-color: #00af00\">0</span> │ -                         \n",
              "├───────────────────────────────────┼──────────────────────────────┼───────────────────┼───────────────────────────\n",
              "│ dti (<span style=\"color: #0087ff; text-decoration-color: #0087ff\">InputLayer</span>)                  │ (<span style=\"color: #00d7ff; text-decoration-color: #00d7ff\">None</span>, <span style=\"color: #00af00; text-decoration-color: #00af00\">1</span>)                    │                 <span style=\"color: #00af00; text-decoration-color: #00af00\">0</span> │ -                         \n",
              "├───────────────────────────────────┼──────────────────────────────┼───────────────────┼───────────────────────────\n",
              "│ delinq_2yrs (<span style=\"color: #0087ff; text-decoration-color: #0087ff\">InputLayer</span>)          │ (<span style=\"color: #00d7ff; text-decoration-color: #00d7ff\">None</span>, <span style=\"color: #00af00; text-decoration-color: #00af00\">1</span>)                    │                 <span style=\"color: #00af00; text-decoration-color: #00af00\">0</span> │ -                         \n",
              "├───────────────────────────────────┼──────────────────────────────┼───────────────────┼───────────────────────────\n",
              "│ inq_last_6mths (<span style=\"color: #0087ff; text-decoration-color: #0087ff\">InputLayer</span>)       │ (<span style=\"color: #00d7ff; text-decoration-color: #00d7ff\">None</span>, <span style=\"color: #00af00; text-decoration-color: #00af00\">1</span>)                    │                 <span style=\"color: #00af00; text-decoration-color: #00af00\">0</span> │ -                         \n",
              "├───────────────────────────────────┼──────────────────────────────┼───────────────────┼───────────────────────────\n",
              "│ open_acc (<span style=\"color: #0087ff; text-decoration-color: #0087ff\">InputLayer</span>)             │ (<span style=\"color: #00d7ff; text-decoration-color: #00d7ff\">None</span>, <span style=\"color: #00af00; text-decoration-color: #00af00\">1</span>)                    │                 <span style=\"color: #00af00; text-decoration-color: #00af00\">0</span> │ -                         \n",
              "├───────────────────────────────────┼──────────────────────────────┼───────────────────┼───────────────────────────\n",
              "│ pub_rec (<span style=\"color: #0087ff; text-decoration-color: #0087ff\">InputLayer</span>)              │ (<span style=\"color: #00d7ff; text-decoration-color: #00d7ff\">None</span>, <span style=\"color: #00af00; text-decoration-color: #00af00\">1</span>)                    │                 <span style=\"color: #00af00; text-decoration-color: #00af00\">0</span> │ -                         \n",
              "├───────────────────────────────────┼──────────────────────────────┼───────────────────┼───────────────────────────\n",
              "│ revol_bal (<span style=\"color: #0087ff; text-decoration-color: #0087ff\">InputLayer</span>)            │ (<span style=\"color: #00d7ff; text-decoration-color: #00d7ff\">None</span>, <span style=\"color: #00af00; text-decoration-color: #00af00\">1</span>)                    │                 <span style=\"color: #00af00; text-decoration-color: #00af00\">0</span> │ -                         \n",
              "├───────────────────────────────────┼──────────────────────────────┼───────────────────┼───────────────────────────\n",
              "│ revol_util (<span style=\"color: #0087ff; text-decoration-color: #0087ff\">InputLayer</span>)           │ (<span style=\"color: #00d7ff; text-decoration-color: #00d7ff\">None</span>, <span style=\"color: #00af00; text-decoration-color: #00af00\">1</span>)                    │                 <span style=\"color: #00af00; text-decoration-color: #00af00\">0</span> │ -                         \n",
              "├───────────────────────────────────┼──────────────────────────────┼───────────────────┼───────────────────────────\n",
              "│ total_acc (<span style=\"color: #0087ff; text-decoration-color: #0087ff\">InputLayer</span>)            │ (<span style=\"color: #00d7ff; text-decoration-color: #00d7ff\">None</span>, <span style=\"color: #00af00; text-decoration-color: #00af00\">1</span>)                    │                 <span style=\"color: #00af00; text-decoration-color: #00af00\">0</span> │ -                         \n",
              "├───────────────────────────────────┼──────────────────────────────┼───────────────────┼───────────────────────────\n",
              "│ acc_now_delinq (<span style=\"color: #0087ff; text-decoration-color: #0087ff\">InputLayer</span>)       │ (<span style=\"color: #00d7ff; text-decoration-color: #00d7ff\">None</span>, <span style=\"color: #00af00; text-decoration-color: #00af00\">1</span>)                    │                 <span style=\"color: #00af00; text-decoration-color: #00af00\">0</span> │ -                         \n",
              "├───────────────────────────────────┼──────────────────────────────┼───────────────────┼───────────────────────────\n",
              "│ tot_cur_bal (<span style=\"color: #0087ff; text-decoration-color: #0087ff\">InputLayer</span>)          │ (<span style=\"color: #00d7ff; text-decoration-color: #00d7ff\">None</span>, <span style=\"color: #00af00; text-decoration-color: #00af00\">1</span>)                    │                 <span style=\"color: #00af00; text-decoration-color: #00af00\">0</span> │ -                         \n",
              "├───────────────────────────────────┼──────────────────────────────┼───────────────────┼───────────────────────────\n",
              "│ total_rev_hi_lim (<span style=\"color: #0087ff; text-decoration-color: #0087ff\">InputLayer</span>)     │ (<span style=\"color: #00d7ff; text-decoration-color: #00d7ff\">None</span>, <span style=\"color: #00af00; text-decoration-color: #00af00\">1</span>)                    │                 <span style=\"color: #00af00; text-decoration-color: #00af00\">0</span> │ -                         \n",
              "├───────────────────────────────────┼──────────────────────────────┼───────────────────┼───────────────────────────\n",
              "│ term_hash (<span style=\"color: #0087ff; text-decoration-color: #0087ff\">Hashing</span>)               │ (<span style=\"color: #00d7ff; text-decoration-color: #00d7ff\">None</span>, <span style=\"color: #00af00; text-decoration-color: #00af00\">1</span>)                    │                 <span style=\"color: #00af00; text-decoration-color: #00af00\">0</span> │ term[<span style=\"color: #00af00; text-decoration-color: #00af00\">0</span>][<span style=\"color: #00af00; text-decoration-color: #00af00\">0</span>]                \n",
              "├───────────────────────────────────┼──────────────────────────────┼───────────────────┼───────────────────────────\n",
              "│ grade_hash (<span style=\"color: #0087ff; text-decoration-color: #0087ff\">Hashing</span>)              │ (<span style=\"color: #00d7ff; text-decoration-color: #00d7ff\">None</span>, <span style=\"color: #00af00; text-decoration-color: #00af00\">1</span>)                    │                 <span style=\"color: #00af00; text-decoration-color: #00af00\">0</span> │ grade[<span style=\"color: #00af00; text-decoration-color: #00af00\">0</span>][<span style=\"color: #00af00; text-decoration-color: #00af00\">0</span>]               \n",
              "├───────────────────────────────────┼──────────────────────────────┼───────────────────┼───────────────────────────\n",
              "│ sub_grade_hash (<span style=\"color: #0087ff; text-decoration-color: #0087ff\">Hashing</span>)          │ (<span style=\"color: #00d7ff; text-decoration-color: #00d7ff\">None</span>, <span style=\"color: #00af00; text-decoration-color: #00af00\">1</span>)                    │                 <span style=\"color: #00af00; text-decoration-color: #00af00\">0</span> │ sub_grade[<span style=\"color: #00af00; text-decoration-color: #00af00\">0</span>][<span style=\"color: #00af00; text-decoration-color: #00af00\">0</span>]           \n",
              "├───────────────────────────────────┼──────────────────────────────┼───────────────────┼───────────────────────────\n",
              "│ emp_title_hash (<span style=\"color: #0087ff; text-decoration-color: #0087ff\">Hashing</span>)          │ (<span style=\"color: #00d7ff; text-decoration-color: #00d7ff\">None</span>, <span style=\"color: #00af00; text-decoration-color: #00af00\">1</span>)                    │                 <span style=\"color: #00af00; text-decoration-color: #00af00\">0</span> │ emp_title[<span style=\"color: #00af00; text-decoration-color: #00af00\">0</span>][<span style=\"color: #00af00; text-decoration-color: #00af00\">0</span>]           \n",
              "├───────────────────────────────────┼──────────────────────────────┼───────────────────┼───────────────────────────\n",
              "│ emp_length_hash (<span style=\"color: #0087ff; text-decoration-color: #0087ff\">Hashing</span>)         │ (<span style=\"color: #00d7ff; text-decoration-color: #00d7ff\">None</span>, <span style=\"color: #00af00; text-decoration-color: #00af00\">1</span>)                    │                 <span style=\"color: #00af00; text-decoration-color: #00af00\">0</span> │ emp_length[<span style=\"color: #00af00; text-decoration-color: #00af00\">0</span>][<span style=\"color: #00af00; text-decoration-color: #00af00\">0</span>]          \n",
              "├───────────────────────────────────┼──────────────────────────────┼───────────────────┼───────────────────────────\n",
              "│ home_ownership_hash (<span style=\"color: #0087ff; text-decoration-color: #0087ff\">Hashing</span>)     │ (<span style=\"color: #00d7ff; text-decoration-color: #00d7ff\">None</span>, <span style=\"color: #00af00; text-decoration-color: #00af00\">1</span>)                    │                 <span style=\"color: #00af00; text-decoration-color: #00af00\">0</span> │ home_ownership[<span style=\"color: #00af00; text-decoration-color: #00af00\">0</span>][<span style=\"color: #00af00; text-decoration-color: #00af00\">0</span>]      \n",
              "├───────────────────────────────────┼──────────────────────────────┼───────────────────┼───────────────────────────\n",
              "│ verification_status_hash          │ (<span style=\"color: #00d7ff; text-decoration-color: #00d7ff\">None</span>, <span style=\"color: #00af00; text-decoration-color: #00af00\">1</span>)                    │                 <span style=\"color: #00af00; text-decoration-color: #00af00\">0</span> │ verification_status[<span style=\"color: #00af00; text-decoration-color: #00af00\">0</span>][<span style=\"color: #00af00; text-decoration-color: #00af00\">0</span>] \n",
              "│ (<span style=\"color: #0087ff; text-decoration-color: #0087ff\">Hashing</span>)                         │                              │                   │                           \n",
              "├───────────────────────────────────┼──────────────────────────────┼───────────────────┼───────────────────────────\n",
              "│ pymnt_plan_hash (<span style=\"color: #0087ff; text-decoration-color: #0087ff\">Hashing</span>)         │ (<span style=\"color: #00d7ff; text-decoration-color: #00d7ff\">None</span>, <span style=\"color: #00af00; text-decoration-color: #00af00\">1</span>)                    │                 <span style=\"color: #00af00; text-decoration-color: #00af00\">0</span> │ pymnt_plan[<span style=\"color: #00af00; text-decoration-color: #00af00\">0</span>][<span style=\"color: #00af00; text-decoration-color: #00af00\">0</span>]          \n",
              "├───────────────────────────────────┼──────────────────────────────┼───────────────────┼───────────────────────────\n",
              "│ purpose_hash (<span style=\"color: #0087ff; text-decoration-color: #0087ff\">Hashing</span>)            │ (<span style=\"color: #00d7ff; text-decoration-color: #00d7ff\">None</span>, <span style=\"color: #00af00; text-decoration-color: #00af00\">1</span>)                    │                 <span style=\"color: #00af00; text-decoration-color: #00af00\">0</span> │ purpose[<span style=\"color: #00af00; text-decoration-color: #00af00\">0</span>][<span style=\"color: #00af00; text-decoration-color: #00af00\">0</span>]             \n",
              "├───────────────────────────────────┼──────────────────────────────┼───────────────────┼───────────────────────────\n",
              "│ title_hash (<span style=\"color: #0087ff; text-decoration-color: #0087ff\">Hashing</span>)              │ (<span style=\"color: #00d7ff; text-decoration-color: #00d7ff\">None</span>, <span style=\"color: #00af00; text-decoration-color: #00af00\">1</span>)                    │                 <span style=\"color: #00af00; text-decoration-color: #00af00\">0</span> │ title[<span style=\"color: #00af00; text-decoration-color: #00af00\">0</span>][<span style=\"color: #00af00; text-decoration-color: #00af00\">0</span>]               \n",
              "├───────────────────────────────────┼──────────────────────────────┼───────────────────┼───────────────────────────\n",
              "│ zip_code_hash (<span style=\"color: #0087ff; text-decoration-color: #0087ff\">Hashing</span>)           │ (<span style=\"color: #00d7ff; text-decoration-color: #00d7ff\">None</span>, <span style=\"color: #00af00; text-decoration-color: #00af00\">1</span>)                    │                 <span style=\"color: #00af00; text-decoration-color: #00af00\">0</span> │ zip_code[<span style=\"color: #00af00; text-decoration-color: #00af00\">0</span>][<span style=\"color: #00af00; text-decoration-color: #00af00\">0</span>]            \n",
              "├───────────────────────────────────┼──────────────────────────────┼───────────────────┼───────────────────────────\n",
              "│ addr_state_hash (<span style=\"color: #0087ff; text-decoration-color: #0087ff\">Hashing</span>)         │ (<span style=\"color: #00d7ff; text-decoration-color: #00d7ff\">None</span>, <span style=\"color: #00af00; text-decoration-color: #00af00\">1</span>)                    │                 <span style=\"color: #00af00; text-decoration-color: #00af00\">0</span> │ addr_state[<span style=\"color: #00af00; text-decoration-color: #00af00\">0</span>][<span style=\"color: #00af00; text-decoration-color: #00af00\">0</span>]          \n",
              "├───────────────────────────────────┼──────────────────────────────┼───────────────────┼───────────────────────────\n",
              "│ earliest_cr_line_hash (<span style=\"color: #0087ff; text-decoration-color: #0087ff\">Hashing</span>)   │ (<span style=\"color: #00d7ff; text-decoration-color: #00d7ff\">None</span>, <span style=\"color: #00af00; text-decoration-color: #00af00\">1</span>)                    │                 <span style=\"color: #00af00; text-decoration-color: #00af00\">0</span> │ earliest_cr_line[<span style=\"color: #00af00; text-decoration-color: #00af00\">0</span>][<span style=\"color: #00af00; text-decoration-color: #00af00\">0</span>]    \n",
              "├───────────────────────────────────┼──────────────────────────────┼───────────────────┼───────────────────────────\n",
              "│ initial_list_status_hash          │ (<span style=\"color: #00d7ff; text-decoration-color: #00d7ff\">None</span>, <span style=\"color: #00af00; text-decoration-color: #00af00\">1</span>)                    │                 <span style=\"color: #00af00; text-decoration-color: #00af00\">0</span> │ initial_list_status[<span style=\"color: #00af00; text-decoration-color: #00af00\">0</span>][<span style=\"color: #00af00; text-decoration-color: #00af00\">0</span>] \n",
              "│ (<span style=\"color: #0087ff; text-decoration-color: #0087ff\">Hashing</span>)                         │                              │                   │                           \n",
              "├───────────────────────────────────┼──────────────────────────────┼───────────────────┼───────────────────────────\n",
              "│ application_type_hash (<span style=\"color: #0087ff; text-decoration-color: #0087ff\">Hashing</span>)   │ (<span style=\"color: #00d7ff; text-decoration-color: #00d7ff\">None</span>, <span style=\"color: #00af00; text-decoration-color: #00af00\">1</span>)                    │                 <span style=\"color: #00af00; text-decoration-color: #00af00\">0</span> │ application_type[<span style=\"color: #00af00; text-decoration-color: #00af00\">0</span>][<span style=\"color: #00af00; text-decoration-color: #00af00\">0</span>]    \n",
              "├───────────────────────────────────┼──────────────────────────────┼───────────────────┼───────────────────────────\n",
              "│ concatenate (<span style=\"color: #0087ff; text-decoration-color: #0087ff\">Concatenate</span>)         │ (<span style=\"color: #00d7ff; text-decoration-color: #00d7ff\">None</span>, <span style=\"color: #00af00; text-decoration-color: #00af00\">17</span>)                   │                 <span style=\"color: #00af00; text-decoration-color: #00af00\">0</span> │ loan_amnt[<span style=\"color: #00af00; text-decoration-color: #00af00\">0</span>][<span style=\"color: #00af00; text-decoration-color: #00af00\">0</span>],          \n",
              "│                                   │                              │                   │ funded_amnt[<span style=\"color: #00af00; text-decoration-color: #00af00\">0</span>][<span style=\"color: #00af00; text-decoration-color: #00af00\">0</span>],        \n",
              "│                                   │                              │                   │ funded_amnt_inv[<span style=\"color: #00af00; text-decoration-color: #00af00\">0</span>][<span style=\"color: #00af00; text-decoration-color: #00af00\">0</span>],    \n",
              "│                                   │                              │                   │ int_rate[<span style=\"color: #00af00; text-decoration-color: #00af00\">0</span>][<span style=\"color: #00af00; text-decoration-color: #00af00\">0</span>],           \n",
              "│                                   │                              │                   │ installment[<span style=\"color: #00af00; text-decoration-color: #00af00\">0</span>][<span style=\"color: #00af00; text-decoration-color: #00af00\">0</span>],        \n",
              "│                                   │                              │                   │ annual_inc[<span style=\"color: #00af00; text-decoration-color: #00af00\">0</span>][<span style=\"color: #00af00; text-decoration-color: #00af00\">0</span>], dti[<span style=\"color: #00af00; text-decoration-color: #00af00\">0</span>][<span style=\"color: #00af00; text-decoration-color: #00af00\">0</span>\n",
              "│                                   │                              │                   │ delinq_2yrs[<span style=\"color: #00af00; text-decoration-color: #00af00\">0</span>][<span style=\"color: #00af00; text-decoration-color: #00af00\">0</span>],        \n",
              "│                                   │                              │                   │ inq_last_6mths[<span style=\"color: #00af00; text-decoration-color: #00af00\">0</span>][<span style=\"color: #00af00; text-decoration-color: #00af00\">0</span>],     \n",
              "│                                   │                              │                   │ open_acc[<span style=\"color: #00af00; text-decoration-color: #00af00\">0</span>][<span style=\"color: #00af00; text-decoration-color: #00af00\">0</span>],           \n",
              "│                                   │                              │                   │ pub_rec[<span style=\"color: #00af00; text-decoration-color: #00af00\">0</span>][<span style=\"color: #00af00; text-decoration-color: #00af00\">0</span>],            \n",
              "│                                   │                              │                   │ revol_bal[<span style=\"color: #00af00; text-decoration-color: #00af00\">0</span>][<span style=\"color: #00af00; text-decoration-color: #00af00\">0</span>],          \n",
              "│                                   │                              │                   │ revol_util[<span style=\"color: #00af00; text-decoration-color: #00af00\">0</span>][<span style=\"color: #00af00; text-decoration-color: #00af00\">0</span>],         \n",
              "│                                   │                              │                   │ total_acc[<span style=\"color: #00af00; text-decoration-color: #00af00\">0</span>][<span style=\"color: #00af00; text-decoration-color: #00af00\">0</span>],          \n",
              "│                                   │                              │                   │ acc_now_delinq[<span style=\"color: #00af00; text-decoration-color: #00af00\">0</span>][<span style=\"color: #00af00; text-decoration-color: #00af00\">0</span>],     \n",
              "│                                   │                              │                   │ tot_cur_bal[<span style=\"color: #00af00; text-decoration-color: #00af00\">0</span>][<span style=\"color: #00af00; text-decoration-color: #00af00\">0</span>],        \n",
              "│                                   │                              │                   │ total_rev_hi_lim[<span style=\"color: #00af00; text-decoration-color: #00af00\">0</span>][<span style=\"color: #00af00; text-decoration-color: #00af00\">0</span>]    \n",
              "├───────────────────────────────────┼──────────────────────────────┼───────────────────┼───────────────────────────\n",
              "│ embedding (<span style=\"color: #0087ff; text-decoration-color: #0087ff\">Embedding</span>)             │ (<span style=\"color: #00d7ff; text-decoration-color: #00d7ff\">None</span>, <span style=\"color: #00af00; text-decoration-color: #00af00\">1</span>, <span style=\"color: #00af00; text-decoration-color: #00af00\">8</span>)                 │             <span style=\"color: #00af00; text-decoration-color: #00af00\">8,192</span> │ term_hash[<span style=\"color: #00af00; text-decoration-color: #00af00\">0</span>][<span style=\"color: #00af00; text-decoration-color: #00af00\">0</span>]           \n",
              "├───────────────────────────────────┼──────────────────────────────┼───────────────────┼───────────────────────────\n",
              "│ embedding_1 (<span style=\"color: #0087ff; text-decoration-color: #0087ff\">Embedding</span>)           │ (<span style=\"color: #00d7ff; text-decoration-color: #00d7ff\">None</span>, <span style=\"color: #00af00; text-decoration-color: #00af00\">1</span>, <span style=\"color: #00af00; text-decoration-color: #00af00\">8</span>)                 │             <span style=\"color: #00af00; text-decoration-color: #00af00\">8,192</span> │ grade_hash[<span style=\"color: #00af00; text-decoration-color: #00af00\">0</span>][<span style=\"color: #00af00; text-decoration-color: #00af00\">0</span>]          \n",
              "├───────────────────────────────────┼──────────────────────────────┼───────────────────┼───────────────────────────\n",
              "│ embedding_2 (<span style=\"color: #0087ff; text-decoration-color: #0087ff\">Embedding</span>)           │ (<span style=\"color: #00d7ff; text-decoration-color: #00d7ff\">None</span>, <span style=\"color: #00af00; text-decoration-color: #00af00\">1</span>, <span style=\"color: #00af00; text-decoration-color: #00af00\">8</span>)                 │             <span style=\"color: #00af00; text-decoration-color: #00af00\">8,192</span> │ sub_grade_hash[<span style=\"color: #00af00; text-decoration-color: #00af00\">0</span>][<span style=\"color: #00af00; text-decoration-color: #00af00\">0</span>]      \n",
              "├───────────────────────────────────┼──────────────────────────────┼───────────────────┼───────────────────────────\n",
              "│ embedding_3 (<span style=\"color: #0087ff; text-decoration-color: #0087ff\">Embedding</span>)           │ (<span style=\"color: #00d7ff; text-decoration-color: #00d7ff\">None</span>, <span style=\"color: #00af00; text-decoration-color: #00af00\">1</span>, <span style=\"color: #00af00; text-decoration-color: #00af00\">8</span>)                 │             <span style=\"color: #00af00; text-decoration-color: #00af00\">8,192</span> │ emp_title_hash[<span style=\"color: #00af00; text-decoration-color: #00af00\">0</span>][<span style=\"color: #00af00; text-decoration-color: #00af00\">0</span>]      \n",
              "├───────────────────────────────────┼──────────────────────────────┼───────────────────┼───────────────────────────\n",
              "│ embedding_4 (<span style=\"color: #0087ff; text-decoration-color: #0087ff\">Embedding</span>)           │ (<span style=\"color: #00d7ff; text-decoration-color: #00d7ff\">None</span>, <span style=\"color: #00af00; text-decoration-color: #00af00\">1</span>, <span style=\"color: #00af00; text-decoration-color: #00af00\">8</span>)                 │             <span style=\"color: #00af00; text-decoration-color: #00af00\">8,192</span> │ emp_length_hash[<span style=\"color: #00af00; text-decoration-color: #00af00\">0</span>][<span style=\"color: #00af00; text-decoration-color: #00af00\">0</span>]     \n",
              "├───────────────────────────────────┼──────────────────────────────┼───────────────────┼───────────────────────────\n",
              "│ embedding_5 (<span style=\"color: #0087ff; text-decoration-color: #0087ff\">Embedding</span>)           │ (<span style=\"color: #00d7ff; text-decoration-color: #00d7ff\">None</span>, <span style=\"color: #00af00; text-decoration-color: #00af00\">1</span>, <span style=\"color: #00af00; text-decoration-color: #00af00\">8</span>)                 │             <span style=\"color: #00af00; text-decoration-color: #00af00\">8,192</span> │ home_ownership_hash[<span style=\"color: #00af00; text-decoration-color: #00af00\">0</span>][<span style=\"color: #00af00; text-decoration-color: #00af00\">0</span>] \n",
              "├───────────────────────────────────┼──────────────────────────────┼───────────────────┼───────────────────────────\n",
              "│ embedding_6 (<span style=\"color: #0087ff; text-decoration-color: #0087ff\">Embedding</span>)           │ (<span style=\"color: #00d7ff; text-decoration-color: #00d7ff\">None</span>, <span style=\"color: #00af00; text-decoration-color: #00af00\">1</span>, <span style=\"color: #00af00; text-decoration-color: #00af00\">8</span>)                 │             <span style=\"color: #00af00; text-decoration-color: #00af00\">8,192</span> │ verification_status_hash[<span style=\"color: #00af00; text-decoration-color: #00af00\">0</span>\n",
              "├───────────────────────────────────┼──────────────────────────────┼───────────────────┼───────────────────────────\n",
              "│ embedding_7 (<span style=\"color: #0087ff; text-decoration-color: #0087ff\">Embedding</span>)           │ (<span style=\"color: #00d7ff; text-decoration-color: #00d7ff\">None</span>, <span style=\"color: #00af00; text-decoration-color: #00af00\">1</span>, <span style=\"color: #00af00; text-decoration-color: #00af00\">8</span>)                 │             <span style=\"color: #00af00; text-decoration-color: #00af00\">8,192</span> │ pymnt_plan_hash[<span style=\"color: #00af00; text-decoration-color: #00af00\">0</span>][<span style=\"color: #00af00; text-decoration-color: #00af00\">0</span>]     \n",
              "├───────────────────────────────────┼──────────────────────────────┼───────────────────┼───────────────────────────\n",
              "│ embedding_8 (<span style=\"color: #0087ff; text-decoration-color: #0087ff\">Embedding</span>)           │ (<span style=\"color: #00d7ff; text-decoration-color: #00d7ff\">None</span>, <span style=\"color: #00af00; text-decoration-color: #00af00\">1</span>, <span style=\"color: #00af00; text-decoration-color: #00af00\">8</span>)                 │             <span style=\"color: #00af00; text-decoration-color: #00af00\">8,192</span> │ purpose_hash[<span style=\"color: #00af00; text-decoration-color: #00af00\">0</span>][<span style=\"color: #00af00; text-decoration-color: #00af00\">0</span>]        \n",
              "├───────────────────────────────────┼──────────────────────────────┼───────────────────┼───────────────────────────\n",
              "│ embedding_9 (<span style=\"color: #0087ff; text-decoration-color: #0087ff\">Embedding</span>)           │ (<span style=\"color: #00d7ff; text-decoration-color: #00d7ff\">None</span>, <span style=\"color: #00af00; text-decoration-color: #00af00\">1</span>, <span style=\"color: #00af00; text-decoration-color: #00af00\">8</span>)                 │             <span style=\"color: #00af00; text-decoration-color: #00af00\">8,192</span> │ title_hash[<span style=\"color: #00af00; text-decoration-color: #00af00\">0</span>][<span style=\"color: #00af00; text-decoration-color: #00af00\">0</span>]          \n",
              "├───────────────────────────────────┼──────────────────────────────┼───────────────────┼───────────────────────────\n",
              "│ embedding_10 (<span style=\"color: #0087ff; text-decoration-color: #0087ff\">Embedding</span>)          │ (<span style=\"color: #00d7ff; text-decoration-color: #00d7ff\">None</span>, <span style=\"color: #00af00; text-decoration-color: #00af00\">1</span>, <span style=\"color: #00af00; text-decoration-color: #00af00\">8</span>)                 │             <span style=\"color: #00af00; text-decoration-color: #00af00\">8,192</span> │ zip_code_hash[<span style=\"color: #00af00; text-decoration-color: #00af00\">0</span>][<span style=\"color: #00af00; text-decoration-color: #00af00\">0</span>]       \n",
              "├───────────────────────────────────┼──────────────────────────────┼───────────────────┼───────────────────────────\n",
              "│ embedding_11 (<span style=\"color: #0087ff; text-decoration-color: #0087ff\">Embedding</span>)          │ (<span style=\"color: #00d7ff; text-decoration-color: #00d7ff\">None</span>, <span style=\"color: #00af00; text-decoration-color: #00af00\">1</span>, <span style=\"color: #00af00; text-decoration-color: #00af00\">8</span>)                 │             <span style=\"color: #00af00; text-decoration-color: #00af00\">8,192</span> │ addr_state_hash[<span style=\"color: #00af00; text-decoration-color: #00af00\">0</span>][<span style=\"color: #00af00; text-decoration-color: #00af00\">0</span>]     \n",
              "├───────────────────────────────────┼──────────────────────────────┼───────────────────┼───────────────────────────\n",
              "│ embedding_12 (<span style=\"color: #0087ff; text-decoration-color: #0087ff\">Embedding</span>)          │ (<span style=\"color: #00d7ff; text-decoration-color: #00d7ff\">None</span>, <span style=\"color: #00af00; text-decoration-color: #00af00\">1</span>, <span style=\"color: #00af00; text-decoration-color: #00af00\">8</span>)                 │             <span style=\"color: #00af00; text-decoration-color: #00af00\">8,192</span> │ earliest_cr_line_hash[<span style=\"color: #00af00; text-decoration-color: #00af00\">0</span>][<span style=\"color: #00af00; text-decoration-color: #00af00\">0</span>\n",
              "├───────────────────────────────────┼──────────────────────────────┼───────────────────┼───────────────────────────\n",
              "│ embedding_13 (<span style=\"color: #0087ff; text-decoration-color: #0087ff\">Embedding</span>)          │ (<span style=\"color: #00d7ff; text-decoration-color: #00d7ff\">None</span>, <span style=\"color: #00af00; text-decoration-color: #00af00\">1</span>, <span style=\"color: #00af00; text-decoration-color: #00af00\">8</span>)                 │             <span style=\"color: #00af00; text-decoration-color: #00af00\">8,192</span> │ initial_list_status_hash[<span style=\"color: #00af00; text-decoration-color: #00af00\">0</span>\n",
              "├───────────────────────────────────┼──────────────────────────────┼───────────────────┼───────────────────────────\n",
              "│ embedding_14 (<span style=\"color: #0087ff; text-decoration-color: #0087ff\">Embedding</span>)          │ (<span style=\"color: #00d7ff; text-decoration-color: #00d7ff\">None</span>, <span style=\"color: #00af00; text-decoration-color: #00af00\">1</span>, <span style=\"color: #00af00; text-decoration-color: #00af00\">8</span>)                 │             <span style=\"color: #00af00; text-decoration-color: #00af00\">8,192</span> │ application_type_hash[<span style=\"color: #00af00; text-decoration-color: #00af00\">0</span>][<span style=\"color: #00af00; text-decoration-color: #00af00\">0</span>\n",
              "├───────────────────────────────────┼──────────────────────────────┼───────────────────┼───────────────────────────\n",
              "│ normalization (<span style=\"color: #0087ff; text-decoration-color: #0087ff\">Normalization</span>)     │ (<span style=\"color: #00d7ff; text-decoration-color: #00d7ff\">None</span>, <span style=\"color: #00af00; text-decoration-color: #00af00\">17</span>)                   │                <span style=\"color: #00af00; text-decoration-color: #00af00\">35</span> │ concatenate[<span style=\"color: #00af00; text-decoration-color: #00af00\">0</span>][<span style=\"color: #00af00; text-decoration-color: #00af00\">0</span>]         \n",
              "├───────────────────────────────────┼──────────────────────────────┼───────────────────┼───────────────────────────\n",
              "│ flatten (<span style=\"color: #0087ff; text-decoration-color: #0087ff\">Flatten</span>)                 │ (<span style=\"color: #00d7ff; text-decoration-color: #00d7ff\">None</span>, <span style=\"color: #00af00; text-decoration-color: #00af00\">8</span>)                    │                 <span style=\"color: #00af00; text-decoration-color: #00af00\">0</span> │ embedding[<span style=\"color: #00af00; text-decoration-color: #00af00\">0</span>][<span style=\"color: #00af00; text-decoration-color: #00af00\">0</span>]           \n",
              "├───────────────────────────────────┼──────────────────────────────┼───────────────────┼───────────────────────────\n",
              "│ flatten_1 (<span style=\"color: #0087ff; text-decoration-color: #0087ff\">Flatten</span>)               │ (<span style=\"color: #00d7ff; text-decoration-color: #00d7ff\">None</span>, <span style=\"color: #00af00; text-decoration-color: #00af00\">8</span>)                    │                 <span style=\"color: #00af00; text-decoration-color: #00af00\">0</span> │ embedding_1[<span style=\"color: #00af00; text-decoration-color: #00af00\">0</span>][<span style=\"color: #00af00; text-decoration-color: #00af00\">0</span>]         \n",
              "├───────────────────────────────────┼──────────────────────────────┼───────────────────┼───────────────────────────\n",
              "│ flatten_2 (<span style=\"color: #0087ff; text-decoration-color: #0087ff\">Flatten</span>)               │ (<span style=\"color: #00d7ff; text-decoration-color: #00d7ff\">None</span>, <span style=\"color: #00af00; text-decoration-color: #00af00\">8</span>)                    │                 <span style=\"color: #00af00; text-decoration-color: #00af00\">0</span> │ embedding_2[<span style=\"color: #00af00; text-decoration-color: #00af00\">0</span>][<span style=\"color: #00af00; text-decoration-color: #00af00\">0</span>]         \n",
              "├───────────────────────────────────┼──────────────────────────────┼───────────────────┼───────────────────────────\n",
              "│ flatten_3 (<span style=\"color: #0087ff; text-decoration-color: #0087ff\">Flatten</span>)               │ (<span style=\"color: #00d7ff; text-decoration-color: #00d7ff\">None</span>, <span style=\"color: #00af00; text-decoration-color: #00af00\">8</span>)                    │                 <span style=\"color: #00af00; text-decoration-color: #00af00\">0</span> │ embedding_3[<span style=\"color: #00af00; text-decoration-color: #00af00\">0</span>][<span style=\"color: #00af00; text-decoration-color: #00af00\">0</span>]         \n",
              "├───────────────────────────────────┼──────────────────────────────┼───────────────────┼───────────────────────────\n",
              "│ flatten_4 (<span style=\"color: #0087ff; text-decoration-color: #0087ff\">Flatten</span>)               │ (<span style=\"color: #00d7ff; text-decoration-color: #00d7ff\">None</span>, <span style=\"color: #00af00; text-decoration-color: #00af00\">8</span>)                    │                 <span style=\"color: #00af00; text-decoration-color: #00af00\">0</span> │ embedding_4[<span style=\"color: #00af00; text-decoration-color: #00af00\">0</span>][<span style=\"color: #00af00; text-decoration-color: #00af00\">0</span>]         \n",
              "├───────────────────────────────────┼──────────────────────────────┼───────────────────┼───────────────────────────\n",
              "│ flatten_5 (<span style=\"color: #0087ff; text-decoration-color: #0087ff\">Flatten</span>)               │ (<span style=\"color: #00d7ff; text-decoration-color: #00d7ff\">None</span>, <span style=\"color: #00af00; text-decoration-color: #00af00\">8</span>)                    │                 <span style=\"color: #00af00; text-decoration-color: #00af00\">0</span> │ embedding_5[<span style=\"color: #00af00; text-decoration-color: #00af00\">0</span>][<span style=\"color: #00af00; text-decoration-color: #00af00\">0</span>]         \n",
              "├───────────────────────────────────┼──────────────────────────────┼───────────────────┼───────────────────────────\n",
              "│ flatten_6 (<span style=\"color: #0087ff; text-decoration-color: #0087ff\">Flatten</span>)               │ (<span style=\"color: #00d7ff; text-decoration-color: #00d7ff\">None</span>, <span style=\"color: #00af00; text-decoration-color: #00af00\">8</span>)                    │                 <span style=\"color: #00af00; text-decoration-color: #00af00\">0</span> │ embedding_6[<span style=\"color: #00af00; text-decoration-color: #00af00\">0</span>][<span style=\"color: #00af00; text-decoration-color: #00af00\">0</span>]         \n",
              "├───────────────────────────────────┼──────────────────────────────┼───────────────────┼───────────────────────────\n",
              "│ flatten_7 (<span style=\"color: #0087ff; text-decoration-color: #0087ff\">Flatten</span>)               │ (<span style=\"color: #00d7ff; text-decoration-color: #00d7ff\">None</span>, <span style=\"color: #00af00; text-decoration-color: #00af00\">8</span>)                    │                 <span style=\"color: #00af00; text-decoration-color: #00af00\">0</span> │ embedding_7[<span style=\"color: #00af00; text-decoration-color: #00af00\">0</span>][<span style=\"color: #00af00; text-decoration-color: #00af00\">0</span>]         \n",
              "├───────────────────────────────────┼──────────────────────────────┼───────────────────┼───────────────────────────\n",
              "│ flatten_8 (<span style=\"color: #0087ff; text-decoration-color: #0087ff\">Flatten</span>)               │ (<span style=\"color: #00d7ff; text-decoration-color: #00d7ff\">None</span>, <span style=\"color: #00af00; text-decoration-color: #00af00\">8</span>)                    │                 <span style=\"color: #00af00; text-decoration-color: #00af00\">0</span> │ embedding_8[<span style=\"color: #00af00; text-decoration-color: #00af00\">0</span>][<span style=\"color: #00af00; text-decoration-color: #00af00\">0</span>]         \n",
              "├───────────────────────────────────┼──────────────────────────────┼───────────────────┼───────────────────────────\n",
              "│ flatten_9 (<span style=\"color: #0087ff; text-decoration-color: #0087ff\">Flatten</span>)               │ (<span style=\"color: #00d7ff; text-decoration-color: #00d7ff\">None</span>, <span style=\"color: #00af00; text-decoration-color: #00af00\">8</span>)                    │                 <span style=\"color: #00af00; text-decoration-color: #00af00\">0</span> │ embedding_9[<span style=\"color: #00af00; text-decoration-color: #00af00\">0</span>][<span style=\"color: #00af00; text-decoration-color: #00af00\">0</span>]         \n",
              "├───────────────────────────────────┼──────────────────────────────┼───────────────────┼───────────────────────────\n",
              "│ flatten_10 (<span style=\"color: #0087ff; text-decoration-color: #0087ff\">Flatten</span>)              │ (<span style=\"color: #00d7ff; text-decoration-color: #00d7ff\">None</span>, <span style=\"color: #00af00; text-decoration-color: #00af00\">8</span>)                    │                 <span style=\"color: #00af00; text-decoration-color: #00af00\">0</span> │ embedding_10[<span style=\"color: #00af00; text-decoration-color: #00af00\">0</span>][<span style=\"color: #00af00; text-decoration-color: #00af00\">0</span>]        \n",
              "├───────────────────────────────────┼──────────────────────────────┼───────────────────┼───────────────────────────\n",
              "│ flatten_11 (<span style=\"color: #0087ff; text-decoration-color: #0087ff\">Flatten</span>)              │ (<span style=\"color: #00d7ff; text-decoration-color: #00d7ff\">None</span>, <span style=\"color: #00af00; text-decoration-color: #00af00\">8</span>)                    │                 <span style=\"color: #00af00; text-decoration-color: #00af00\">0</span> │ embedding_11[<span style=\"color: #00af00; text-decoration-color: #00af00\">0</span>][<span style=\"color: #00af00; text-decoration-color: #00af00\">0</span>]        \n",
              "├───────────────────────────────────┼──────────────────────────────┼───────────────────┼───────────────────────────\n",
              "│ flatten_12 (<span style=\"color: #0087ff; text-decoration-color: #0087ff\">Flatten</span>)              │ (<span style=\"color: #00d7ff; text-decoration-color: #00d7ff\">None</span>, <span style=\"color: #00af00; text-decoration-color: #00af00\">8</span>)                    │                 <span style=\"color: #00af00; text-decoration-color: #00af00\">0</span> │ embedding_12[<span style=\"color: #00af00; text-decoration-color: #00af00\">0</span>][<span style=\"color: #00af00; text-decoration-color: #00af00\">0</span>]        \n",
              "├───────────────────────────────────┼──────────────────────────────┼───────────────────┼───────────────────────────\n",
              "│ flatten_13 (<span style=\"color: #0087ff; text-decoration-color: #0087ff\">Flatten</span>)              │ (<span style=\"color: #00d7ff; text-decoration-color: #00d7ff\">None</span>, <span style=\"color: #00af00; text-decoration-color: #00af00\">8</span>)                    │                 <span style=\"color: #00af00; text-decoration-color: #00af00\">0</span> │ embedding_13[<span style=\"color: #00af00; text-decoration-color: #00af00\">0</span>][<span style=\"color: #00af00; text-decoration-color: #00af00\">0</span>]        \n",
              "├───────────────────────────────────┼──────────────────────────────┼───────────────────┼───────────────────────────\n",
              "│ flatten_14 (<span style=\"color: #0087ff; text-decoration-color: #0087ff\">Flatten</span>)              │ (<span style=\"color: #00d7ff; text-decoration-color: #00d7ff\">None</span>, <span style=\"color: #00af00; text-decoration-color: #00af00\">8</span>)                    │                 <span style=\"color: #00af00; text-decoration-color: #00af00\">0</span> │ embedding_14[<span style=\"color: #00af00; text-decoration-color: #00af00\">0</span>][<span style=\"color: #00af00; text-decoration-color: #00af00\">0</span>]        \n",
              "├───────────────────────────────────┼──────────────────────────────┼───────────────────┼───────────────────────────\n",
              "│ concatenate_1 (<span style=\"color: #0087ff; text-decoration-color: #0087ff\">Concatenate</span>)       │ (<span style=\"color: #00d7ff; text-decoration-color: #00d7ff\">None</span>, <span style=\"color: #00af00; text-decoration-color: #00af00\">137</span>)                  │                 <span style=\"color: #00af00; text-decoration-color: #00af00\">0</span> │ normalization[<span style=\"color: #00af00; text-decoration-color: #00af00\">0</span>][<span style=\"color: #00af00; text-decoration-color: #00af00\">0</span>],      \n",
              "│                                   │                              │                   │ flatten[<span style=\"color: #00af00; text-decoration-color: #00af00\">0</span>][<span style=\"color: #00af00; text-decoration-color: #00af00\">0</span>],            \n",
              "│                                   │                              │                   │ flatten_1[<span style=\"color: #00af00; text-decoration-color: #00af00\">0</span>][<span style=\"color: #00af00; text-decoration-color: #00af00\">0</span>],          \n",
              "│                                   │                              │                   │ flatten_2[<span style=\"color: #00af00; text-decoration-color: #00af00\">0</span>][<span style=\"color: #00af00; text-decoration-color: #00af00\">0</span>],          \n",
              "│                                   │                              │                   │ flatten_3[<span style=\"color: #00af00; text-decoration-color: #00af00\">0</span>][<span style=\"color: #00af00; text-decoration-color: #00af00\">0</span>],          \n",
              "│                                   │                              │                   │ flatten_4[<span style=\"color: #00af00; text-decoration-color: #00af00\">0</span>][<span style=\"color: #00af00; text-decoration-color: #00af00\">0</span>],          \n",
              "│                                   │                              │                   │ flatten_5[<span style=\"color: #00af00; text-decoration-color: #00af00\">0</span>][<span style=\"color: #00af00; text-decoration-color: #00af00\">0</span>],          \n",
              "│                                   │                              │                   │ flatten_6[<span style=\"color: #00af00; text-decoration-color: #00af00\">0</span>][<span style=\"color: #00af00; text-decoration-color: #00af00\">0</span>],          \n",
              "│                                   │                              │                   │ flatten_7[<span style=\"color: #00af00; text-decoration-color: #00af00\">0</span>][<span style=\"color: #00af00; text-decoration-color: #00af00\">0</span>],          \n",
              "│                                   │                              │                   │ flatten_8[<span style=\"color: #00af00; text-decoration-color: #00af00\">0</span>][<span style=\"color: #00af00; text-decoration-color: #00af00\">0</span>],          \n",
              "│                                   │                              │                   │ flatten_9[<span style=\"color: #00af00; text-decoration-color: #00af00\">0</span>][<span style=\"color: #00af00; text-decoration-color: #00af00\">0</span>],          \n",
              "│                                   │                              │                   │ flatten_10[<span style=\"color: #00af00; text-decoration-color: #00af00\">0</span>][<span style=\"color: #00af00; text-decoration-color: #00af00\">0</span>],         \n",
              "│                                   │                              │                   │ flatten_11[<span style=\"color: #00af00; text-decoration-color: #00af00\">0</span>][<span style=\"color: #00af00; text-decoration-color: #00af00\">0</span>],         \n",
              "│                                   │                              │                   │ flatten_12[<span style=\"color: #00af00; text-decoration-color: #00af00\">0</span>][<span style=\"color: #00af00; text-decoration-color: #00af00\">0</span>],         \n",
              "│                                   │                              │                   │ flatten_13[<span style=\"color: #00af00; text-decoration-color: #00af00\">0</span>][<span style=\"color: #00af00; text-decoration-color: #00af00\">0</span>],         \n",
              "│                                   │                              │                   │ flatten_14[<span style=\"color: #00af00; text-decoration-color: #00af00\">0</span>][<span style=\"color: #00af00; text-decoration-color: #00af00\">0</span>]          \n",
              "├───────────────────────────────────┼──────────────────────────────┼───────────────────┼───────────────────────────\n",
              "│ dense (<span style=\"color: #0087ff; text-decoration-color: #0087ff\">Dense</span>)                     │ (<span style=\"color: #00d7ff; text-decoration-color: #00d7ff\">None</span>, <span style=\"color: #00af00; text-decoration-color: #00af00\">64</span>)                   │             <span style=\"color: #00af00; text-decoration-color: #00af00\">8,832</span> │ concatenate_1[<span style=\"color: #00af00; text-decoration-color: #00af00\">0</span>][<span style=\"color: #00af00; text-decoration-color: #00af00\">0</span>]       \n",
              "├───────────────────────────────────┼──────────────────────────────┼───────────────────┼───────────────────────────\n",
              "│ batch_normalization               │ (<span style=\"color: #00d7ff; text-decoration-color: #00d7ff\">None</span>, <span style=\"color: #00af00; text-decoration-color: #00af00\">64</span>)                   │               <span style=\"color: #00af00; text-decoration-color: #00af00\">256</span> │ dense[<span style=\"color: #00af00; text-decoration-color: #00af00\">0</span>][<span style=\"color: #00af00; text-decoration-color: #00af00\">0</span>]               \n",
              "│ (<span style=\"color: #0087ff; text-decoration-color: #0087ff\">BatchNormalization</span>)              │                              │                   │                           \n",
              "├───────────────────────────────────┼──────────────────────────────┼───────────────────┼───────────────────────────\n",
              "│ dropout (<span style=\"color: #0087ff; text-decoration-color: #0087ff\">Dropout</span>)                 │ (<span style=\"color: #00d7ff; text-decoration-color: #00d7ff\">None</span>, <span style=\"color: #00af00; text-decoration-color: #00af00\">64</span>)                   │                 <span style=\"color: #00af00; text-decoration-color: #00af00\">0</span> │ batch_normalization[<span style=\"color: #00af00; text-decoration-color: #00af00\">0</span>][<span style=\"color: #00af00; text-decoration-color: #00af00\">0</span>] \n",
              "├───────────────────────────────────┼──────────────────────────────┼───────────────────┼───────────────────────────\n",
              "│ dense_1 (<span style=\"color: #0087ff; text-decoration-color: #0087ff\">Dense</span>)                   │ (<span style=\"color: #00d7ff; text-decoration-color: #00d7ff\">None</span>, <span style=\"color: #00af00; text-decoration-color: #00af00\">32</span>)                   │             <span style=\"color: #00af00; text-decoration-color: #00af00\">2,080</span> │ dropout[<span style=\"color: #00af00; text-decoration-color: #00af00\">0</span>][<span style=\"color: #00af00; text-decoration-color: #00af00\">0</span>]             \n",
              "├───────────────────────────────────┼──────────────────────────────┼───────────────────┼───────────────────────────\n",
              "│ batch_normalization_1             │ (<span style=\"color: #00d7ff; text-decoration-color: #00d7ff\">None</span>, <span style=\"color: #00af00; text-decoration-color: #00af00\">32</span>)                   │               <span style=\"color: #00af00; text-decoration-color: #00af00\">128</span> │ dense_1[<span style=\"color: #00af00; text-decoration-color: #00af00\">0</span>][<span style=\"color: #00af00; text-decoration-color: #00af00\">0</span>]             \n",
              "│ (<span style=\"color: #0087ff; text-decoration-color: #0087ff\">BatchNormalization</span>)              │                              │                   │                           \n",
              "├───────────────────────────────────┼──────────────────────────────┼───────────────────┼───────────────────────────\n",
              "│ dropout_1 (<span style=\"color: #0087ff; text-decoration-color: #0087ff\">Dropout</span>)               │ (<span style=\"color: #00d7ff; text-decoration-color: #00d7ff\">None</span>, <span style=\"color: #00af00; text-decoration-color: #00af00\">32</span>)                   │                 <span style=\"color: #00af00; text-decoration-color: #00af00\">0</span> │ batch_normalization_1[<span style=\"color: #00af00; text-decoration-color: #00af00\">0</span>][<span style=\"color: #00af00; text-decoration-color: #00af00\">0</span>\n",
              "├───────────────────────────────────┼──────────────────────────────┼───────────────────┼───────────────────────────\n",
              "│ default_prob (<span style=\"color: #0087ff; text-decoration-color: #0087ff\">Dense</span>)              │ (<span style=\"color: #00d7ff; text-decoration-color: #00d7ff\">None</span>, <span style=\"color: #00af00; text-decoration-color: #00af00\">1</span>)                    │                <span style=\"color: #00af00; text-decoration-color: #00af00\">33</span> │ dropout_1[<span style=\"color: #00af00; text-decoration-color: #00af00\">0</span>][<span style=\"color: #00af00; text-decoration-color: #00af00\">0</span>]           \n",
              "└───────────────────────────────────┴──────────────────────────────┴───────────────────┴───────────────────────────\n",
              "</pre>\n"
            ]
          },
          "metadata": {}
        },
        {
          "output_type": "display_data",
          "data": {
            "text/plain": [
              "\u001b[1m Total params: \u001b[0m\u001b[38;5;34m134,244\u001b[0m (524.39 KB)\n"
            ],
            "text/html": [
              "<pre style=\"white-space:pre;overflow-x:auto;line-height:normal;font-family:Menlo,'DejaVu Sans Mono',consolas,'Courier New',monospace\"><span style=\"font-weight: bold\"> Total params: </span><span style=\"color: #00af00; text-decoration-color: #00af00\">134,244</span> (524.39 KB)\n",
              "</pre>\n"
            ]
          },
          "metadata": {}
        },
        {
          "output_type": "display_data",
          "data": {
            "text/plain": [
              "\u001b[1m Trainable params: \u001b[0m\u001b[38;5;34m134,017\u001b[0m (523.50 KB)\n"
            ],
            "text/html": [
              "<pre style=\"white-space:pre;overflow-x:auto;line-height:normal;font-family:Menlo,'DejaVu Sans Mono',consolas,'Courier New',monospace\"><span style=\"font-weight: bold\"> Trainable params: </span><span style=\"color: #00af00; text-decoration-color: #00af00\">134,017</span> (523.50 KB)\n",
              "</pre>\n"
            ]
          },
          "metadata": {}
        },
        {
          "output_type": "display_data",
          "data": {
            "text/plain": [
              "\u001b[1m Non-trainable params: \u001b[0m\u001b[38;5;34m227\u001b[0m (912.00 B)\n"
            ],
            "text/html": [
              "<pre style=\"white-space:pre;overflow-x:auto;line-height:normal;font-family:Menlo,'DejaVu Sans Mono',consolas,'Courier New',monospace\"><span style=\"font-weight: bold\"> Non-trainable params: </span><span style=\"color: #00af00; text-decoration-color: #00af00\">227</span> (912.00 B)\n",
              "</pre>\n"
            ]
          },
          "metadata": {}
        }
      ]
    },
    {
      "cell_type": "markdown",
      "source": [
        "The summary shows “mlp_simple” with about 134K parameters: two dense layers (64 -> 32 units) each followed by batch-norm and 30% dropout, and a final sigmoid output. This compact MLP sits on top of our normalized numeric inputs and embedded categories, ready for training to predict the default probability."
      ],
      "metadata": {
        "id": "tBSCnrr_DcR_"
      }
    },
    {
      "cell_type": "markdown",
      "source": [
        "___\n",
        "12. ### Build tf.data Pipelines & Train MLP with Class Weights  \n",
        "This cell turns our Pandas splits into fast `tf.data.Dataset`s, computes class weights to balance the rare default class, and then trains the MLP for up to 3 epochs with early stopping on validation AUC.\n"
      ],
      "metadata": {
        "id": "4T0akidBD8kW"
      }
    },
    {
      "cell_type": "code",
      "source": [
        "# Clear any previous sessions\n",
        "tf.keras.backend.clear_session()\n",
        "\n",
        "# Define how many examples per batch\n",
        "BATCH_SIZE = 512\n",
        "\n",
        "# Helper to convert a DataFrame to a tf.data.Dataset\n",
        "def df_to_dataset(df, shuffle=False, batch_size=BATCH_SIZE):\n",
        "    df = df.copy()\n",
        "    labels = df.pop(LABEL_COL).astype('float32')\n",
        "    ds = tf.data.Dataset.from_tensor_slices((dict(df), labels))\n",
        "    if shuffle:\n",
        "        ds = ds.shuffle(buffer_size=len(df), seed=42)\n",
        "    return ds.batch(batch_size).prefetch(tf.data.AUTOTUNE)\n",
        "\n",
        "# Create training and validation datasets\n",
        "train_ds = df_to_dataset(train_df, shuffle=True)\n",
        "val_ds   = df_to_dataset(val_df)\n",
        "\n",
        "# Compute class weights to give more emphasis to the minority class\n",
        "neg, pos = np.bincount(train_df[LABEL_COL])\n",
        "total    = neg + pos\n",
        "class_weight = {\n",
        "    0: total/(2*neg),\n",
        "    1: total/(2*pos)\n",
        "}\n",
        "print(\"Class weights:\", class_weight)\n",
        "\n",
        "# Train the MLP, stopping early if val_auc doesn’t improve for 2 epochs\n",
        "history = model.fit(\n",
        "    train_ds,\n",
        "    validation_data=val_ds,\n",
        "    epochs=3,\n",
        "    class_weight=class_weight,\n",
        "    callbacks=[\n",
        "        callbacks.EarlyStopping(\n",
        "            monitor='val_auc', patience=2, mode='max',\n",
        "            restore_best_weights=True\n",
        "        )\n",
        "    ],\n",
        "    verbose=1\n",
        ")\n",
        "\n",
        "# Print the best validation AUC achieved\n",
        "best_val_auc = max(history.history['val_auc'])\n",
        "print(f\"Best val AUC: {best_val_auc:.3f}\")\n"
      ],
      "metadata": {
        "colab": {
          "base_uri": "https://localhost:8080/"
        },
        "id": "nO7svLONqxX-",
        "outputId": "aab452fc-2d9e-4ab3-f932-df6672cac38e"
      },
      "execution_count": null,
      "outputs": [
        {
          "output_type": "stream",
          "name": "stdout",
          "text": [
            "Class weights: {0: np.float64(0.5287010876183047), 1: np.float64(9.210471300765517)}\n",
            "Epoch 1/3\n",
            "\u001b[1m1171/1171\u001b[0m \u001b[32m━━━━━━━━━━━━━━━━━━━━\u001b[0m\u001b[37m\u001b[0m \u001b[1m47s\u001b[0m 25ms/step - auc: 0.7041 - loss: 0.6501 - prec: 0.0944 - rec: 0.7054 - val_auc: 0.7835 - val_loss: 0.5714 - val_prec: 0.1162 - val_rec: 0.7542\n",
            "Epoch 2/3\n",
            "\u001b[1m1171/1171\u001b[0m \u001b[32m━━━━━━━━━━━━━━━━━━━━\u001b[0m\u001b[37m\u001b[0m \u001b[1m41s\u001b[0m 27ms/step - auc: 0.7821 - loss: 0.5602 - prec: 0.1168 - rec: 0.7481 - val_auc: 0.7994 - val_loss: 0.5895 - val_prec: 0.1144 - val_rec: 0.8113\n",
            "Epoch 3/3\n",
            "\u001b[1m1171/1171\u001b[0m \u001b[32m━━━━━━━━━━━━━━━━━━━━\u001b[0m\u001b[37m\u001b[0m \u001b[1m46s\u001b[0m 31ms/step - auc: 0.7993 - loss: 0.5402 - prec: 0.1212 - rec: 0.7875 - val_auc: 0.8018 - val_loss: 0.5771 - val_prec: 0.1134 - val_rec: 0.8142\n",
            "Best val AUC: 0.802\n"
          ]
        }
      ]
    },
    {
      "cell_type": "markdown",
      "source": [
        "First, we stream the data in batches (shuffling only the training set) and compute class weights so that the rare default cases (~5 %) count more in the loss. We then train the MLP for 3 epochs: the training AUC climbs to about 0.80 and the validation AUC peaks at roughly 0.803 by the third epoch. Because the validation AUC improved each time and we capped training at 3 epochs, early stopping never actually triggered. Overall, this shows our weighted MLP learns to rank defaults much better than random chance."
      ],
      "metadata": {
        "id": "ATgwfMkMFhYD"
      }
    },
    {
      "cell_type": "markdown",
      "source": [
        "___\n",
        "13. ### Evaluate MLP on Test Set: Metrics, ROC Curve & Confusion Matrix  \n",
        "This cell computes overall test metrics (loss, AUC, precision, recall), plots the ROC curve to check ranking performance, and displays the confusion matrix at a 0.5 cutoff to see how many defaults are caught or missed.\n"
      ],
      "metadata": {
        "id": "FFK8blvjF8nY"
      }
    },
    {
      "cell_type": "code",
      "source": [
        "# Build a test dataset (no shuffling) and evaluate overall metrics\n",
        "test_ds = df_to_dataset(test_df, shuffle=False)\n",
        "test_metrics = model.evaluate(test_ds, verbose=0)\n",
        "print(\"Test metrics:\", dict(zip(model.metrics_names, np.round(test_metrics, 3))))\n",
        "\n",
        "# Collect true labels and predicted probabilities for detailed analysis\n",
        "y_true = np.concatenate([y.numpy() for _, y in test_ds])\n",
        "y_pred = np.concatenate([model.predict(x, verbose=0) for x, _ in test_ds]).ravel()\n",
        "\n",
        "# Plot the ROC curve and compute its AUC\n",
        "fpr, tpr, _ = roc_curve(y_true, y_pred)\n",
        "roc_auc     = auc(fpr, tpr)\n",
        "plt.figure(figsize=(5,5))\n",
        "plt.plot(fpr, tpr, label=f\"ROC AUC = {roc_auc:.3f}\")\n",
        "plt.plot([0,1], [0,1], \"k--\", linewidth=1)\n",
        "plt.xlabel(\"False Positive Rate\")\n",
        "plt.ylabel(\"True Positive Rate\")\n",
        "plt.title(\"MLP Test ROC Curve\")\n",
        "plt.legend(loc=\"lower right\")\n",
        "plt.grid(True)\n",
        "plt.tight_layout()\n",
        "plt.show()\n",
        "\n",
        "# Build and show the confusion matrix at a 0.5 threshold\n",
        "y_pred_lbl = (y_pred >= 0.5).astype(int)\n",
        "cm = confusion_matrix(y_true, y_pred_lbl)\n",
        "disp = ConfusionMatrixDisplay(cm,\n",
        "                              display_labels=[\"Non-default\",\"Default\"])\n",
        "plt.figure(figsize=(5,5))\n",
        "disp.plot(cmap=\"Blues\", values_format=\"d\", ax=plt.gca())\n",
        "plt.title(\"Confusion Matrix (threshold = 0.5)\")\n",
        "plt.tight_layout()\n",
        "plt.show()\n"
      ],
      "metadata": {
        "colab": {
          "base_uri": "https://localhost:8080/",
          "height": 1000
        },
        "id": "sNdklrwxz6iO",
        "outputId": "096b32a3-2a30-4ae6-94b6-80dce93d4a62"
      },
      "execution_count": null,
      "outputs": [
        {
          "output_type": "stream",
          "name": "stdout",
          "text": [
            "Test metrics: {'loss': np.float64(0.575), 'compile_metrics': np.float64(0.804)}\n"
          ]
        },
        {
          "output_type": "display_data",
          "data": {
            "text/plain": [
              "<Figure size 500x500 with 1 Axes>"
            ],
            "image/png": "[encoded data removed]"
          },
          "metadata": {}
        },
        {
          "output_type": "display_data",
          "data": {
            "text/plain": [
              "<Figure size 500x500 with 2 Axes>"
            ],
            "image/png": "[encoded data removed]"
          },
          "metadata": {}
        }
      ]
    },
    {
      "cell_type": "markdown",
      "source": [
        "On the test set, the MLP achieves about 0.804 AUC, showing it ranks defaults well above chance. The ROC curve confirms this. At the standard 0.5 cutoff, the confusion matrix reveals how many non-defaults and defaults are correctly or incorrectly classified—letting us see the trade-off between catching defaulters and avoiding false alarms at that threshold."
      ],
      "metadata": {
        "id": "nLNxtWDXGLmg"
      }
    },
    {
      "cell_type": "markdown",
      "source": [
        "___\n",
        "14. ### Determine Best Probability Cutoff Using F1-Score  \n",
        "This cell computes precision and recall for many thresholds on the test set, calculates the F1 score for each cutoff, picks the threshold that maximizes F1, and then plots how precision and recall change with the threshold.\n"
      ],
      "metadata": {
        "id": "S3fIVVHtGrf9"
      }
    },
    {
      "cell_type": "code",
      "source": [
        "# Gather true labels and predicted probabilities from our test dataset\n",
        "y_true = np.concatenate([y.numpy() for _, y in test_ds])\n",
        "y_prob = np.concatenate([model.predict(x, verbose=0)\n",
        "                        for x, _ in test_ds]).ravel()\n",
        "\n",
        "# Compute precision and recall at all thresholds\n",
        "precisions, recalls, thresholds = precision_recall_curve(y_true, y_prob)\n",
        "\n",
        "# Calculate F1 score for each threshold: harmonic mean of precision and recall\n",
        "f1_scores = 2 * (precisions * recalls) / (precisions + recalls + 1e-8)\n",
        "\n",
        "# Find the index of the highest F1 and corresponding threshold\n",
        "best_idx = np.nanargmax(f1_scores)\n",
        "best_thr = thresholds[best_idx] if best_idx < len(thresholds) else 1.0\n",
        "best_f1  = f1_scores[best_idx]\n",
        "best_prec= precisions[best_idx]\n",
        "best_rec = recalls[best_idx]\n",
        "\n",
        "# Print the best threshold along with its precision, recall, and F1\n",
        "print(f\"Best threshold by F1: {best_thr:.3f}\")\n",
        "print(f\" → Precision: {best_prec:.3f}, Recall: {best_rec:.3f}, F1: {best_f1:.3f}\")\n",
        "\n",
        "# Plot how precision and recall trade off as we vary the cutoff\n",
        "plt.figure(figsize=(6,4))\n",
        "plt.plot(thresholds, precisions[:-1], label=\"Precision\")\n",
        "plt.plot(thresholds, recalls[:-1],    label=\"Recall\")\n",
        "plt.axvline(best_thr, color='k', linestyle='--', label=f\"Best thr = {best_thr:.3f}\")\n",
        "plt.xlabel(\"Threshold\")\n",
        "plt.ylabel(\"Score\")\n",
        "plt.title(\"Precision & Recall vs. Threshold\")\n",
        "plt.legend(loc=\"best\")\n",
        "plt.grid(True)\n",
        "plt.tight_layout()\n",
        "plt.show()\n",
        "\n"
      ],
      "metadata": {
        "colab": {
          "base_uri": "https://localhost:8080/",
          "height": 442
        },
        "id": "r_hSRUP-9rOB",
        "outputId": "166268d1-7937-47dc-ea7f-6aa0b734ac3d"
      },
      "execution_count": null,
      "outputs": [
        {
          "output_type": "stream",
          "name": "stdout",
          "text": [
            "Best threshold by F1: 0.721\n",
            " → Precision: 0.191, Recall: 0.419, F1: 0.263\n"
          ]
        },
        {
          "output_type": "display_data",
          "data": {
            "text/plain": [
              "<Figure size 600x400 with 1 Axes>"
            ],
            "image/png": "[encoded data removed]"
          },
          "metadata": {}
        }
      ]
    },
    {
      "cell_type": "markdown",
      "source": [
        "This step finds that a cutoff of ≈0.721 maximizes the F1 score on the test data, giving precision ≈ 0.191 and recall ≈ 0.419 (F1 ≈ 0.263). The plot shows precision rising and recall falling as the threshold increases, and the dashed line marks the best trade-off point where F1 is highest."
      ],
      "metadata": {
        "id": "43fDnlXqG6nZ"
      }
    },
    {
      "cell_type": "markdown",
      "source": [
        "___\n",
        "15. ### Apply Optimal Threshold & Display Metrics  \n",
        "This cell takes the best cutoff (0.721) we found for balancing precision and recall, uses it to turn predicted probabilities into class labels on the test set, prints the resulting precision, recall, and F1 score, and shows the confusion matrix at that threshold.\n"
      ],
      "metadata": {
        "id": "0SMaen0XHUoA"
      }
    },
    {
      "cell_type": "code",
      "source": [
        "# Collect true labels and predicted probabilities from our tf.data test set\n",
        "y_true = np.concatenate([y.numpy() for _, y in test_ds])\n",
        "y_prob = np.concatenate([model.predict(x, verbose=0) for x, _ in test_ds]).ravel()\n",
        "\n",
        "# Use the best threshold we found earlier\n",
        "threshold = 0.721\n",
        "\n",
        "# Convert probabilities into binary predictions using that cutoff\n",
        "y_pred = (y_prob >= threshold).astype(int)\n",
        "\n",
        "# Compute confusion matrix, precision, recall, and F1 score\n",
        "cm   = confusion_matrix(y_true, y_pred)\n",
        "prec = precision_score(y_true, y_pred)\n",
        "rec  = recall_score(y_true, y_pred)\n",
        "f1   = f1_score(y_true, y_pred)\n",
        "\n",
        "# Print out the key metrics at this threshold\n",
        "print(f\"Metrics at threshold {threshold}:\")\n",
        "print(f\"  Precision: {prec:.3f}\")\n",
        "print(f\"  Recall:    {rec:.3f}\")\n",
        "print(f\"  F1 Score:  {f1:.3f}\\n\")\n",
        "\n",
        "# Plot the confusion matrix with clear labels\n",
        "disp = ConfusionMatrixDisplay(cm, display_labels=[\"Non-default\",\"Default\"])\n",
        "plt.figure(figsize=(5,5))\n",
        "disp.plot(cmap=\"Blues\", values_format='d', ax=plt.gca())\n",
        "plt.title(f\"Confusion Matrix (threshold = {threshold})\")\n",
        "plt.tight_layout()\n",
        "plt.show()\n"
      ],
      "metadata": {
        "colab": {
          "base_uri": "https://localhost:8080/",
          "height": 588
        },
        "id": "V8LQGOC_mSq0",
        "outputId": "2eb926a9-0a55-4320-aed4-3cdfbfa49730"
      },
      "execution_count": null,
      "outputs": [
        {
          "output_type": "stream",
          "name": "stdout",
          "text": [
            "Metrics at threshold 0.721:\n",
            "  Precision: 0.191\n",
            "  Recall:    0.419\n",
            "  F1 Score:  0.263\n",
            "\n"
          ]
        },
        {
          "output_type": "display_data",
          "data": {
            "text/plain": [
              "<Figure size 500x500 with 2 Axes>"
            ],
            "image/png": "[encoded data removed]"
          },
          "metadata": {}
        }
      ]
    },
    {
      "cell_type": "markdown",
      "source": [
        "At the chosen cutoff of 0.721, the MLP achieves precision ≈ 0.191, recall ≈ 0.419, and F1 ≈ 0.263 on the test set. The confusion matrix shows it correctly labels 109,058 non-defaults and 2,923 defaults, while making 12,368 false alarms and missing 4,047 actual defaults. This threshold gives the best balance of catching defaulters and avoiding too many false positives according to the F1 metric."
      ],
      "metadata": {
        "id": "yZYtfzZKHh0S"
      }
    },
    {
      "cell_type": "markdown",
      "source": [
        "___\n",
        "16. ### Compute Accuracy at Optimal Threshold  \n",
        "This cell applies our best threshold (≈0.721) to the test probabilities and calculates the overall accuracy of those predictions.\n"
      ],
      "metadata": {
        "id": "Y_PTf6WrHyWX"
      }
    },
    {
      "cell_type": "code",
      "source": [
        "# Convert predicted probabilities into binary labels using best_thr\n",
        "y_pred = (y_prob >= best_thr).astype(int)\n",
        "\n",
        "# Compute the accuracy score on the test set\n",
        "acc = accuracy_score(y_true, y_pred)\n",
        "\n",
        "# Print the result\n",
        "print(f\"Accuracy at threshold {best_thr:.3f}: {acc:.3f}\")\n"
      ],
      "metadata": {
        "id": "aJLABRGhJNn1",
        "colab": {
          "base_uri": "https://localhost:8080/"
        },
        "outputId": "1f820930-2546-4541-cacf-bf179ef2e602"
      },
      "execution_count": null,
      "outputs": [
        {
          "output_type": "stream",
          "name": "stdout",
          "text": [
            "Accuracy at threshold 0.721: 0.872\n"
          ]
        }
      ]
    },
    {
      "cell_type": "markdown",
      "source": [
        "Using the threshold of 0.726, the model correctly classifies about 87.2 % of all loans (both defaults and non‐defaults), reflecting how well the chosen cutoff balances catching defaulters against mislabeling good loans."
      ],
      "metadata": {
        "id": "bGJ9k4q1H5ms"
      }
    },
    {
      "cell_type": "markdown",
      "source": [
        "___\n",
        "17. ### Evaluate MLP on Test Set at Threshold = 0.30  \n",
        "This cell applies a lower cutoff (0.30) to our predicted probabilities, computes precision, recall, and F1 at that threshold, and shows the resulting confusion matrix so we can see how aggressively catching defaults affects errors.\n"
      ],
      "metadata": {
        "id": "sbBYaf7hIJoO"
      }
    },
    {
      "cell_type": "code",
      "source": [
        "# Gather the true labels and predicted probabilities as before\n",
        "y_true = np.concatenate([y.numpy() for _, y in test_ds])\n",
        "y_prob = np.concatenate([model.predict(x, verbose=0) for x,_ in test_ds]).ravel()\n",
        "\n",
        "# Set our new, lower threshold\n",
        "threshold = 0.30\n",
        "\n",
        "# Convert probabilities into binary predictions at 0.30\n",
        "y_pred = (y_prob >= threshold).astype(int)\n",
        "\n",
        "# Compute confusion matrix and key metrics\n",
        "cm   = confusion_matrix(y_true, y_pred)\n",
        "prec = precision_score(y_true, y_pred)\n",
        "rec  = recall_score(y_true, y_pred)\n",
        "f1   = f1_score(y_true, y_pred)\n",
        "\n",
        "# Print the metrics\n",
        "print(f\"Metrics at threshold {threshold}:\")\n",
        "print(f\"  Precision: {prec:.3f}\")\n",
        "print(f\"  Recall:    {rec:.3f}\")\n",
        "print(f\"  F1 Score:  {f1:.3f}\\n\")\n",
        "\n",
        "# Display the confusion matrix\n",
        "disp = ConfusionMatrixDisplay(cm, display_labels=[\"Non-default\",\"Default\"])\n",
        "plt.figure(figsize=(5,5))\n",
        "disp.plot(cmap=\"Blues\", values_format='d', ax=plt.gca())\n",
        "plt.title(f\"Confusion Matrix (threshold = {threshold})\")\n",
        "plt.tight_layout()\n",
        "plt.show()\n"
      ],
      "metadata": {
        "colab": {
          "base_uri": "https://localhost:8080/",
          "height": 588
        },
        "id": "UEeXomXJlnN-",
        "outputId": "bdc129c5-da89-48ac-cf29-42c83b33e8cd"
      },
      "execution_count": null,
      "outputs": [
        {
          "output_type": "stream",
          "name": "stdout",
          "text": [
            "Metrics at threshold 0.3:\n",
            "  Precision: 0.087\n",
            "  Recall:    0.945\n",
            "  F1 Score:  0.160\n",
            "\n"
          ]
        },
        {
          "output_type": "display_data",
          "data": {
            "text/plain": [
              "<Figure size 500x500 with 2 Axes>"
            ],
            "image/png": "[encoded data removed]"
          },
          "metadata": {}
        }
      ]
    },
    {
      "cell_type": "markdown",
      "source": [
        "At a 0.30 cutoff, the model becomes very “sensitive” to defaults:\n",
        "\n",
        "True Positives (TP): 6,588 out of 6,970 actual defaulters are caught -> Recall ≈ 94.5 %\n",
        "\n",
        "False Positives (FP): 68,846 non-defaulters are wrongly flagged -> Precision ≈ 8.7 %\n",
        "\n",
        "True Negatives (TN): 52,580 non-defaulters correctly passed\n",
        "\n",
        "False Negatives (FN): only 382 defaulters missed\n",
        "\n",
        "This yields an F1 score of 0.160. In simple terms, using such a low threshold catches almost every default but at the cost of many false alarms—reflecting the classic precision–recall trade-off."
      ],
      "metadata": {
        "id": "kN-Fb4ORIcyh"
      }
    },
    {
      "cell_type": "markdown",
      "source": [
        "___\n",
        "18. ### Compute Accuracy at Threshold = 0.30  \n",
        "This cell applies our low cutoff of 0.30 to the test probabilities and calculates the overall accuracy, showing the trade-off effect on correct vs. incorrect predictions.\n"
      ],
      "metadata": {
        "id": "N1lZi36UKSoS"
      }
    },
    {
      "cell_type": "code",
      "source": [
        "# Convert probabilities into binary predictions using threshold = 0.30\n",
        "y_pred = (y_prob >= 0.30).astype(int)\n",
        "\n",
        "# Compute overall accuracy on the test set\n",
        "acc = accuracy_score(y_true, y_pred)\n",
        "\n",
        "# Print the accuracy result\n",
        "print(f\"Accuracy at threshold 0.30: {acc:.3f}\")\n"
      ],
      "metadata": {
        "colab": {
          "base_uri": "https://localhost:8080/"
        },
        "id": "dk6twxA0srVF",
        "outputId": "62844b30-506b-45c0-c5b5-d78f9052660c"
      },
      "execution_count": null,
      "outputs": [
        {
          "output_type": "stream",
          "name": "stdout",
          "text": [
            "Accuracy at threshold 0.30: 0.461\n"
          ]
        }
      ]
    },
    {
      "cell_type": "markdown",
      "source": [
        "At a 0.30 cutoff, the model’s overall accuracy drops to 46.1%. This happens because although we catch nearly all defaulters (high recall), the huge number of false alarms (low precision) means only half of all predictions are correct at this aggressive threshold."
      ],
      "metadata": {
        "id": "zx5yLhoAKfJY"
      }
    },
    {
      "cell_type": "markdown",
      "source": [
        "***Save the Trained Model to Google Drive***"
      ],
      "metadata": {
        "id": "ZA-LojytN1tN"
      }
    },
    {
      "cell_type": "code",
      "source": [
        "model.save('/content/drive/MyDrive/MLP_model.h5')\n",
        "print(\"Model saved to Drive as MLP_model.h5\")"
      ],
      "metadata": {
        "id": "Iu9BoRj9N0d0",
        "colab": {
          "base_uri": "https://localhost:8080/"
        },
        "outputId": "afec3c59-cc8d-48d9-d348-51a9646d665e"
      },
      "execution_count": null,
      "outputs": [
        {
          "output_type": "stream",
          "name": "stderr",
          "text": [
            "WARNING:absl:You are saving your model as an HDF5 file via `model.save()` or `keras.saving.save_model(model)`. This file format is considered legacy. We recommend using instead the native Keras format, e.g. `model.save('my_model.keras')` or `keras.saving.save_model(model, 'my_model.keras')`. \n"
          ]
        },
        {
          "output_type": "stream",
          "name": "stdout",
          "text": [
            "Model saved to Drive as MLP_model.h5\n"
          ]
        }
      ]
    }
  ]
}