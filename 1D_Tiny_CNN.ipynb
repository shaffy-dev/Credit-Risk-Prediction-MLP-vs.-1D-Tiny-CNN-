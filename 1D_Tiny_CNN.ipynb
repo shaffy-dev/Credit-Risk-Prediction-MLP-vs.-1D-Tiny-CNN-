{
  "nbformat": 4,
  "nbformat_minor": 0,
  "metadata": {
    "colab": {
      "provenance": [],
      "gpuType": "T4",
      "include_colab_link": true
    },
    "kernelspec": {
      "name": "python3",
      "display_name": "Python 3"
    },
    "language_info": {
      "name": "python"
    },
    "accelerator": "GPU"
  },
  "cells": [
    {
      "cell_type": "markdown",
      "metadata": {
        "id": "view-in-github",
        "colab_type": "text"
      },
      "source": [
        "<a href=\"https://colab.research.google.com/github/shaffy-dev/Credit-Risk-Prediction-MLP-vs.-1D-Tiny-CNN-/blob/main/1D_Tiny_CNN.ipynb\" target=\"_parent\"><img src=\"https://colab.research.google.com/assets/colab-badge.svg\" alt=\"Open In Colab\"/></a>"
      ]
    },
    {
      "cell_type": "markdown",
      "source": [
        "# **Stage 2: Predictive Analysis**"
      ],
      "metadata": {
        "id": "wQ6wEHsnpUla"
      }
    },
    {
      "cell_type": "markdown",
      "source": [
        "## **Process Two: 1D Tiny Convolutional Neural Network (CNN)**"
      ],
      "metadata": {
        "id": "kTMqYQkgplwy"
      }
    },
    {
      "cell_type": "code",
      "execution_count": null,
      "metadata": {
        "colab": {
          "base_uri": "https://localhost:8080/"
        },
        "id": "JxZWR7YomMgK",
        "outputId": "b50f1759-35fb-4c25-b6f2-182f4b6b1c80"
      },
      "outputs": [
        {
          "output_type": "stream",
          "name": "stdout",
          "text": [
            "Mounted at /content/drive\n"
          ]
        }
      ],
      "source": [
        "from google.colab import drive\n",
        "drive.mount('/content/drive')"
      ]
    },
    {
      "cell_type": "markdown",
      "source": [
        "___\n",
        "1. ### Import Libraries and Define Dependencies  \n",
        "This cell loads all the Python packages needed for data handling, visualization, model building, and evaluation.\n"
      ],
      "metadata": {
        "id": "Vx8g-mXt_19S"
      }
    },
    {
      "cell_type": "code",
      "source": [
        "import pandas as pd\n",
        "import numpy as np\n",
        "import matplotlib.pyplot as plt\n",
        "from sklearn.model_selection import train_test_split\n",
        "from sklearn.metrics import roc_auc_score, classification_report, confusion_matrix, ConfusionMatrixDisplay, f1_score\n",
        "import tensorflow as tf\n",
        "from tensorflow.keras import layers, models, optimizers, metrics, Sequential\n",
        "from tensorflow.keras.layers import Reshape, Conv1D, GlobalMaxPooling1D, Dense, BatchNormalization, Dropout\n",
        "from tensorflow.keras.callbacks import EarlyStopping, ReduceLROnPlateau"
      ],
      "metadata": {
        "id": "VhbLwUNWmiWZ"
      },
      "execution_count": null,
      "outputs": []
    },
    {
      "cell_type": "markdown",
      "source": [
        "___\n",
        "2. ### Load Dataset  \n",
        "This cell reads the loan dataset CSV from Google Drive into a Pandas DataFrame, shows its size, and prints the class imbalance for the target variable.\n"
      ],
      "metadata": {
        "id": "bJrxgxFUAsq5"
      }
    },
    {
      "cell_type": "code",
      "source": [
        "# Load the data into a DataFrame\n",
        "\n",
        "# Define the path to your CSV file in Drive\n",
        "DATA_PATH = '/content/drive/MyDrive/cs_project/data.csv'\n",
        "\n",
        "# Clear any existing TensorFlow graph\n",
        "tf.keras.backend.clear_session()\n",
        "\n",
        "# Read the CSV into pandas\n",
        "df = pd.read_csv(DATA_PATH)\n",
        "\n",
        "# Print the number of rows and columns\n",
        "print(f\"Loaded DataFrame: {df.shape[0]:,} rows × {df.shape[1]} columns\")\n",
        "\n",
        "# Name of the label column\n",
        "LABEL_COL = 'default_ind'\n",
        "\n",
        "# Show proportion of each class (no default vs default)\n",
        "print(\"\\nClass distribution:\")\n",
        "print(df[LABEL_COL].value_counts(normalize=True).round(3))\n",
        "print(\"\")\n",
        "\n",
        "# Shows first five rows to verify contents\n",
        "df.head()\n"
      ],
      "metadata": {
        "colab": {
          "base_uri": "https://localhost:8080/",
          "height": 515
        },
        "id": "lSe6eBg6m37M",
        "outputId": "34ebce30-d709-4d8b-aab3-dd93cd1d9711"
      },
      "execution_count": null,
      "outputs": [
        {
          "output_type": "stream",
          "name": "stderr",
          "text": [
            "<ipython-input-3-7de9bb659f90>:10: DtypeWarning: Columns (17,45,53) have mixed types. Specify dtype option on import or set low_memory=False.\n",
            "  df = pd.read_csv(DATA_PATH)\n"
          ]
        },
        {
          "output_type": "stream",
          "name": "stdout",
          "text": [
            "Loaded DataFrame: 855,969 rows × 73 columns\n",
            "\n",
            "Class distribution:\n",
            "default_ind\n",
            "0    0.946\n",
            "1    0.054\n",
            "Name: proportion, dtype: float64\n",
            "\n"
          ]
        },
        {
          "output_type": "execute_result",
          "data": {
            "text/plain": [
              "        id  member_id  loan_amnt  funded_amnt  funded_amnt_inv        term  \\\n",
              "0  1077501    1296599       5000         5000           4975.0   36 months   \n",
              "1  1077430    1314167       2500         2500           2500.0   60 months   \n",
              "2  1077175    1313524       2400         2400           2400.0   36 months   \n",
              "3  1076863    1277178      10000        10000          10000.0   36 months   \n",
              "4  1075358    1311748       3000         3000           3000.0   60 months   \n",
              "\n",
              "   int_rate  installment grade sub_grade  ... il_util open_rv_12m open_rv_24m  \\\n",
              "0     10.65       162.87     B        B2  ...     NaN         NaN         NaN   \n",
              "1     15.27        59.83     C        C4  ...     NaN         NaN         NaN   \n",
              "2     15.96        84.33     C        C5  ...     NaN         NaN         NaN   \n",
              "3     13.49       339.31     C        C1  ...     NaN         NaN         NaN   \n",
              "4     12.69        67.79     B        B5  ...     NaN         NaN         NaN   \n",
              "\n",
              "   max_bal_bc all_util total_rev_hi_lim inq_fi total_cu_tl inq_last_12m  \\\n",
              "0         NaN      NaN              NaN    NaN         NaN          NaN   \n",
              "1         NaN      NaN              NaN    NaN         NaN          NaN   \n",
              "2         NaN      NaN              NaN    NaN         NaN          NaN   \n",
              "3         NaN      NaN              NaN    NaN         NaN          NaN   \n",
              "4         NaN      NaN              NaN    NaN         NaN          NaN   \n",
              "\n",
              "  default_ind  \n",
              "0           0  \n",
              "1           1  \n",
              "2           0  \n",
              "3           0  \n",
              "4           0  \n",
              "\n",
              "[5 rows x 73 columns]"
            ],
            "text/html": [
              "\n",
              "  <div id=\"df-fffd93e9-43ea-4248-9a8e-335ccc3859c1\" class=\"colab-df-container\">\n",
              "    <div>\n",
              "<style scoped>\n",
              "    .dataframe tbody tr th:only-of-type {\n",
              "        vertical-align: middle;\n",
              "    }\n",
              "\n",
              "    .dataframe tbody tr th {\n",
              "        vertical-align: top;\n",
              "    }\n",
              "\n",
              "    .dataframe thead th {\n",
              "        text-align: right;\n",
              "    }\n",
              "</style>\n",
              "<table border=\"1\" class=\"dataframe\">\n",
              "  <thead>\n",
              "    <tr style=\"text-align: right;\">\n",
              "      <th></th>\n",
              "      <th>id</th>\n",
              "      <th>member_id</th>\n",
              "      <th>loan_amnt</th>\n",
              "      <th>funded_amnt</th>\n",
              "      <th>funded_amnt_inv</th>\n",
              "      <th>term</th>\n",
              "      <th>int_rate</th>\n",
              "      <th>installment</th>\n",
              "      <th>grade</th>\n",
              "      <th>sub_grade</th>\n",
              "      <th>...</th>\n",
              "      <th>il_util</th>\n",
              "      <th>open_rv_12m</th>\n",
              "      <th>open_rv_24m</th>\n",
              "      <th>max_bal_bc</th>\n",
              "      <th>all_util</th>\n",
              "      <th>total_rev_hi_lim</th>\n",
              "      <th>inq_fi</th>\n",
              "      <th>total_cu_tl</th>\n",
              "      <th>inq_last_12m</th>\n",
              "      <th>default_ind</th>\n",
              "    </tr>\n",
              "  </thead>\n",
              "  <tbody>\n",
              "    <tr>\n",
              "      <th>0</th>\n",
              "      <td>1077501</td>\n",
              "      <td>1296599</td>\n",
              "      <td>5000</td>\n",
              "      <td>5000</td>\n",
              "      <td>4975.0</td>\n",
              "      <td>36 months</td>\n",
              "      <td>10.65</td>\n",
              "      <td>162.87</td>\n",
              "      <td>B</td>\n",
              "      <td>B2</td>\n",
              "      <td>...</td>\n",
              "      <td>NaN</td>\n",
              "      <td>NaN</td>\n",
              "      <td>NaN</td>\n",
              "      <td>NaN</td>\n",
              "      <td>NaN</td>\n",
              "      <td>NaN</td>\n",
              "      <td>NaN</td>\n",
              "      <td>NaN</td>\n",
              "      <td>NaN</td>\n",
              "      <td>0</td>\n",
              "    </tr>\n",
              "    <tr>\n",
              "      <th>1</th>\n",
              "      <td>1077430</td>\n",
              "      <td>1314167</td>\n",
              "      <td>2500</td>\n",
              "      <td>2500</td>\n",
              "      <td>2500.0</td>\n",
              "      <td>60 months</td>\n",
              "      <td>15.27</td>\n",
              "      <td>59.83</td>\n",
              "      <td>C</td>\n",
              "      <td>C4</td>\n",
              "      <td>...</td>\n",
              "      <td>NaN</td>\n",
              "      <td>NaN</td>\n",
              "      <td>NaN</td>\n",
              "      <td>NaN</td>\n",
              "      <td>NaN</td>\n",
              "      <td>NaN</td>\n",
              "      <td>NaN</td>\n",
              "      <td>NaN</td>\n",
              "      <td>NaN</td>\n",
              "      <td>1</td>\n",
              "    </tr>\n",
              "    <tr>\n",
              "      <th>2</th>\n",
              "      <td>1077175</td>\n",
              "      <td>1313524</td>\n",
              "      <td>2400</td>\n",
              "      <td>2400</td>\n",
              "      <td>2400.0</td>\n",
              "      <td>36 months</td>\n",
              "      <td>15.96</td>\n",
              "      <td>84.33</td>\n",
              "      <td>C</td>\n",
              "      <td>C5</td>\n",
              "      <td>...</td>\n",
              "      <td>NaN</td>\n",
              "      <td>NaN</td>\n",
              "      <td>NaN</td>\n",
              "      <td>NaN</td>\n",
              "      <td>NaN</td>\n",
              "      <td>NaN</td>\n",
              "      <td>NaN</td>\n",
              "      <td>NaN</td>\n",
              "      <td>NaN</td>\n",
              "      <td>0</td>\n",
              "    </tr>\n",
              "    <tr>\n",
              "      <th>3</th>\n",
              "      <td>1076863</td>\n",
              "      <td>1277178</td>\n",
              "      <td>10000</td>\n",
              "      <td>10000</td>\n",
              "      <td>10000.0</td>\n",
              "      <td>36 months</td>\n",
              "      <td>13.49</td>\n",
              "      <td>339.31</td>\n",
              "      <td>C</td>\n",
              "      <td>C1</td>\n",
              "      <td>...</td>\n",
              "      <td>NaN</td>\n",
              "      <td>NaN</td>\n",
              "      <td>NaN</td>\n",
              "      <td>NaN</td>\n",
              "      <td>NaN</td>\n",
              "      <td>NaN</td>\n",
              "      <td>NaN</td>\n",
              "      <td>NaN</td>\n",
              "      <td>NaN</td>\n",
              "      <td>0</td>\n",
              "    </tr>\n",
              "    <tr>\n",
              "      <th>4</th>\n",
              "      <td>1075358</td>\n",
              "      <td>1311748</td>\n",
              "      <td>3000</td>\n",
              "      <td>3000</td>\n",
              "      <td>3000.0</td>\n",
              "      <td>60 months</td>\n",
              "      <td>12.69</td>\n",
              "      <td>67.79</td>\n",
              "      <td>B</td>\n",
              "      <td>B5</td>\n",
              "      <td>...</td>\n",
              "      <td>NaN</td>\n",
              "      <td>NaN</td>\n",
              "      <td>NaN</td>\n",
              "      <td>NaN</td>\n",
              "      <td>NaN</td>\n",
              "      <td>NaN</td>\n",
              "      <td>NaN</td>\n",
              "      <td>NaN</td>\n",
              "      <td>NaN</td>\n",
              "      <td>0</td>\n",
              "    </tr>\n",
              "  </tbody>\n",
              "</table>\n",
              "<p>5 rows × 73 columns</p>\n",
              "</div>\n",
              "    <div class=\"colab-df-buttons\">\n",
              "\n",
              "  <div class=\"colab-df-container\">\n",
              "    <button class=\"colab-df-convert\" onclick=\"convertToInteractive('df-fffd93e9-43ea-4248-9a8e-335ccc3859c1')\"\n",
              "            title=\"Convert this dataframe to an interactive table.\"\n",
              "            style=\"display:none;\">\n",
              "\n",
              "  <svg xmlns=\"http://www.w3.org/2000/svg\" height=\"24px\" viewBox=\"0 -960 960 960\">\n",
              "    <path d=\"M120-120v-720h720v720H120Zm60-500h600v-160H180v160Zm220 220h160v-160H400v160Zm0 220h160v-160H400v160ZM180-400h160v-160H180v160Zm440 0h160v-160H620v160ZM180-180h160v-160H180v160Zm440 0h160v-160H620v160Z\"/>\n",
              "  </svg>\n",
              "    </button>\n",
              "\n",
              "  <style>\n",
              "    .colab-df-container {\n",
              "      display:flex;\n",
              "      gap: 12px;\n",
              "    }\n",
              "\n",
              "    .colab-df-convert {\n",
              "      background-color: #E8F0FE;\n",
              "      border: none;\n",
              "      border-radius: 50%;\n",
              "      cursor: pointer;\n",
              "      display: none;\n",
              "      fill: #1967D2;\n",
              "      height: 32px;\n",
              "      padding: 0 0 0 0;\n",
              "      width: 32px;\n",
              "    }\n",
              "\n",
              "    .colab-df-convert:hover {\n",
              "      background-color: #E2EBFA;\n",
              "      box-shadow: 0px 1px 2px rgba(60, 64, 67, 0.3), 0px 1px 3px 1px rgba(60, 64, 67, 0.15);\n",
              "      fill: #174EA6;\n",
              "    }\n",
              "\n",
              "    .colab-df-buttons div {\n",
              "      margin-bottom: 4px;\n",
              "    }\n",
              "\n",
              "    [theme=dark] .colab-df-convert {\n",
              "      background-color: #3B4455;\n",
              "      fill: #D2E3FC;\n",
              "    }\n",
              "\n",
              "    [theme=dark] .colab-df-convert:hover {\n",
              "      background-color: #434B5C;\n",
              "      box-shadow: 0px 1px 3px 1px rgba(0, 0, 0, 0.15);\n",
              "      filter: drop-shadow(0px 1px 2px rgba(0, 0, 0, 0.3));\n",
              "      fill: #FFFFFF;\n",
              "    }\n",
              "  </style>\n",
              "\n",
              "    <script>\n",
              "      const buttonEl =\n",
              "        document.querySelector('#df-fffd93e9-43ea-4248-9a8e-335ccc3859c1 button.colab-df-convert');\n",
              "      buttonEl.style.display =\n",
              "        google.colab.kernel.accessAllowed ? 'block' : 'none';\n",
              "\n",
              "      async function convertToInteractive(key) {\n",
              "        const element = document.querySelector('#df-fffd93e9-43ea-4248-9a8e-335ccc3859c1');\n",
              "        const dataTable =\n",
              "          await google.colab.kernel.invokeFunction('convertToInteractive',\n",
              "                                                    [key], {});\n",
              "        if (!dataTable) return;\n",
              "\n",
              "        const docLinkHtml = 'Like what you see? Visit the ' +\n",
              "          '<a target=\"_blank\" href=https://colab.research.google.com/notebooks/data_table.ipynb>data table notebook</a>'\n",
              "          + ' to learn more about interactive tables.';\n",
              "        element.innerHTML = '';\n",
              "        dataTable['output_type'] = 'display_data';\n",
              "        await google.colab.output.renderOutput(dataTable, element);\n",
              "        const docLink = document.createElement('div');\n",
              "        docLink.innerHTML = docLinkHtml;\n",
              "        element.appendChild(docLink);\n",
              "      }\n",
              "    </script>\n",
              "  </div>\n",
              "\n",
              "\n",
              "    <div id=\"df-01465ce6-9e87-46f0-af3f-bf1c95d0759e\">\n",
              "      <button class=\"colab-df-quickchart\" onclick=\"quickchart('df-01465ce6-9e87-46f0-af3f-bf1c95d0759e')\"\n",
              "                title=\"Suggest charts\"\n",
              "                style=\"display:none;\">\n",
              "\n",
              "<svg xmlns=\"http://www.w3.org/2000/svg\" height=\"24px\"viewBox=\"0 0 24 24\"\n",
              "     width=\"24px\">\n",
              "    <g>\n",
              "        <path d=\"M19 3H5c-1.1 0-2 .9-2 2v14c0 1.1.9 2 2 2h14c1.1 0 2-.9 2-2V5c0-1.1-.9-2-2-2zM9 17H7v-7h2v7zm4 0h-2V7h2v10zm4 0h-2v-4h2v4z\"/>\n",
              "    </g>\n",
              "</svg>\n",
              "      </button>\n",
              "\n",
              "<style>\n",
              "  .colab-df-quickchart {\n",
              "      --bg-color: #E8F0FE;\n",
              "      --fill-color: #1967D2;\n",
              "      --hover-bg-color: #E2EBFA;\n",
              "      --hover-fill-color: #174EA6;\n",
              "      --disabled-fill-color: #AAA;\n",
              "      --disabled-bg-color: #DDD;\n",
              "  }\n",
              "\n",
              "  [theme=dark] .colab-df-quickchart {\n",
              "      --bg-color: #3B4455;\n",
              "      --fill-color: #D2E3FC;\n",
              "      --hover-bg-color: #434B5C;\n",
              "      --hover-fill-color: #FFFFFF;\n",
              "      --disabled-bg-color: #3B4455;\n",
              "      --disabled-fill-color: #666;\n",
              "  }\n",
              "\n",
              "  .colab-df-quickchart {\n",
              "    background-color: var(--bg-color);\n",
              "    border: none;\n",
              "    border-radius: 50%;\n",
              "    cursor: pointer;\n",
              "    display: none;\n",
              "    fill: var(--fill-color);\n",
              "    height: 32px;\n",
              "    padding: 0;\n",
              "    width: 32px;\n",
              "  }\n",
              "\n",
              "  .colab-df-quickchart:hover {\n",
              "    background-color: var(--hover-bg-color);\n",
              "    box-shadow: 0 1px 2px rgba(60, 64, 67, 0.3), 0 1px 3px 1px rgba(60, 64, 67, 0.15);\n",
              "    fill: var(--button-hover-fill-color);\n",
              "  }\n",
              "\n",
              "  .colab-df-quickchart-complete:disabled,\n",
              "  .colab-df-quickchart-complete:disabled:hover {\n",
              "    background-color: var(--disabled-bg-color);\n",
              "    fill: var(--disabled-fill-color);\n",
              "    box-shadow: none;\n",
              "  }\n",
              "\n",
              "  .colab-df-spinner {\n",
              "    border: 2px solid var(--fill-color);\n",
              "    border-color: transparent;\n",
              "    border-bottom-color: var(--fill-color);\n",
              "    animation:\n",
              "      spin 1s steps(1) infinite;\n",
              "  }\n",
              "\n",
              "  @keyframes spin {\n",
              "    0% {\n",
              "      border-color: transparent;\n",
              "      border-bottom-color: var(--fill-color);\n",
              "      border-left-color: var(--fill-color);\n",
              "    }\n",
              "    20% {\n",
              "      border-color: transparent;\n",
              "      border-left-color: var(--fill-color);\n",
              "      border-top-color: var(--fill-color);\n",
              "    }\n",
              "    30% {\n",
              "      border-color: transparent;\n",
              "      border-left-color: var(--fill-color);\n",
              "      border-top-color: var(--fill-color);\n",
              "      border-right-color: var(--fill-color);\n",
              "    }\n",
              "    40% {\n",
              "      border-color: transparent;\n",
              "      border-right-color: var(--fill-color);\n",
              "      border-top-color: var(--fill-color);\n",
              "    }\n",
              "    60% {\n",
              "      border-color: transparent;\n",
              "      border-right-color: var(--fill-color);\n",
              "    }\n",
              "    80% {\n",
              "      border-color: transparent;\n",
              "      border-right-color: var(--fill-color);\n",
              "      border-bottom-color: var(--fill-color);\n",
              "    }\n",
              "    90% {\n",
              "      border-color: transparent;\n",
              "      border-bottom-color: var(--fill-color);\n",
              "    }\n",
              "  }\n",
              "</style>\n",
              "\n",
              "      <script>\n",
              "        async function quickchart(key) {\n",
              "          const quickchartButtonEl =\n",
              "            document.querySelector('#' + key + ' button');\n",
              "          quickchartButtonEl.disabled = true;  // To prevent multiple clicks.\n",
              "          quickchartButtonEl.classList.add('colab-df-spinner');\n",
              "          try {\n",
              "            const charts = await google.colab.kernel.invokeFunction(\n",
              "                'suggestCharts', [key], {});\n",
              "          } catch (error) {\n",
              "            console.error('Error during call to suggestCharts:', error);\n",
              "          }\n",
              "          quickchartButtonEl.classList.remove('colab-df-spinner');\n",
              "          quickchartButtonEl.classList.add('colab-df-quickchart-complete');\n",
              "        }\n",
              "        (() => {\n",
              "          let quickchartButtonEl =\n",
              "            document.querySelector('#df-01465ce6-9e87-46f0-af3f-bf1c95d0759e button');\n",
              "          quickchartButtonEl.style.display =\n",
              "            google.colab.kernel.accessAllowed ? 'block' : 'none';\n",
              "        })();\n",
              "      </script>\n",
              "    </div>\n",
              "\n",
              "    </div>\n",
              "  </div>\n"
            ],
            "application/vnd.google.colaboratory.intrinsic+json": {
              "type": "dataframe",
              "variable_name": "df"
            }
          },
          "metadata": {},
          "execution_count": 3
        }
      ]
    },
    {
      "cell_type": "markdown",
      "source": [
        "___\n",
        "3. ### Column Audit: Identify Data Types & Missing Values  \n",
        "This cell examines which columns in the DataFrame are numeric versus categorical, verifies that the target label is classified correctly, lists the top columns by percentage of missing values, and flags any categorical columns that actually contain mostly numeric data.\n"
      ],
      "metadata": {
        "id": "pPbpOPuiDN_0"
      }
    },
    {
      "cell_type": "code",
      "source": [
        "# Identify numeric columns using pandas\n",
        "numeric_cols = df.select_dtypes(include=['number']).columns.tolist()\n",
        "\n",
        "# Identify categorical columns: those not in numeric_cols or the label\n",
        "categorical_cols = [c for c in df.columns if c not in numeric_cols + [LABEL_COL]]\n",
        "\n",
        "# Print counts of each type\n",
        "print(f\"Numeric columns: {len(numeric_cols)}\")\n",
        "print(f\"Categorical columns: {len(categorical_cols)}\\n\")\n",
        "\n",
        "# Check where LABEL_COL landed\n",
        "print(\"LABEL_COL in numeric_cols?     \", LABEL_COL in numeric_cols)\n",
        "print(\"LABEL_COL in categorical_cols? \", LABEL_COL in categorical_cols)\n",
        "print(\"\")\n",
        "\n",
        "# Compute and sort missing-value percentages\n",
        "missing_pct = df.isna().mean().mul(100).sort_values(ascending=False)\n",
        "\n",
        "# Show the top 10 columns by % missing\n",
        "print(\"Top 10 columns by % missing:\")\n",
        "print(missing_pct.head(10).round(1))\n",
        "\n",
        "# Find any categorical cols that look numeric\n",
        "suspects = []\n",
        "for col in categorical_cols:\n",
        "    coerced = pd.to_numeric(df[col], errors='coerce')\n",
        "    success_ratio = coerced.notna().mean()\n",
        "    if success_ratio > 0.50:   # more than half the entries parse as numbers\n",
        "        suspects.append((col, success_ratio))\n",
        "\n",
        "# Print flagged columns, if any\n",
        "if suspects:\n",
        "    print(\"\\nColumns with mixed types that look numeric:\")\n",
        "    for col, ratio in suspects:\n",
        "        print(f\"  {col:>25s}: {ratio:.2%} rows parse as numeric\")\n",
        "\n",
        "print(\"\\nColumn audit complete.\")\n"
      ],
      "metadata": {
        "colab": {
          "base_uri": "https://localhost:8080/"
        },
        "id": "s0GF0GMlnFRM",
        "outputId": "fb94bd1e-50e8-47ec-dff7-4b68d8261f21"
      },
      "execution_count": null,
      "outputs": [
        {
          "output_type": "stream",
          "name": "stdout",
          "text": [
            "Numeric columns: 52\n",
            "Categorical columns: 21\n",
            "\n",
            "LABEL_COL in numeric_cols?      True\n",
            "LABEL_COL in categorical_cols?  False\n",
            "\n",
            "Top 10 columns by % missing:\n",
            "verification_status_joint    99.9\n",
            "dti_joint                    99.9\n",
            "annual_inc_joint             99.9\n",
            "il_util                      98.6\n",
            "mths_since_rcnt_il           98.5\n",
            "max_bal_bc                   98.4\n",
            "open_acc_6m                  98.4\n",
            "open_rv_24m                  98.4\n",
            "inq_last_12m                 98.4\n",
            "total_cu_tl                  98.4\n",
            "dtype: float64\n",
            "\n",
            "Column audit complete.\n"
          ]
        }
      ]
    },
    {
      "cell_type": "markdown",
      "source": [
        "This reports that there are 52 numeric and 21 categorical features, verifies that the target column default_ind is correctly treated as numeric, shows the top ten features with over 98 % missing values (like verification_status_joint and dti_joint), finds no categorical columns masquerading as numeric, and ends by confirming the audit completed successfully."
      ],
      "metadata": {
        "id": "Q_9OW84fEIF1"
      }
    },
    {
      "cell_type": "markdown",
      "source": [
        "___\n",
        "4. ### Drop Ultra-Sparse Columns & Final Data Cleaning  \n",
        "This cell removes features with ≥50 % missing values, reconfirms numeric vs. categorical counts, converts numeric columns to `float32` (filling NaNs with 0) and categorical columns to strings (filling NaNs with `''`), displays a sample of the cleaned data, and saves it to Drive.\n"
      ],
      "metadata": {
        "id": "0fLKSx--Ex5a"
      }
    },
    {
      "cell_type": "code",
      "source": [
        "# Define threshold for dropping sparse columns\n",
        "MISSING_THRESH = 0.50  # drop any column with ≥50% missing\n",
        "\n",
        "# Identify and drop ultra-sparse columns\n",
        "drop_cols = missing_pct[missing_pct >= MISSING_THRESH*100].index.tolist()\n",
        "df_clean = df.drop(columns=drop_cols)\n",
        "print(f\"Dropped {len(drop_cols)} columns: {drop_cols[:10]}…\\n\")\n",
        "\n",
        "# Recompute numeric and categorical lists\n",
        "numeric_cols     = df_clean.select_dtypes('number').columns.tolist()\n",
        "categorical_cols = [c for c in df_clean.columns if c not in numeric_cols + [LABEL_COL]]\n",
        "print(f\"Now numeric={len(numeric_cols)} | categorical={len(categorical_cols)}\")\n",
        "\n",
        "# Exclude the label and ID fields from feature sets\n",
        "numeric_cols     = [c for c in numeric_cols     if c not in [LABEL_COL, 'id', 'member_id']]\n",
        "categorical_cols = [c for c in categorical_cols if c != LABEL_COL]\n",
        "print(\"Now numeric features:\", len(numeric_cols),\n",
        "      \"categorical features:\", len(categorical_cols))\n",
        "\n",
        "# Convert numeric features: coerce → fillna(0) → float32\n",
        "df_clean[numeric_cols] = (\n",
        "    df_clean[numeric_cols]\n",
        "    .apply(pd.to_numeric, errors='coerce')\n",
        "    .fillna(0.0)\n",
        "    .astype('float32')\n",
        ")\n",
        "\n",
        "#  Convert categorical features: string type → fillna('')\n",
        "for col in categorical_cols:\n",
        "    df_clean[col] = df_clean[col].astype(str).fillna('')\n",
        "\n",
        "#  Show a preview of the cleaned DataFrame\n",
        "print(\"\\nClean-up complete. Sample after cleaning:\")\n",
        "display(df_clean.head())\n",
        "\n",
        "# Save the cleaned DataFrame to Drive for future use\n",
        "CLEAN_PATH = '/content/drive/MyDrive/data3.parquet'\n",
        "df_clean.to_parquet(CLEAN_PATH, index=False)\n",
        "print(f\"\\nSaved cleaned DataFrame to {CLEAN_PATH}\")\n"
      ],
      "metadata": {
        "colab": {
          "base_uri": "https://localhost:8080/",
          "height": 481
        },
        "id": "G-8w0CP0oTDy",
        "outputId": "8217cc02-d5d9-4afd-e579-ea1e9e58e1b9"
      },
      "execution_count": null,
      "outputs": [
        {
          "output_type": "stream",
          "name": "stdout",
          "text": [
            "Dropped 21 columns: ['verification_status_joint', 'dti_joint', 'annual_inc_joint', 'il_util', 'mths_since_rcnt_il', 'max_bal_bc', 'open_acc_6m', 'open_rv_24m', 'inq_last_12m', 'total_cu_tl']…\n",
            "\n",
            "Now numeric=33 | categorical=19\n",
            "Now numeric features: 30 categorical features: 19\n",
            "\n",
            "Clean-up complete. Sample after cleaning:\n"
          ]
        },
        {
          "output_type": "display_data",
          "data": {
            "text/plain": [
              "        id  member_id  loan_amnt  funded_amnt  funded_amnt_inv        term  \\\n",
              "0  1077501    1296599     5000.0       5000.0           4975.0   36 months   \n",
              "1  1077430    1314167     2500.0       2500.0           2500.0   60 months   \n",
              "2  1077175    1313524     2400.0       2400.0           2400.0   36 months   \n",
              "3  1076863    1277178    10000.0      10000.0          10000.0   36 months   \n",
              "4  1075358    1311748     3000.0       3000.0           3000.0   60 months   \n",
              "\n",
              "   int_rate  installment grade sub_grade  ... next_pymnt_d last_credit_pull_d  \\\n",
              "0     10.65   162.869995     B        B2  ...          nan         01-01-2016   \n",
              "1     15.27    59.830002     C        C4  ...          nan         01-09-2013   \n",
              "2     15.96    84.330002     C        C5  ...          nan         01-01-2016   \n",
              "3     13.49   339.309998     C        C1  ...          nan         01-01-2015   \n",
              "4     12.69    67.790001     B        B5  ...   01-02-2016         01-01-2016   \n",
              "\n",
              "  collections_12_mths_ex_med  policy_code application_type acc_now_delinq  \\\n",
              "0                        0.0          1.0       INDIVIDUAL            0.0   \n",
              "1                        0.0          1.0       INDIVIDUAL            0.0   \n",
              "2                        0.0          1.0       INDIVIDUAL            0.0   \n",
              "3                        0.0          1.0       INDIVIDUAL            0.0   \n",
              "4                        0.0          1.0       INDIVIDUAL            0.0   \n",
              "\n",
              "  tot_coll_amt tot_cur_bal total_rev_hi_lim default_ind  \n",
              "0          0.0         0.0              0.0           0  \n",
              "1          0.0         0.0              0.0           1  \n",
              "2          0.0         0.0              0.0           0  \n",
              "3          0.0         0.0              0.0           0  \n",
              "4          0.0         0.0              0.0           0  \n",
              "\n",
              "[5 rows x 52 columns]"
            ],
            "text/html": [
              "\n",
              "  <div id=\"df-8c2b4509-13a2-42eb-9dcb-eb4b534baa48\" class=\"colab-df-container\">\n",
              "    <div>\n",
              "<style scoped>\n",
              "    .dataframe tbody tr th:only-of-type {\n",
              "        vertical-align: middle;\n",
              "    }\n",
              "\n",
              "    .dataframe tbody tr th {\n",
              "        vertical-align: top;\n",
              "    }\n",
              "\n",
              "    .dataframe thead th {\n",
              "        text-align: right;\n",
              "    }\n",
              "</style>\n",
              "<table border=\"1\" class=\"dataframe\">\n",
              "  <thead>\n",
              "    <tr style=\"text-align: right;\">\n",
              "      <th></th>\n",
              "      <th>id</th>\n",
              "      <th>member_id</th>\n",
              "      <th>loan_amnt</th>\n",
              "      <th>funded_amnt</th>\n",
              "      <th>funded_amnt_inv</th>\n",
              "      <th>term</th>\n",
              "      <th>int_rate</th>\n",
              "      <th>installment</th>\n",
              "      <th>grade</th>\n",
              "      <th>sub_grade</th>\n",
              "      <th>...</th>\n",
              "      <th>next_pymnt_d</th>\n",
              "      <th>last_credit_pull_d</th>\n",
              "      <th>collections_12_mths_ex_med</th>\n",
              "      <th>policy_code</th>\n",
              "      <th>application_type</th>\n",
              "      <th>acc_now_delinq</th>\n",
              "      <th>tot_coll_amt</th>\n",
              "      <th>tot_cur_bal</th>\n",
              "      <th>total_rev_hi_lim</th>\n",
              "      <th>default_ind</th>\n",
              "    </tr>\n",
              "  </thead>\n",
              "  <tbody>\n",
              "    <tr>\n",
              "      <th>0</th>\n",
              "      <td>1077501</td>\n",
              "      <td>1296599</td>\n",
              "      <td>5000.0</td>\n",
              "      <td>5000.0</td>\n",
              "      <td>4975.0</td>\n",
              "      <td>36 months</td>\n",
              "      <td>10.65</td>\n",
              "      <td>162.869995</td>\n",
              "      <td>B</td>\n",
              "      <td>B2</td>\n",
              "      <td>...</td>\n",
              "      <td>nan</td>\n",
              "      <td>01-01-2016</td>\n",
              "      <td>0.0</td>\n",
              "      <td>1.0</td>\n",
              "      <td>INDIVIDUAL</td>\n",
              "      <td>0.0</td>\n",
              "      <td>0.0</td>\n",
              "      <td>0.0</td>\n",
              "      <td>0.0</td>\n",
              "      <td>0</td>\n",
              "    </tr>\n",
              "    <tr>\n",
              "      <th>1</th>\n",
              "      <td>1077430</td>\n",
              "      <td>1314167</td>\n",
              "      <td>2500.0</td>\n",
              "      <td>2500.0</td>\n",
              "      <td>2500.0</td>\n",
              "      <td>60 months</td>\n",
              "      <td>15.27</td>\n",
              "      <td>59.830002</td>\n",
              "      <td>C</td>\n",
              "      <td>C4</td>\n",
              "      <td>...</td>\n",
              "      <td>nan</td>\n",
              "      <td>01-09-2013</td>\n",
              "      <td>0.0</td>\n",
              "      <td>1.0</td>\n",
              "      <td>INDIVIDUAL</td>\n",
              "      <td>0.0</td>\n",
              "      <td>0.0</td>\n",
              "      <td>0.0</td>\n",
              "      <td>0.0</td>\n",
              "      <td>1</td>\n",
              "    </tr>\n",
              "    <tr>\n",
              "      <th>2</th>\n",
              "      <td>1077175</td>\n",
              "      <td>1313524</td>\n",
              "      <td>2400.0</td>\n",
              "      <td>2400.0</td>\n",
              "      <td>2400.0</td>\n",
              "      <td>36 months</td>\n",
              "      <td>15.96</td>\n",
              "      <td>84.330002</td>\n",
              "      <td>C</td>\n",
              "      <td>C5</td>\n",
              "      <td>...</td>\n",
              "      <td>nan</td>\n",
              "      <td>01-01-2016</td>\n",
              "      <td>0.0</td>\n",
              "      <td>1.0</td>\n",
              "      <td>INDIVIDUAL</td>\n",
              "      <td>0.0</td>\n",
              "      <td>0.0</td>\n",
              "      <td>0.0</td>\n",
              "      <td>0.0</td>\n",
              "      <td>0</td>\n",
              "    </tr>\n",
              "    <tr>\n",
              "      <th>3</th>\n",
              "      <td>1076863</td>\n",
              "      <td>1277178</td>\n",
              "      <td>10000.0</td>\n",
              "      <td>10000.0</td>\n",
              "      <td>10000.0</td>\n",
              "      <td>36 months</td>\n",
              "      <td>13.49</td>\n",
              "      <td>339.309998</td>\n",
              "      <td>C</td>\n",
              "      <td>C1</td>\n",
              "      <td>...</td>\n",
              "      <td>nan</td>\n",
              "      <td>01-01-2015</td>\n",
              "      <td>0.0</td>\n",
              "      <td>1.0</td>\n",
              "      <td>INDIVIDUAL</td>\n",
              "      <td>0.0</td>\n",
              "      <td>0.0</td>\n",
              "      <td>0.0</td>\n",
              "      <td>0.0</td>\n",
              "      <td>0</td>\n",
              "    </tr>\n",
              "    <tr>\n",
              "      <th>4</th>\n",
              "      <td>1075358</td>\n",
              "      <td>1311748</td>\n",
              "      <td>3000.0</td>\n",
              "      <td>3000.0</td>\n",
              "      <td>3000.0</td>\n",
              "      <td>60 months</td>\n",
              "      <td>12.69</td>\n",
              "      <td>67.790001</td>\n",
              "      <td>B</td>\n",
              "      <td>B5</td>\n",
              "      <td>...</td>\n",
              "      <td>01-02-2016</td>\n",
              "      <td>01-01-2016</td>\n",
              "      <td>0.0</td>\n",
              "      <td>1.0</td>\n",
              "      <td>INDIVIDUAL</td>\n",
              "      <td>0.0</td>\n",
              "      <td>0.0</td>\n",
              "      <td>0.0</td>\n",
              "      <td>0.0</td>\n",
              "      <td>0</td>\n",
              "    </tr>\n",
              "  </tbody>\n",
              "</table>\n",
              "<p>5 rows × 52 columns</p>\n",
              "</div>\n",
              "    <div class=\"colab-df-buttons\">\n",
              "\n",
              "  <div class=\"colab-df-container\">\n",
              "    <button class=\"colab-df-convert\" onclick=\"convertToInteractive('df-8c2b4509-13a2-42eb-9dcb-eb4b534baa48')\"\n",
              "            title=\"Convert this dataframe to an interactive table.\"\n",
              "            style=\"display:none;\">\n",
              "\n",
              "  <svg xmlns=\"http://www.w3.org/2000/svg\" height=\"24px\" viewBox=\"0 -960 960 960\">\n",
              "    <path d=\"M120-120v-720h720v720H120Zm60-500h600v-160H180v160Zm220 220h160v-160H400v160Zm0 220h160v-160H400v160ZM180-400h160v-160H180v160Zm440 0h160v-160H620v160ZM180-180h160v-160H180v160Zm440 0h160v-160H620v160Z\"/>\n",
              "  </svg>\n",
              "    </button>\n",
              "\n",
              "  <style>\n",
              "    .colab-df-container {\n",
              "      display:flex;\n",
              "      gap: 12px;\n",
              "    }\n",
              "\n",
              "    .colab-df-convert {\n",
              "      background-color: #E8F0FE;\n",
              "      border: none;\n",
              "      border-radius: 50%;\n",
              "      cursor: pointer;\n",
              "      display: none;\n",
              "      fill: #1967D2;\n",
              "      height: 32px;\n",
              "      padding: 0 0 0 0;\n",
              "      width: 32px;\n",
              "    }\n",
              "\n",
              "    .colab-df-convert:hover {\n",
              "      background-color: #E2EBFA;\n",
              "      box-shadow: 0px 1px 2px rgba(60, 64, 67, 0.3), 0px 1px 3px 1px rgba(60, 64, 67, 0.15);\n",
              "      fill: #174EA6;\n",
              "    }\n",
              "\n",
              "    .colab-df-buttons div {\n",
              "      margin-bottom: 4px;\n",
              "    }\n",
              "\n",
              "    [theme=dark] .colab-df-convert {\n",
              "      background-color: #3B4455;\n",
              "      fill: #D2E3FC;\n",
              "    }\n",
              "\n",
              "    [theme=dark] .colab-df-convert:hover {\n",
              "      background-color: #434B5C;\n",
              "      box-shadow: 0px 1px 3px 1px rgba(0, 0, 0, 0.15);\n",
              "      filter: drop-shadow(0px 1px 2px rgba(0, 0, 0, 0.3));\n",
              "      fill: #FFFFFF;\n",
              "    }\n",
              "  </style>\n",
              "\n",
              "    <script>\n",
              "      const buttonEl =\n",
              "        document.querySelector('#df-8c2b4509-13a2-42eb-9dcb-eb4b534baa48 button.colab-df-convert');\n",
              "      buttonEl.style.display =\n",
              "        google.colab.kernel.accessAllowed ? 'block' : 'none';\n",
              "\n",
              "      async function convertToInteractive(key) {\n",
              "        const element = document.querySelector('#df-8c2b4509-13a2-42eb-9dcb-eb4b534baa48');\n",
              "        const dataTable =\n",
              "          await google.colab.kernel.invokeFunction('convertToInteractive',\n",
              "                                                    [key], {});\n",
              "        if (!dataTable) return;\n",
              "\n",
              "        const docLinkHtml = 'Like what you see? Visit the ' +\n",
              "          '<a target=\"_blank\" href=https://colab.research.google.com/notebooks/data_table.ipynb>data table notebook</a>'\n",
              "          + ' to learn more about interactive tables.';\n",
              "        element.innerHTML = '';\n",
              "        dataTable['output_type'] = 'display_data';\n",
              "        await google.colab.output.renderOutput(dataTable, element);\n",
              "        const docLink = document.createElement('div');\n",
              "        docLink.innerHTML = docLinkHtml;\n",
              "        element.appendChild(docLink);\n",
              "      }\n",
              "    </script>\n",
              "  </div>\n",
              "\n",
              "\n",
              "    <div id=\"df-285779c3-1a74-4be5-b784-36ea6b9f90d6\">\n",
              "      <button class=\"colab-df-quickchart\" onclick=\"quickchart('df-285779c3-1a74-4be5-b784-36ea6b9f90d6')\"\n",
              "                title=\"Suggest charts\"\n",
              "                style=\"display:none;\">\n",
              "\n",
              "<svg xmlns=\"http://www.w3.org/2000/svg\" height=\"24px\"viewBox=\"0 0 24 24\"\n",
              "     width=\"24px\">\n",
              "    <g>\n",
              "        <path d=\"M19 3H5c-1.1 0-2 .9-2 2v14c0 1.1.9 2 2 2h14c1.1 0 2-.9 2-2V5c0-1.1-.9-2-2-2zM9 17H7v-7h2v7zm4 0h-2V7h2v10zm4 0h-2v-4h2v4z\"/>\n",
              "    </g>\n",
              "</svg>\n",
              "      </button>\n",
              "\n",
              "<style>\n",
              "  .colab-df-quickchart {\n",
              "      --bg-color: #E8F0FE;\n",
              "      --fill-color: #1967D2;\n",
              "      --hover-bg-color: #E2EBFA;\n",
              "      --hover-fill-color: #174EA6;\n",
              "      --disabled-fill-color: #AAA;\n",
              "      --disabled-bg-color: #DDD;\n",
              "  }\n",
              "\n",
              "  [theme=dark] .colab-df-quickchart {\n",
              "      --bg-color: #3B4455;\n",
              "      --fill-color: #D2E3FC;\n",
              "      --hover-bg-color: #434B5C;\n",
              "      --hover-fill-color: #FFFFFF;\n",
              "      --disabled-bg-color: #3B4455;\n",
              "      --disabled-fill-color: #666;\n",
              "  }\n",
              "\n",
              "  .colab-df-quickchart {\n",
              "    background-color: var(--bg-color);\n",
              "    border: none;\n",
              "    border-radius: 50%;\n",
              "    cursor: pointer;\n",
              "    display: none;\n",
              "    fill: var(--fill-color);\n",
              "    height: 32px;\n",
              "    padding: 0;\n",
              "    width: 32px;\n",
              "  }\n",
              "\n",
              "  .colab-df-quickchart:hover {\n",
              "    background-color: var(--hover-bg-color);\n",
              "    box-shadow: 0 1px 2px rgba(60, 64, 67, 0.3), 0 1px 3px 1px rgba(60, 64, 67, 0.15);\n",
              "    fill: var(--button-hover-fill-color);\n",
              "  }\n",
              "\n",
              "  .colab-df-quickchart-complete:disabled,\n",
              "  .colab-df-quickchart-complete:disabled:hover {\n",
              "    background-color: var(--disabled-bg-color);\n",
              "    fill: var(--disabled-fill-color);\n",
              "    box-shadow: none;\n",
              "  }\n",
              "\n",
              "  .colab-df-spinner {\n",
              "    border: 2px solid var(--fill-color);\n",
              "    border-color: transparent;\n",
              "    border-bottom-color: var(--fill-color);\n",
              "    animation:\n",
              "      spin 1s steps(1) infinite;\n",
              "  }\n",
              "\n",
              "  @keyframes spin {\n",
              "    0% {\n",
              "      border-color: transparent;\n",
              "      border-bottom-color: var(--fill-color);\n",
              "      border-left-color: var(--fill-color);\n",
              "    }\n",
              "    20% {\n",
              "      border-color: transparent;\n",
              "      border-left-color: var(--fill-color);\n",
              "      border-top-color: var(--fill-color);\n",
              "    }\n",
              "    30% {\n",
              "      border-color: transparent;\n",
              "      border-left-color: var(--fill-color);\n",
              "      border-top-color: var(--fill-color);\n",
              "      border-right-color: var(--fill-color);\n",
              "    }\n",
              "    40% {\n",
              "      border-color: transparent;\n",
              "      border-right-color: var(--fill-color);\n",
              "      border-top-color: var(--fill-color);\n",
              "    }\n",
              "    60% {\n",
              "      border-color: transparent;\n",
              "      border-right-color: var(--fill-color);\n",
              "    }\n",
              "    80% {\n",
              "      border-color: transparent;\n",
              "      border-right-color: var(--fill-color);\n",
              "      border-bottom-color: var(--fill-color);\n",
              "    }\n",
              "    90% {\n",
              "      border-color: transparent;\n",
              "      border-bottom-color: var(--fill-color);\n",
              "    }\n",
              "  }\n",
              "</style>\n",
              "\n",
              "      <script>\n",
              "        async function quickchart(key) {\n",
              "          const quickchartButtonEl =\n",
              "            document.querySelector('#' + key + ' button');\n",
              "          quickchartButtonEl.disabled = true;  // To prevent multiple clicks.\n",
              "          quickchartButtonEl.classList.add('colab-df-spinner');\n",
              "          try {\n",
              "            const charts = await google.colab.kernel.invokeFunction(\n",
              "                'suggestCharts', [key], {});\n",
              "          } catch (error) {\n",
              "            console.error('Error during call to suggestCharts:', error);\n",
              "          }\n",
              "          quickchartButtonEl.classList.remove('colab-df-spinner');\n",
              "          quickchartButtonEl.classList.add('colab-df-quickchart-complete');\n",
              "        }\n",
              "        (() => {\n",
              "          let quickchartButtonEl =\n",
              "            document.querySelector('#df-285779c3-1a74-4be5-b784-36ea6b9f90d6 button');\n",
              "          quickchartButtonEl.style.display =\n",
              "            google.colab.kernel.accessAllowed ? 'block' : 'none';\n",
              "        })();\n",
              "      </script>\n",
              "    </div>\n",
              "\n",
              "    </div>\n",
              "  </div>\n"
            ],
            "application/vnd.google.colaboratory.intrinsic+json": {
              "type": "dataframe"
            }
          },
          "metadata": {}
        },
        {
          "output_type": "stream",
          "name": "stdout",
          "text": [
            "\n",
            "Saved cleaned DataFrame to /content/drive/MyDrive/data3.parquet\n"
          ]
        }
      ]
    },
    {
      "cell_type": "markdown",
      "source": [
        "This cell drops 21 features that had over 50 % missing values, leaving 30 numeric and 19 categorical features (excluding the label and ID columns). It then fills numeric NaNs with 0 (and casts to float32) and fills categorical NaNs with empty strings, prints the first five rows of the fully cleaned DataFrame, and writes the result to Drive at /content/drive/MyDrive/data3.parquet."
      ],
      "metadata": {
        "id": "58o4vRh7FNeB"
      }
    },
    {
      "cell_type": "markdown",
      "source": [
        "___\n",
        "5. ### Reload Cleaned DataFrame  \n"
      ],
      "metadata": {
        "id": "KxvSGz_-FrJB"
      }
    },
    {
      "cell_type": "code",
      "source": [
        "CLEAN_PATH = '/content/drive/MyDrive/data3.parquet'\n",
        "\n",
        "# Read the Parquet file into a DataFrame named df\n",
        "df = pd.read_parquet(CLEAN_PATH)\n",
        "\n",
        "# Print the DataFrame’s shape (rows × columns) to verify load\n",
        "print(\"Loaded df:\", df.shape)\n"
      ],
      "metadata": {
        "colab": {
          "base_uri": "https://localhost:8080/"
        },
        "id": "YMKqRC8FV6rd",
        "outputId": "80b772f4-d7a4-484d-d55b-e45e127f3c60"
      },
      "execution_count": null,
      "outputs": [
        {
          "output_type": "stream",
          "name": "stdout",
          "text": [
            "Loaded df: (855969, 52)\n"
          ]
        }
      ]
    },
    {
      "cell_type": "markdown",
      "source": [
        "___\n",
        "6. ### Identify Top Correlated Features  \n",
        "This cell computes the absolute Pearson correlation between each feature and the target `default_ind`, and lists the features most strongly associated with loan default.\n"
      ],
      "metadata": {
        "id": "iIiqIBqTG9Hd"
      }
    },
    {
      "cell_type": "code",
      "source": [
        "import warnings\n",
        "warnings.filterwarnings(\"ignore\")\n",
        "\n",
        "# Combine numeric and categorical feature lists\n",
        "features = numeric_cols + categorical_cols\n",
        "\n",
        "# Compute absolute correlation of each feature with the target\n",
        "corrs = df_clean[features] \\\n",
        "    .apply(lambda col: pd.to_numeric(col, errors='coerce')\n",
        "                         .corr(df_clean[LABEL_COL])) \\\n",
        "    .abs() \\\n",
        "    .sort_values(ascending=False)\n",
        "\n",
        "# Print the top 10 features by absolute correlation\n",
        "print(\"Top 10 features by |corr|:\", corrs.head(10))\n"
      ],
      "metadata": {
        "colab": {
          "base_uri": "https://localhost:8080/"
        },
        "id": "psELdoovWRxD",
        "outputId": "b946881e-691b-44e1-f865-f69d3bfa895e"
      },
      "execution_count": null,
      "outputs": [
        {
          "output_type": "stream",
          "name": "stdout",
          "text": [
            "Top 10 features by |corr|: recoveries                 0.475738\n",
            "collection_recovery_fee    0.330764\n",
            "out_prncp                  0.225960\n",
            "out_prncp_inv              0.225959\n",
            "int_rate                   0.155037\n",
            "total_rec_late_fee         0.140760\n",
            "total_rec_prncp            0.090336\n",
            "last_pymnt_amnt            0.087217\n",
            "inq_last_6mths             0.074407\n",
            "tot_cur_bal                0.061478\n",
            "dtype: float64\n"
          ]
        }
      ]
    },
    {
      "cell_type": "markdown",
      "source": [
        "The output ranks features by how strongly they move with default_ind. recoveries tops the list (~ 0.476), followed by collection_recovery_fee (~ 0.331), showing that post‐charge‐off recoveries are highly predictive of default. Other repayment and balance fields like out_prncp, int_rate, and total_rec_late_fee also exhibit notable correlations, guiding which variables to prioritize in my model."
      ],
      "metadata": {
        "id": "h3z6dm7sHa6x"
      }
    },
    {
      "cell_type": "markdown",
      "source": [
        "___\n",
        "7. ### Remove Leaky and Identifier Columns  \n",
        "In this cell, I drop any columns that leak future information (like repayment amounts or dates) and identifiers (`id`, `member_id`, `policy_code`), leaving only predictors that would be known at loan issue time.\n"
      ],
      "metadata": {
        "id": "pHrYvKWiJVzx"
      }
    },
    {
      "cell_type": "code",
      "source": [
        "# Define columns to drop because they leak future info or are just IDs\n",
        "leak_cols = [\n",
        "  'recoveries',\n",
        "  'collection_recovery_fee',\n",
        "  'out_prncp',\n",
        "  'out_prncp_inv',\n",
        "  'total_rec_late_fee',\n",
        "  'total_rec_prncp',\n",
        "  'last_pymnt_amnt',\n",
        "  'id',\n",
        "  'member_id',\n",
        "  'last_pymnt_d',\n",
        "  'next_pymnt_d',\n",
        "  'last_credit_pull_d',\n",
        "  'issue_d',\n",
        "  'total_rec_int',\n",
        "  'total_pymnt',\n",
        "  'total_pymnt_inv',\n",
        "  'tot_coll_amt',\n",
        "  'collections_12_mths_ex_med',\n",
        "  'policy_code'\n",
        "]\n",
        "\n",
        "# Drop those leaky columns from the cleaned DataFrame\n",
        "df_noleak1 = df_clean.drop(columns = leak_cols)\n",
        "\n",
        "# Show the shape (rows × columns) after removal\n",
        "print(\"New Shape: \", df_noleak1.shape)"
      ],
      "metadata": {
        "colab": {
          "base_uri": "https://localhost:8080/"
        },
        "id": "BQNdUN1eXHAK",
        "outputId": "bdde0868-a813-42de-c687-5bac12b5880f"
      },
      "execution_count": null,
      "outputs": [
        {
          "output_type": "stream",
          "name": "stdout",
          "text": [
            "New Shape:  (855969, 33)\n"
          ]
        }
      ]
    },
    {
      "cell_type": "markdown",
      "source": [
        "Here I’ve removed 19 leaky or ID columns, so my new DataFrame df_noleak1 still has 855,969 rows but now only 33 columns (instead of 52). This means I’m left with features that would actually be available at the time of prediction."
      ],
      "metadata": {
        "id": "6_o8OEYZIsXX"
      }
    },
    {
      "cell_type": "markdown",
      "source": [
        "___\n",
        "8. ### Split Data into Training, Validation, and Test Sets and Save Splits  \n",
        "This cell partitions the cleaned, leak-free DataFrame into training (70 %), validation (15 %), and test (15 %) sets, checks that each maintains the same default rate, and writes each subset to Drive for future reuse.\n"
      ],
      "metadata": {
        "id": "46htmAzTLQhi"
      }
    },
    {
      "cell_type": "code",
      "source": [
        "# Split df_noleak1 into 70% train and 30% temp (for validation + test)\n",
        "train_df, temp_df = train_test_split(\n",
        "    df_noleak1,\n",
        "    test_size=0.30,\n",
        "    stratify=df_clean[LABEL_COL],  # keep the same default rate in each split\n",
        "    random_state=42                # for reproducibility\n",
        ")\n",
        "\n",
        "# Split temp_df equally into validation and test (each 15% of original)\n",
        "val_df, test_df = train_test_split(\n",
        "    temp_df,\n",
        "    test_size=0.50,\n",
        "    stratify=temp_df[LABEL_COL],   # maintain target balance\n",
        "    random_state=42\n",
        ")\n",
        "\n",
        "# Print row counts for each subset\n",
        "print(f\"Rows → train: {len(train_df):,},  val: {len(val_df):,},  test: {len(test_df):,}\")\n",
        "\n",
        "# Sanity-check: print default rate in each split\n",
        "for name, part in zip(['train', 'val', 'test'], [train_df, val_df, test_df]):\n",
        "    print(f\"{name} default-rate: {part[LABEL_COL].mean():.2%}\")\n",
        "\n",
        "# Save each split to Drive as a Parquet file\n",
        "train_df.to_parquet('/content/drive/MyDrive/loans_train2.parquet', index=False)\n",
        "val_df.to_parquet('/content/drive/MyDrive/loans_val2.parquet',   index=False)\n",
        "test_df.to_parquet('/content/drive/MyDrive/loans_test2.parquet', index=False)\n",
        "print(\"\\nSaved the three splits to Drive.\")\n"
      ],
      "metadata": {
        "colab": {
          "base_uri": "https://localhost:8080/"
        },
        "id": "Ma7p3m68oj-G",
        "outputId": "9084c60f-6fbd-4100-a007-dbc87732aac7"
      },
      "execution_count": null,
      "outputs": [
        {
          "output_type": "stream",
          "name": "stdout",
          "text": [
            "Rows → train: 599,178,  val: 128,395,  test: 128,396\n",
            "train default-rate: 5.43%\n",
            "val default-rate: 5.43%\n",
            "test default-rate: 5.43%\n",
            "\n",
            "Saved the three splits to Drive.\n"
          ]
        }
      ]
    },
    {
      "cell_type": "markdown",
      "source": [
        "This cell confirms that the data was split into 599,178 training rows, 128,395 validation rows, and 128,396 test rows, each preserving a default rate of 5.43 %. It then saves all three subsets to Google Drive so you can reload them later without repeating the cleaning steps."
      ],
      "metadata": {
        "id": "2dv7ZEg-LwT6"
      }
    },
    {
      "cell_type": "markdown",
      "source": [
        "___\n",
        "9. ### Refresh Feature Lists for Model Input  \n",
        "This cell recalculates which columns in the training DataFrame are numeric (excluding the target) and which are categorical, so we know how to preprocess each type.\n"
      ],
      "metadata": {
        "id": "PJeKB3FIMlBV"
      }
    },
    {
      "cell_type": "code",
      "source": [
        "# Specify the target column name\n",
        "LABEL_COL = 'default_ind'\n",
        "\n",
        "# Numeric features: all number-dtype columns except the label\n",
        "numeric_cols = train_df \\\n",
        "    .select_dtypes(include=['number']) \\\n",
        "    .columns \\\n",
        "    .drop(LABEL_COL) \\\n",
        "    .tolist()\n",
        "\n",
        "# Categorical features: every other column except the label\n",
        "categorical_cols = [\n",
        "    c for c in train_df.columns\n",
        "    if c not in numeric_cols + [LABEL_COL]\n",
        "]\n",
        "\n",
        "# Print counts to verify we have the right feature split\n",
        "print(f\"Refreshed features → {len(numeric_cols)} numerics, {len(categorical_cols)} categoricals\")\n"
      ],
      "metadata": {
        "colab": {
          "base_uri": "https://localhost:8080/"
        },
        "id": "_206nQvkaieK",
        "outputId": "b2f50f16-3258-4757-a751-0b648dfc50fe"
      },
      "execution_count": null,
      "outputs": [
        {
          "output_type": "stream",
          "name": "stdout",
          "text": [
            "Refreshed features → 17 numerics, 15 categoricals\n"
          ]
        }
      ]
    },
    {
      "cell_type": "markdown",
      "source": [
        "This tells me that out of all columns in the training set, 17 are numeric features (excluding default_ind) and 15 are categorical. Now I know exactly which variables to scale or encode in the next preprocessing steps."
      ],
      "metadata": {
        "id": "ZT6XfSreM4Nu"
      }
    },
    {
      "cell_type": "markdown",
      "source": [
        "___\n",
        "10. ### Encode Categorical Features and Prepare Model Inputs  \n",
        "This cell reloads the train/val/test splits, drops text columns with too many unique values, splits the remaining categoricals into low- vs. mid-cardinality groups for one-hot vs. ordinal encoding, aligns all three DataFrames so they share the same columns, and finally converts each set into NumPy arrays (`X_…` and `y_…`) ready for model training and evaluation.\n"
      ],
      "metadata": {
        "id": "67A9FZLZNf08"
      }
    },
    {
      "cell_type": "code",
      "source": [
        "# Reload each split from Drive\n",
        "train_df = pd.read_parquet('/content/drive/MyDrive/loans_train2.parquet')\n",
        "val_df   = pd.read_parquet('/content/drive/MyDrive/loans_val2.parquet')\n",
        "test_df  = pd.read_parquet('/content/drive/MyDrive/loans_test2.parquet')\n",
        "\n",
        "# Find all object-dtype (string) columns\n",
        "obj_cols = train_df.select_dtypes(include=['object']).columns.tolist()\n",
        "print(\"All string cols:\", obj_cols)\n",
        "\n",
        "# Drop truly high-cardinality fields (>20 unique values)\n",
        "high_card_threshold = 20\n",
        "high_card = [c for c in obj_cols if train_df[c].nunique() > high_card_threshold]\n",
        "print(\"Dropping:\", high_card)\n",
        "train_df.drop(high_card, axis=1, inplace=True)\n",
        "val_df  .drop(high_card, axis=1, inplace=True)\n",
        "test_df .drop(high_card, axis=1, inplace=True)\n",
        "\n",
        "# Recompute remaining categorical columns\n",
        "cat_cols = train_df.select_dtypes(include=['object']).columns.tolist()\n",
        "print(\"To encode:\", cat_cols)\n",
        "\n",
        "# Split into low vs. mid cardinality\n",
        "low_card = [c for c in cat_cols if train_df[c].nunique() <= 10]   # ≤10 → one-hot\n",
        "mid_card = [c for c in cat_cols if 10 < train_df[c].nunique() <= high_card_threshold]  # 11–20 → ordinal\n",
        "print(\"One-hot:\", low_card)\n",
        "print(\"Label/freq-encode:\", mid_card)\n",
        "\n",
        "# One-hot encode low-cardinality columns\n",
        "train_df = pd.get_dummies(train_df, columns=low_card, drop_first=True)\n",
        "val_df   = pd.get_dummies(val_df,   columns=low_card, drop_first=True)\n",
        "test_df  = pd.get_dummies(test_df,  columns=low_card, drop_first=True)\n",
        "\n",
        "# Ordinal-encode mid-cardinality columns\n",
        "from sklearn.preprocessing import OrdinalEncoder\n",
        "ord_enc = OrdinalEncoder(handle_unknown='use_encoded_value', unknown_value=-1)\n",
        "train_df[mid_card] = ord_enc.fit_transform(train_df[mid_card])\n",
        "val_df[mid_card]   = ord_enc.transform(val_df[mid_card])\n",
        "test_df[mid_card]  = ord_enc.transform(test_df[mid_card])\n",
        "\n",
        "# Align train/val/test so they share identical columns\n",
        "train_df, val_df  = train_df.align(val_df,  join='left', axis=1, fill_value=0)\n",
        "train_df, test_df = train_df.align(test_df, join='left', axis=1, fill_value=0)\n",
        "\n",
        "# Split out features and target, cast to float32 for model input\n",
        "TARGET = 'default_ind'\n",
        "X_train = train_df.drop(TARGET, axis=1).values.astype('float32')\n",
        "y_train = train_df[TARGET].values\n",
        "X_val   = val_df.drop(TARGET,   axis=1).values.astype('float32')\n",
        "y_val   = val_df[TARGET].values\n",
        "X_test  = test_df.drop(TARGET,  axis=1).values.astype('float32')\n",
        "y_test  = test_df[TARGET].values\n"
      ],
      "metadata": {
        "id": "T6c9lD7suhPL",
        "colab": {
          "base_uri": "https://localhost:8080/"
        },
        "outputId": "d2c47c28-3719-44d5-8a05-12d45ba0707b"
      },
      "execution_count": null,
      "outputs": [
        {
          "output_type": "stream",
          "name": "stdout",
          "text": [
            "All string cols: ['term', 'grade', 'sub_grade', 'emp_title', 'emp_length', 'home_ownership', 'verification_status', 'pymnt_plan', 'purpose', 'title', 'zip_code', 'addr_state', 'earliest_cr_line', 'initial_list_status', 'application_type']\n",
            "Dropping: ['sub_grade', 'emp_title', 'title', 'zip_code', 'addr_state', 'earliest_cr_line']\n",
            "To encode: ['term', 'grade', 'emp_length', 'home_ownership', 'verification_status', 'pymnt_plan', 'purpose', 'initial_list_status', 'application_type']\n",
            "One-hot: ['term', 'grade', 'home_ownership', 'verification_status', 'pymnt_plan', 'initial_list_status', 'application_type']\n",
            "Label/freq-encode: ['emp_length', 'purpose']\n"
          ]
        }
      ]
    },
    {
      "cell_type": "markdown",
      "source": [
        "In this step, I loaded my saved splits and listed all text columns. I dropped columns like emp_title and zip_code because they had over 20,000 unique values. From the remaining nine string features, I one-hot encoded those with ≤10 categories (e.g., term, grade) and ordinal-encoded the two mid-cardinality ones (emp_length, purpose). Then I aligned train/val/test so they have exactly the same set of feature columns and finally created X_… and y_… NumPy arrays with the correct shapes and data types, ready for model training and evaluation."
      ],
      "metadata": {
        "id": "7Tphma66OBfX"
      }
    },
    {
      "cell_type": "markdown",
      "source": [
        "___\n",
        "11. ### Verify Final Dataset Shapes  \n",
        "This cell prints the shapes of the feature arrays (`X_…`) and target vectors (`y_…`) for the training, validation, and test sets to confirm we have the expected number of examples and features.\n"
      ],
      "metadata": {
        "id": "9Xfq54s_OsvU"
      }
    },
    {
      "cell_type": "code",
      "source": [
        "# Print the number of rows and columns in each array\n",
        "print(\"X_train:\", X_train.shape, \"y_train:\", y_train.shape)\n",
        "print(\"X_val:  \", X_val.shape,   \"y_val:  \",   y_val.shape)\n",
        "print(\"X_test: \", X_test.shape,  \"y_test: \",  y_test.shape)\n"
      ],
      "metadata": {
        "colab": {
          "base_uri": "https://localhost:8080/"
        },
        "id": "ZMDwoyn3zjFF",
        "outputId": "cca592fa-6442-4157-cace-1613b641cff9"
      },
      "execution_count": null,
      "outputs": [
        {
          "output_type": "stream",
          "name": "stdout",
          "text": [
            "X_train: (599178, 36) y_train: (599178,)\n",
            "X_val:   (128395, 36) y_val:   (128395,)\n",
            "X_test:  (128396, 36) y_test:  (128396,)\n"
          ]
        }
      ]
    },
    {
      "cell_type": "markdown",
      "source": [
        "I can see that X_train has 599,178 rows and 36 columns (features), with y_train matching 599,178 labels. The validation set has 128,395 rows × 36 features, and the test set has 128,396 rows × 36 features, each with the same number of target values. This confirms my data splits and encoding steps produced consistent arrays ready for model training and evaluation."
      ],
      "metadata": {
        "id": "VerXNAofOy8d"
      }
    },
    {
      "cell_type": "markdown",
      "source": [
        "___\n",
        "12. ### Build and Train a Tiny 1D CNN  \n",
        "In this cell, I define a simple 1D convolutional neural network to predict loan defaults, compile it for binary classification, set up early stopping on validation loss, and then train it for up to 15 epochs using my preprocessed data.\n"
      ],
      "metadata": {
        "id": "lPgvGsbSQsbf"
      }
    },
    {
      "cell_type": "code",
      "source": [
        "# Number of input features\n",
        "num_features = X_train.shape[1]\n",
        "\n",
        "# Build a Sequential model\n",
        "model = Sequential([\n",
        "    # Reshape the flat feature vector into (steps, channels) for Conv1D\n",
        "    Reshape((num_features, 1), input_shape=(num_features,)),\n",
        "\n",
        "    # First convolution: 16 filters, kernel size 3, ReLU activation\n",
        "    Conv1D(16, 3, activation='relu', padding='same'),\n",
        "\n",
        "    # Second convolution: 8 filters, kernel size 3, ReLU activation\n",
        "    Conv1D(8, 3, activation='relu', padding='same'),\n",
        "\n",
        "    # Global max pooling to collapse the time dimension\n",
        "    GlobalMaxPooling1D(),\n",
        "\n",
        "    # Final dense layer with sigmoid to output probability of default\n",
        "    Dense(1, activation='sigmoid'),\n",
        "])\n",
        "\n",
        "# Compile the model with Adam optimizer and binary crossentropy loss\n",
        "model.compile(\n",
        "    optimizer='adam',\n",
        "    loss='binary_crossentropy',\n",
        "    metrics=['accuracy', tf.keras.metrics.AUC(name='auc')]\n",
        ")\n",
        "\n",
        "# Early stopping callback: stop if validation loss doesn't improve for 3 epochs\n",
        "es = EarlyStopping(monitor='val_loss', patience=3, restore_best_weights=True)\n",
        "\n",
        "# Train the model, validating on the hold-out set\n",
        "history = model.fit(\n",
        "    X_train, y_train,\n",
        "    validation_data=(X_val, y_val),\n",
        "    epochs=15,\n",
        "    batch_size=32,\n",
        "    callbacks=[es]\n",
        ")\n",
        "\n"
      ],
      "metadata": {
        "colab": {
          "base_uri": "https://localhost:8080/"
        },
        "id": "-5m5rrBR33Cj",
        "outputId": "27c79c26-cf58-4325-ace9-64986d3faae5"
      },
      "execution_count": null,
      "outputs": [
        {
          "output_type": "stream",
          "name": "stdout",
          "text": [
            "Epoch 1/15\n",
            "\u001b[1m18725/18725\u001b[0m \u001b[32m━━━━━━━━━━━━━━━━━━━━\u001b[0m\u001b[37m\u001b[0m \u001b[1m65s\u001b[0m 3ms/step - accuracy: 0.8951 - auc: 0.5028 - loss: 261.9832 - val_accuracy: 0.9457 - val_auc: 0.5002 - val_loss: 9.5268\n",
            "Epoch 2/15\n",
            "\u001b[1m18725/18725\u001b[0m \u001b[32m━━━━━━━━━━━━━━━━━━━━\u001b[0m\u001b[37m\u001b[0m \u001b[1m77s\u001b[0m 3ms/step - accuracy: 0.9008 - auc: 0.5093 - loss: 11.1767 - val_accuracy: 0.9457 - val_auc: 0.5097 - val_loss: 1.8090\n",
            "Epoch 3/15\n",
            "\u001b[1m18725/18725\u001b[0m \u001b[32m━━━━━━━━━━━━━━━━━━━━\u001b[0m\u001b[37m\u001b[0m \u001b[1m81s\u001b[0m 3ms/step - accuracy: 0.9013 - auc: 0.5184 - loss: 3.0698 - val_accuracy: 0.7869 - val_auc: 0.5425 - val_loss: 0.5479\n",
            "Epoch 4/15\n",
            "\u001b[1m18725/18725\u001b[0m \u001b[32m━━━━━━━━━━━━━━━━━━━━\u001b[0m\u001b[37m\u001b[0m \u001b[1m59s\u001b[0m 3ms/step - accuracy: 0.9427 - auc: 0.5793 - loss: 0.2754 - val_accuracy: 0.9457 - val_auc: 0.6613 - val_loss: 0.2035\n",
            "Epoch 5/15\n",
            "\u001b[1m18725/18725\u001b[0m \u001b[32m━━━━━━━━━━━━━━━━━━━━\u001b[0m\u001b[37m\u001b[0m \u001b[1m82s\u001b[0m 3ms/step - accuracy: 0.9456 - auc: 0.6678 - loss: 0.2019 - val_accuracy: 0.9457 - val_auc: 0.6814 - val_loss: 0.2004\n",
            "Epoch 6/15\n",
            "\u001b[1m18725/18725\u001b[0m \u001b[32m━━━━━━━━━━━━━━━━━━━━\u001b[0m\u001b[37m\u001b[0m \u001b[1m83s\u001b[0m 3ms/step - accuracy: 0.9465 - auc: 0.6782 - loss: 0.1979 - val_accuracy: 0.9457 - val_auc: 0.6901 - val_loss: 0.1983\n",
            "Epoch 7/15\n",
            "\u001b[1m18725/18725\u001b[0m \u001b[32m━━━━━━━━━━━━━━━━━━━━\u001b[0m\u001b[37m\u001b[0m \u001b[1m59s\u001b[0m 3ms/step - accuracy: 0.9457 - auc: 0.6829 - loss: 0.2053 - val_accuracy: 0.9457 - val_auc: 0.6935 - val_loss: 0.1981\n",
            "Epoch 8/15\n",
            "\u001b[1m18725/18725\u001b[0m \u001b[32m━━━━━━━━━━━━━━━━━━━━\u001b[0m\u001b[37m\u001b[0m \u001b[1m60s\u001b[0m 3ms/step - accuracy: 0.9455 - auc: 0.6930 - loss: 0.1991 - val_accuracy: 0.9457 - val_auc: 0.6975 - val_loss: 0.1979\n",
            "Epoch 9/15\n",
            "\u001b[1m18725/18725\u001b[0m \u001b[32m━━━━━━━━━━━━━━━━━━━━\u001b[0m\u001b[37m\u001b[0m \u001b[1m82s\u001b[0m 3ms/step - accuracy: 0.9458 - auc: 0.6940 - loss: 0.1983 - val_accuracy: 0.9457 - val_auc: 0.6965 - val_loss: 0.1977\n",
            "Epoch 10/15\n",
            "\u001b[1m18725/18725\u001b[0m \u001b[32m━━━━━━━━━━━━━━━━━━━━\u001b[0m\u001b[37m\u001b[0m \u001b[1m80s\u001b[0m 3ms/step - accuracy: 0.9453 - auc: 0.6913 - loss: 0.1995 - val_accuracy: 0.9457 - val_auc: 0.6973 - val_loss: 0.1975\n",
            "Epoch 11/15\n",
            "\u001b[1m18725/18725\u001b[0m \u001b[32m━━━━━━━━━━━━━━━━━━━━\u001b[0m\u001b[37m\u001b[0m \u001b[1m60s\u001b[0m 3ms/step - accuracy: 0.9455 - auc: 0.6916 - loss: 0.1990 - val_accuracy: 0.9457 - val_auc: 0.6981 - val_loss: 0.1979\n",
            "Epoch 12/15\n",
            "\u001b[1m18725/18725\u001b[0m \u001b[32m━━━━━━━━━━━━━━━━━━━━\u001b[0m\u001b[37m\u001b[0m \u001b[1m80s\u001b[0m 3ms/step - accuracy: 0.9457 - auc: 0.6950 - loss: 0.1984 - val_accuracy: 0.9457 - val_auc: 0.6976 - val_loss: 0.1979\n",
            "Epoch 13/15\n",
            "\u001b[1m18725/18725\u001b[0m \u001b[32m━━━━━━━━━━━━━━━━━━━━\u001b[0m\u001b[37m\u001b[0m \u001b[1m83s\u001b[0m 3ms/step - accuracy: 0.9453 - auc: 0.6962 - loss: 0.1995 - val_accuracy: 0.9457 - val_auc: 0.6986 - val_loss: 0.1974\n",
            "Epoch 14/15\n",
            "\u001b[1m18725/18725\u001b[0m \u001b[32m━━━━━━━━━━━━━━━━━━━━\u001b[0m\u001b[37m\u001b[0m \u001b[1m58s\u001b[0m 3ms/step - accuracy: 0.9457 - auc: 0.6962 - loss: 0.1977 - val_accuracy: 0.9457 - val_auc: 0.6995 - val_loss: 0.1973\n",
            "Epoch 15/15\n",
            "\u001b[1m18725/18725\u001b[0m \u001b[32m━━━━━━━━━━━━━━━━━━━━\u001b[0m\u001b[37m\u001b[0m \u001b[1m84s\u001b[0m 3ms/step - accuracy: 0.9453 - auc: 0.6972 - loss: 0.1987 - val_accuracy: 0.9457 - val_auc: 0.6998 - val_loss: 0.1973\n"
          ]
        }
      ]
    },
    {
      "cell_type": "markdown",
      "source": [
        "I ran all 15 epochs because my validation loss kept improving or bouncing down within every 3-epoch patience window, so early stopping never triggered. My training accuracy climbed above 94.5 %, and more importantly my AUC went from around 0.503 in epoch 1 up to about 0.697 by the final epoch. This shows the CNN learned meaningful patterns—despite inflated accuracy from class imbalance, the steadily rising AUC confirms it ranks default risk far better than random guessing.\n",
        "\n",
        "\n",
        "\n",
        "\n",
        "\n",
        "\n",
        "\n"
      ],
      "metadata": {
        "id": "SjySY0MwRF-p"
      }
    },
    {
      "cell_type": "markdown",
      "source": [
        "___\n",
        "13. ### Evaluate Model on Test Set  \n",
        "This cell uses the trained CNN to predict on the test set, computes the AUC and classification metrics at a 0.5 threshold, and visualizes the confusion matrix.\n"
      ],
      "metadata": {
        "id": "TQq3tBvpRqVx"
      }
    },
    {
      "cell_type": "code",
      "source": [
        "# Predict default probabilities and convert to binary predictions\n",
        "y_pred_prob = model.predict(X_test).ravel()          # get probability for each test example\n",
        "y_pred      = (y_pred_prob >= 0.5).astype(int)       # label as 1 (default) if prob ≥ 0.5\n",
        "\n",
        "# Print overall AUC and detailed precision/recall/F1 scores\n",
        "print(\"Test AUC: \", roc_auc_score(y_test, y_pred_prob).round(4))\n",
        "print(classification_report(y_test, y_pred, digits=4))\n",
        "\n",
        "# Build and display the confusion matrix at threshold=0.5\n",
        "cm = confusion_matrix(y_test, y_pred)\n",
        "disp = ConfusionMatrixDisplay(\n",
        "    confusion_matrix=cm,\n",
        "    display_labels=[\"No Default (0)\", \"Default (1)\"]\n",
        ")\n",
        "disp.plot(cmap=\"Blues\", values_format=\"d\")\n",
        "plt.title(\"Confusion Matrix @ threshold=0.5\")\n",
        "plt.show()\n"
      ],
      "metadata": {
        "colab": {
          "base_uri": "https://localhost:8080/",
          "height": 663
        },
        "id": "FpU4uzR74d3N",
        "outputId": "8647b6c3-16bc-415d-dd4b-4fbcbd1458aa"
      },
      "execution_count": null,
      "outputs": [
        {
          "output_type": "stream",
          "name": "stdout",
          "text": [
            "\u001b[1m4013/4013\u001b[0m \u001b[32m━━━━━━━━━━━━━━━━━━━━\u001b[0m\u001b[37m\u001b[0m \u001b[1m5s\u001b[0m 1ms/step\n",
            "Test AUC:  0.6998\n",
            "              precision    recall  f1-score   support\n",
            "\n",
            "           0     0.9457    1.0000    0.9721    121426\n",
            "           1     0.0000    0.0000    0.0000      6970\n",
            "\n",
            "    accuracy                         0.9457    128396\n",
            "   macro avg     0.4729    0.5000    0.4861    128396\n",
            "weighted avg     0.8944    0.9457    0.9193    128396\n",
            "\n"
          ]
        },
        {
          "output_type": "display_data",
          "data": {
            "text/plain": [
              "<Figure size 640x480 with 2 Axes>"
            ],
            "image/png": "[encoded data removed]"
          },
          "metadata": {}
        }
      ]
    },
    {
      "cell_type": "markdown",
      "source": [
        "On the test set, the CNN achieves an AUC of about 0.6998, showing it ranks defaults substantially better than chance. However, at the standard 0.5 cutoff it predicts no defaults—so while precision and recall for the majority “No Default” class are both perfect, it misses all default cases (0 true positives). This gives a high overall accuracy of 94.57% but zero recall on the default class, indicating you’ll need to lower the decision threshold or apply stronger class‐imbalance handling before making production predictions."
      ],
      "metadata": {
        "id": "xy91rKq2R_8S"
      }
    },
    {
      "cell_type": "markdown",
      "source": [
        "___\n",
        "14. ### Find Optimal Decision Threshold Based on F1-Score  \n",
        "This cell tests a range of probability cutoffs on the validation set, computes the F1-score for each, and picks the threshold that gives the highest F1—so we can better catch defaults while keeping false alarms low.\n"
      ],
      "metadata": {
        "id": "rxzAmvxgSX-m"
      }
    },
    {
      "cell_type": "code",
      "source": [
        "# Get predicted probabilities on the validation set once\n",
        "probs = model.predict(X_val).ravel()\n",
        "\n",
        "# Define a list of thresholds to try between 0.1 and 0.9\n",
        "ths = np.linspace(0.1, 0.9, 17)\n",
        "\n",
        "# For each threshold, compute F1-score on the validation labels\n",
        "f1s = [\n",
        "    f1_score(y_val, (probs >= t).astype(int))\n",
        "    for t in ths\n",
        "]\n",
        "\n",
        "# Find the index of the best F1, then the corresponding threshold\n",
        "best_idx = np.argmax(f1s)\n",
        "best_t   = ths[best_idx]\n",
        "best_f1  = f1s[best_idx]\n",
        "\n",
        "# Print out the best threshold and its F1-score\n",
        "print(\"Best threshold (val):\", best_t, \"→ F1:\", round(best_f1, 4))\n"
      ],
      "metadata": {
        "colab": {
          "base_uri": "https://localhost:8080/"
        },
        "id": "aKwRvhPsM9cO",
        "outputId": "c730e1e7-06ad-4d09-9de5-829f5e9e44a6"
      },
      "execution_count": null,
      "outputs": [
        {
          "output_type": "stream",
          "name": "stdout",
          "text": [
            "\u001b[1m4013/4013\u001b[0m \u001b[32m━━━━━━━━━━━━━━━━━━━━\u001b[0m\u001b[37m\u001b[0m \u001b[1m5s\u001b[0m 1ms/step\n",
            "Best threshold (val): 0.1 → F1: 0.1903\n"
          ]
        }
      ]
    },
    {
      "cell_type": "markdown",
      "source": [
        "This shows that using a cutoff of 0.1 on the predicted probabilities gives the highest F1‐score of 0.1903 on the validation set. In other words, labeling any loan with predicted default probability ≥ 0.1 as “default” achieves the best balance of precision and recall for this model."
      ],
      "metadata": {
        "id": "fuEHBdFDSosH"
      }
    },
    {
      "cell_type": "markdown",
      "source": [
        "___\n",
        "15. ### Evaluate on Test Set with Optimal Threshold  \n",
        "This cell applies the best threshold (0.1) found on the validation set to the test predictions, prints updated performance metrics, and shows the confusion matrix at this cutoff.\n"
      ],
      "metadata": {
        "id": "hcrSZPWmTFjz"
      }
    },
    {
      "cell_type": "code",
      "source": [
        "# Predict default probabilities and binarize at the chosen threshold = 0.1\n",
        "y_pred_prob = model.predict(X_test).ravel()       # get probabilities\n",
        "y_pred      = (y_pred_prob >= 0.1).astype(int)    # label as default if prob ≥ 0.1\n",
        "\n",
        "# Print AUC (same as before) and new classification report\n",
        "print(\"Test AUC: \", roc_auc_score(y_test, y_pred_prob).round(4))\n",
        "print(classification_report(y_test, y_pred, digits=4))\n",
        "\n",
        "# Build and plot the confusion matrix at threshold=0.1\n",
        "cm = confusion_matrix(y_test, y_pred)\n",
        "disp = ConfusionMatrixDisplay(\n",
        "    confusion_matrix=cm,\n",
        "    display_labels=[\"No Default (0)\", \"Default (1)\"]\n",
        ")\n",
        "disp.plot(cmap=\"Blues\", values_format=\"d\")\n",
        "plt.title(\"Confusion Matrix @ threshold=0.1\")\n",
        "plt.show()\n",
        "\n"
      ],
      "metadata": {
        "colab": {
          "base_uri": "https://localhost:8080/",
          "height": 663
        },
        "id": "1-BCHqaOPqVZ",
        "outputId": "4e913ce8-efd9-4936-f3bd-fc45aa4b5834"
      },
      "execution_count": null,
      "outputs": [
        {
          "output_type": "stream",
          "name": "stdout",
          "text": [
            "\u001b[1m4013/4013\u001b[0m \u001b[32m━━━━━━━━━━━━━━━━━━━━\u001b[0m\u001b[37m\u001b[0m \u001b[1m5s\u001b[0m 1ms/step\n",
            "Test AUC:  0.6998\n",
            "              precision    recall  f1-score   support\n",
            "\n",
            "           0     0.9580    0.8698    0.9118    121426\n",
            "           1     0.1292    0.3364    0.1867      6970\n",
            "\n",
            "    accuracy                         0.8409    128396\n",
            "   macro avg     0.5436    0.6031    0.5493    128396\n",
            "weighted avg     0.9131    0.8409    0.8724    128396\n",
            "\n"
          ]
        },
        {
          "output_type": "display_data",
          "data": {
            "text/plain": [
              "<Figure size 640x480 with 2 Axes>"
            ],
            "image/png": "[encoded data removed]"
          },
          "metadata": {}
        }
      ]
    },
    {
      "cell_type": "markdown",
      "source": [
        "With the threshold lowered to 0.1, the model still has AUC ≈ 0.6998, but now it catches some defaults:\n",
        "\n",
        "True negatives: 105,620\n",
        "\n",
        "False positives: 15,806\n",
        "\n",
        "False negatives: 4,625\n",
        "\n",
        "True positives: 2,345\n",
        "\n",
        "Precision for defaults is about 12.9 %, recall is about 33.6 %, and F1 is around 0.187. Overall accuracy drops to ≈ 84.1 % because we trade some correct “no default” predictions for catching more true defaults. This shows how adjusting the cutoff can balance detecting rare events versus overall accuracy.\n",
        "\n",
        "\n",
        "\n",
        "\n",
        "\n",
        "\n",
        "\n"
      ],
      "metadata": {
        "id": "NBS24YM7TnjV"
      }
    },
    {
      "cell_type": "markdown",
      "source": [
        "___\n",
        "16. ### Evaluate on Test Set at Threshold=0.2  \n",
        "This cell applies a 0.2 cutoff to the predicted probabilities on the test set, prints the updated classification metrics, and displays the confusion matrix so we can see how raising the threshold affects defaults caught versus errors.\n"
      ],
      "metadata": {
        "id": "qAH7EQhbUUmZ"
      }
    },
    {
      "cell_type": "code",
      "source": [
        "# 1. Get default probabilities and apply threshold = 0.2\n",
        "y_pred_prob = model.predict(X_test).ravel()       # predicted default probabilities\n",
        "y_pred      = (y_pred_prob >= 0.2).astype(int)    # predict 1 if prob ≥ 0.2\n",
        "\n",
        "# 2. Print AUC (unchanged) and new classification report\n",
        "print(\"Test AUC: \", roc_auc_score(y_test, y_pred_prob).round(4))\n",
        "print(classification_report(y_test, y_pred, digits=4))\n",
        "\n",
        "# 3. Compute and plot confusion matrix at 0.2 cutoff\n",
        "cm = confusion_matrix(y_test, y_pred)\n",
        "disp = ConfusionMatrixDisplay(\n",
        "    confusion_matrix=cm,\n",
        "    display_labels=[\"No Default (0)\", \"Default (1)\"]\n",
        ")\n",
        "disp.plot(cmap=\"Blues\", values_format=\"d\")\n",
        "plt.title(\"Confusion Matrix @ threshold=0.2\")\n",
        "plt.show()\n"
      ],
      "metadata": {
        "colab": {
          "base_uri": "https://localhost:8080/",
          "height": 663
        },
        "id": "sAUSGdAQeYTR",
        "outputId": "82bbc122-3e4f-4a9b-e7de-0ee4fa1816ec"
      },
      "execution_count": null,
      "outputs": [
        {
          "output_type": "stream",
          "name": "stdout",
          "text": [
            "\u001b[1m4013/4013\u001b[0m \u001b[32m━━━━━━━━━━━━━━━━━━━━\u001b[0m\u001b[37m\u001b[0m \u001b[1m5s\u001b[0m 1ms/step\n",
            "Test AUC:  0.6998\n",
            "              precision    recall  f1-score   support\n",
            "\n",
            "           0     0.9487    0.9867    0.9673    121426\n",
            "           1     0.2315    0.0696    0.1070      6970\n",
            "\n",
            "    accuracy                         0.9370    128396\n",
            "   macro avg     0.5901    0.5282    0.5372    128396\n",
            "weighted avg     0.9097    0.9370    0.9206    128396\n",
            "\n"
          ]
        },
        {
          "output_type": "display_data",
          "data": {
            "text/plain": [
              "<Figure size 640x480 with 2 Axes>"
            ],
            "image/png": "[encoded data removed]"
          },
          "metadata": {}
        }
      ]
    },
    {
      "cell_type": "markdown",
      "source": [
        "With a higher cutoff of 0.2, the CNN still achieves AUC ≈ 0.6998, but its trade-offs shift dramatically:\n",
        "\n",
        "True negatives: 119 816\n",
        "\n",
        "False positives: 1 610\n",
        "\n",
        "False negatives: 6 485\n",
        "\n",
        "True positives: 485\n",
        "\n",
        "For the default class, that works out to precision ≈ 23.2 % (485 / (485 + 1 610)) but only recall ≈ 6.96 % (485 / 6 970), yielding F1 ≈ 0.107. Overall accuracy rises to 93.70 %, since we predict “no default” more conservatively—but in doing so we miss the vast majority of actual defaults. This clearly illustrates the precision–recall trade-off when you move the decision threshold upward."
      ],
      "metadata": {
        "id": "qExbmstCUfHE"
      }
    },
    {
      "cell_type": "markdown",
      "source": [
        "***Save the Trained Model to Google Drive***"
      ],
      "metadata": {
        "id": "ra6A2JC6oiZY"
      }
    },
    {
      "cell_type": "code",
      "source": [
        "model.save('/content/drive/MyDrive/CNN_model.h5')\n",
        "print(\"Model saved to Drive as CNN_model.h5\")"
      ],
      "metadata": {
        "colab": {
          "base_uri": "https://localhost:8080/"
        },
        "id": "EOGwmZ5aoKre",
        "outputId": "c3e494f0-e697-4ad2-b67e-baddd6df837e"
      },
      "execution_count": null,
      "outputs": [
        {
          "output_type": "stream",
          "name": "stderr",
          "text": [
            "WARNING:absl:You are saving your model as an HDF5 file via `model.save()` or `keras.saving.save_model(model)`. This file format is considered legacy. We recommend using instead the native Keras format, e.g. `model.save('my_model.keras')` or `keras.saving.save_model(model, 'my_model.keras')`. \n"
          ]
        },
        {
          "output_type": "stream",
          "name": "stdout",
          "text": [
            "Model saved to Drive as CNN_model.h5\n"
          ]
        }
      ]
    }
  ]
}